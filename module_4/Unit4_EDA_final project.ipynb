{
 "cells": [
  {
   "cell_type": "markdown",
   "metadata": {},
   "source": [
    "# EDA"
   ]
  },
  {
   "cell_type": "markdown",
   "metadata": {},
   "source": [
    "Суть проекта — отследить влияние условий жизни учащихся в возрасте от 15 до 22 лет на их успеваемость по математике, чтобы в дальнейшем выявлять студентов, находящихся в группе риска."
   ]
  },
  {
   "cell_type": "markdown",
   "metadata": {},
   "source": [
    "Для начала импортируем все необходимые библиотеки"
   ]
  },
  {
   "cell_type": "code",
   "execution_count": 1,
   "metadata": {},
   "outputs": [],
   "source": [
    "import pandas as pd\n",
    "import numpy as np\n",
    "import matplotlib.pyplot as plt\n",
    "import seaborn as sns\n",
    "from itertools import combinations\n",
    "from scipy.stats import ttest_ind\n",
    "\n",
    "pd.set_option('display.max_rows', 50)\n",
    "pd.set_option('display.max_columns', 50)"
   ]
  },
  {
   "cell_type": "markdown",
   "metadata": {},
   "source": [
    "Определим функции для построения графиков, которые будем использовать в дальнейшем для выявления значимости столбцов"
   ]
  },
  {
   "cell_type": "code",
   "execution_count": 2,
   "metadata": {},
   "outputs": [],
   "source": [
    "def get_boxplot(column):\n",
    "    fig, ax = plt.subplots(figsize = (14, 4))\n",
    "    sns.boxplot(x=column, y='score', \n",
    "                data=df.loc[df.loc[:, column].isin(df.loc[:, column].value_counts().index[:10])], ax=ax)\n",
    "    plt.xticks(rotation=45)\n",
    "    ax.set_title('Boxplot for ' + column)\n",
    "    plt.show()"
   ]
  },
  {
   "cell_type": "markdown",
   "metadata": {},
   "source": [
    "Исходные данные будут храниться в переменной df. Получим сводную информацию и посмотрим на то, как выглядят данные"
   ]
  },
  {
   "cell_type": "code",
   "execution_count": 3,
   "metadata": {},
   "outputs": [
    {
     "name": "stdout",
     "output_type": "stream",
     "text": [
      "<class 'pandas.core.frame.DataFrame'>\n",
      "RangeIndex: 395 entries, 0 to 394\n",
      "Data columns (total 30 columns):\n",
      " #   Column               Non-Null Count  Dtype  \n",
      "---  ------               --------------  -----  \n",
      " 0   school               395 non-null    object \n",
      " 1   sex                  395 non-null    object \n",
      " 2   age                  395 non-null    int64  \n",
      " 3   address              378 non-null    object \n",
      " 4   famsize              368 non-null    object \n",
      " 5   Pstatus              350 non-null    object \n",
      " 6   Medu                 392 non-null    float64\n",
      " 7   Fedu                 371 non-null    float64\n",
      " 8   Mjob                 376 non-null    object \n",
      " 9   Fjob                 359 non-null    object \n",
      " 10  reason               378 non-null    object \n",
      " 11  guardian             364 non-null    object \n",
      " 12  traveltime           367 non-null    float64\n",
      " 13  studytime            388 non-null    float64\n",
      " 14  failures             373 non-null    float64\n",
      " 15  schoolsup            386 non-null    object \n",
      " 16  famsup               356 non-null    object \n",
      " 17  paid                 355 non-null    object \n",
      " 18  activities           381 non-null    object \n",
      " 19  nursery              379 non-null    object \n",
      " 20  studytime, granular  388 non-null    float64\n",
      " 21  higher               375 non-null    object \n",
      " 22  internet             361 non-null    object \n",
      " 23  romantic             364 non-null    object \n",
      " 24  famrel               368 non-null    float64\n",
      " 25  freetime             384 non-null    float64\n",
      " 26  goout                387 non-null    float64\n",
      " 27  health               380 non-null    float64\n",
      " 28  absences             383 non-null    float64\n",
      " 29  score                389 non-null    float64\n",
      "dtypes: float64(12), int64(1), object(17)\n",
      "memory usage: 92.7+ KB\n"
     ]
    },
    {
     "data": {
      "text/plain": [
       "None"
      ]
     },
     "metadata": {},
     "output_type": "display_data"
    },
    {
     "data": {
      "text/html": [
       "<div>\n",
       "<style scoped>\n",
       "    .dataframe tbody tr th:only-of-type {\n",
       "        vertical-align: middle;\n",
       "    }\n",
       "\n",
       "    .dataframe tbody tr th {\n",
       "        vertical-align: top;\n",
       "    }\n",
       "\n",
       "    .dataframe thead th {\n",
       "        text-align: right;\n",
       "    }\n",
       "</style>\n",
       "<table border=\"1\" class=\"dataframe\">\n",
       "  <thead>\n",
       "    <tr style=\"text-align: right;\">\n",
       "      <th></th>\n",
       "      <th>school</th>\n",
       "      <th>sex</th>\n",
       "      <th>age</th>\n",
       "      <th>address</th>\n",
       "      <th>famsize</th>\n",
       "      <th>Pstatus</th>\n",
       "      <th>Medu</th>\n",
       "      <th>Fedu</th>\n",
       "      <th>Mjob</th>\n",
       "      <th>Fjob</th>\n",
       "      <th>reason</th>\n",
       "      <th>guardian</th>\n",
       "      <th>traveltime</th>\n",
       "      <th>studytime</th>\n",
       "      <th>failures</th>\n",
       "      <th>schoolsup</th>\n",
       "      <th>famsup</th>\n",
       "      <th>paid</th>\n",
       "      <th>activities</th>\n",
       "      <th>nursery</th>\n",
       "      <th>studytime, granular</th>\n",
       "      <th>higher</th>\n",
       "      <th>internet</th>\n",
       "      <th>romantic</th>\n",
       "      <th>famrel</th>\n",
       "      <th>freetime</th>\n",
       "      <th>goout</th>\n",
       "      <th>health</th>\n",
       "      <th>absences</th>\n",
       "      <th>score</th>\n",
       "    </tr>\n",
       "  </thead>\n",
       "  <tbody>\n",
       "    <tr>\n",
       "      <th>0</th>\n",
       "      <td>GP</td>\n",
       "      <td>F</td>\n",
       "      <td>18</td>\n",
       "      <td>U</td>\n",
       "      <td>NaN</td>\n",
       "      <td>A</td>\n",
       "      <td>4.0</td>\n",
       "      <td>4.0</td>\n",
       "      <td>at_home</td>\n",
       "      <td>teacher</td>\n",
       "      <td>course</td>\n",
       "      <td>mother</td>\n",
       "      <td>2.0</td>\n",
       "      <td>2.0</td>\n",
       "      <td>0.0</td>\n",
       "      <td>yes</td>\n",
       "      <td>no</td>\n",
       "      <td>no</td>\n",
       "      <td>no</td>\n",
       "      <td>yes</td>\n",
       "      <td>-6.0</td>\n",
       "      <td>yes</td>\n",
       "      <td>NaN</td>\n",
       "      <td>no</td>\n",
       "      <td>4.0</td>\n",
       "      <td>3.0</td>\n",
       "      <td>4.0</td>\n",
       "      <td>3.0</td>\n",
       "      <td>6.0</td>\n",
       "      <td>30.0</td>\n",
       "    </tr>\n",
       "    <tr>\n",
       "      <th>1</th>\n",
       "      <td>GP</td>\n",
       "      <td>F</td>\n",
       "      <td>17</td>\n",
       "      <td>U</td>\n",
       "      <td>GT3</td>\n",
       "      <td>NaN</td>\n",
       "      <td>1.0</td>\n",
       "      <td>1.0</td>\n",
       "      <td>at_home</td>\n",
       "      <td>other</td>\n",
       "      <td>course</td>\n",
       "      <td>father</td>\n",
       "      <td>1.0</td>\n",
       "      <td>2.0</td>\n",
       "      <td>0.0</td>\n",
       "      <td>no</td>\n",
       "      <td>yes</td>\n",
       "      <td>no</td>\n",
       "      <td>no</td>\n",
       "      <td>no</td>\n",
       "      <td>-6.0</td>\n",
       "      <td>yes</td>\n",
       "      <td>yes</td>\n",
       "      <td>no</td>\n",
       "      <td>5.0</td>\n",
       "      <td>3.0</td>\n",
       "      <td>3.0</td>\n",
       "      <td>3.0</td>\n",
       "      <td>4.0</td>\n",
       "      <td>30.0</td>\n",
       "    </tr>\n",
       "    <tr>\n",
       "      <th>2</th>\n",
       "      <td>GP</td>\n",
       "      <td>F</td>\n",
       "      <td>15</td>\n",
       "      <td>U</td>\n",
       "      <td>LE3</td>\n",
       "      <td>T</td>\n",
       "      <td>1.0</td>\n",
       "      <td>1.0</td>\n",
       "      <td>at_home</td>\n",
       "      <td>other</td>\n",
       "      <td>other</td>\n",
       "      <td>mother</td>\n",
       "      <td>1.0</td>\n",
       "      <td>2.0</td>\n",
       "      <td>3.0</td>\n",
       "      <td>yes</td>\n",
       "      <td>no</td>\n",
       "      <td>NaN</td>\n",
       "      <td>no</td>\n",
       "      <td>yes</td>\n",
       "      <td>-6.0</td>\n",
       "      <td>yes</td>\n",
       "      <td>yes</td>\n",
       "      <td>NaN</td>\n",
       "      <td>4.0</td>\n",
       "      <td>3.0</td>\n",
       "      <td>2.0</td>\n",
       "      <td>3.0</td>\n",
       "      <td>10.0</td>\n",
       "      <td>50.0</td>\n",
       "    </tr>\n",
       "    <tr>\n",
       "      <th>3</th>\n",
       "      <td>GP</td>\n",
       "      <td>F</td>\n",
       "      <td>15</td>\n",
       "      <td>U</td>\n",
       "      <td>GT3</td>\n",
       "      <td>T</td>\n",
       "      <td>4.0</td>\n",
       "      <td>2.0</td>\n",
       "      <td>health</td>\n",
       "      <td>NaN</td>\n",
       "      <td>home</td>\n",
       "      <td>mother</td>\n",
       "      <td>1.0</td>\n",
       "      <td>3.0</td>\n",
       "      <td>0.0</td>\n",
       "      <td>no</td>\n",
       "      <td>yes</td>\n",
       "      <td>yes</td>\n",
       "      <td>yes</td>\n",
       "      <td>yes</td>\n",
       "      <td>-9.0</td>\n",
       "      <td>yes</td>\n",
       "      <td>yes</td>\n",
       "      <td>yes</td>\n",
       "      <td>3.0</td>\n",
       "      <td>2.0</td>\n",
       "      <td>2.0</td>\n",
       "      <td>5.0</td>\n",
       "      <td>2.0</td>\n",
       "      <td>75.0</td>\n",
       "    </tr>\n",
       "    <tr>\n",
       "      <th>4</th>\n",
       "      <td>GP</td>\n",
       "      <td>F</td>\n",
       "      <td>16</td>\n",
       "      <td>U</td>\n",
       "      <td>GT3</td>\n",
       "      <td>T</td>\n",
       "      <td>3.0</td>\n",
       "      <td>3.0</td>\n",
       "      <td>other</td>\n",
       "      <td>other</td>\n",
       "      <td>home</td>\n",
       "      <td>father</td>\n",
       "      <td>1.0</td>\n",
       "      <td>2.0</td>\n",
       "      <td>0.0</td>\n",
       "      <td>no</td>\n",
       "      <td>yes</td>\n",
       "      <td>yes</td>\n",
       "      <td>no</td>\n",
       "      <td>yes</td>\n",
       "      <td>-6.0</td>\n",
       "      <td>yes</td>\n",
       "      <td>no</td>\n",
       "      <td>no</td>\n",
       "      <td>4.0</td>\n",
       "      <td>3.0</td>\n",
       "      <td>2.0</td>\n",
       "      <td>5.0</td>\n",
       "      <td>4.0</td>\n",
       "      <td>50.0</td>\n",
       "    </tr>\n",
       "    <tr>\n",
       "      <th>5</th>\n",
       "      <td>GP</td>\n",
       "      <td>M</td>\n",
       "      <td>16</td>\n",
       "      <td>U</td>\n",
       "      <td>LE3</td>\n",
       "      <td>T</td>\n",
       "      <td>4.0</td>\n",
       "      <td>3.0</td>\n",
       "      <td>services</td>\n",
       "      <td>other</td>\n",
       "      <td>reputation</td>\n",
       "      <td>mother</td>\n",
       "      <td>1.0</td>\n",
       "      <td>2.0</td>\n",
       "      <td>0.0</td>\n",
       "      <td>no</td>\n",
       "      <td>yes</td>\n",
       "      <td>yes</td>\n",
       "      <td>yes</td>\n",
       "      <td>yes</td>\n",
       "      <td>-6.0</td>\n",
       "      <td>yes</td>\n",
       "      <td>yes</td>\n",
       "      <td>no</td>\n",
       "      <td>5.0</td>\n",
       "      <td>4.0</td>\n",
       "      <td>2.0</td>\n",
       "      <td>5.0</td>\n",
       "      <td>10.0</td>\n",
       "      <td>75.0</td>\n",
       "    </tr>\n",
       "    <tr>\n",
       "      <th>6</th>\n",
       "      <td>GP</td>\n",
       "      <td>M</td>\n",
       "      <td>16</td>\n",
       "      <td>NaN</td>\n",
       "      <td>LE3</td>\n",
       "      <td>T</td>\n",
       "      <td>2.0</td>\n",
       "      <td>2.0</td>\n",
       "      <td>other</td>\n",
       "      <td>other</td>\n",
       "      <td>home</td>\n",
       "      <td>mother</td>\n",
       "      <td>1.0</td>\n",
       "      <td>2.0</td>\n",
       "      <td>0.0</td>\n",
       "      <td>no</td>\n",
       "      <td>no</td>\n",
       "      <td>no</td>\n",
       "      <td>no</td>\n",
       "      <td>yes</td>\n",
       "      <td>-6.0</td>\n",
       "      <td>yes</td>\n",
       "      <td>yes</td>\n",
       "      <td>no</td>\n",
       "      <td>4.0</td>\n",
       "      <td>4.0</td>\n",
       "      <td>4.0</td>\n",
       "      <td>3.0</td>\n",
       "      <td>0.0</td>\n",
       "      <td>55.0</td>\n",
       "    </tr>\n",
       "    <tr>\n",
       "      <th>7</th>\n",
       "      <td>GP</td>\n",
       "      <td>F</td>\n",
       "      <td>17</td>\n",
       "      <td>U</td>\n",
       "      <td>GT3</td>\n",
       "      <td>A</td>\n",
       "      <td>4.0</td>\n",
       "      <td>4.0</td>\n",
       "      <td>other</td>\n",
       "      <td>teacher</td>\n",
       "      <td>home</td>\n",
       "      <td>mother</td>\n",
       "      <td>2.0</td>\n",
       "      <td>2.0</td>\n",
       "      <td>0.0</td>\n",
       "      <td>yes</td>\n",
       "      <td>yes</td>\n",
       "      <td>no</td>\n",
       "      <td>no</td>\n",
       "      <td>yes</td>\n",
       "      <td>-6.0</td>\n",
       "      <td>yes</td>\n",
       "      <td>no</td>\n",
       "      <td>no</td>\n",
       "      <td>4.0</td>\n",
       "      <td>1.0</td>\n",
       "      <td>4.0</td>\n",
       "      <td>1.0</td>\n",
       "      <td>6.0</td>\n",
       "      <td>30.0</td>\n",
       "    </tr>\n",
       "    <tr>\n",
       "      <th>8</th>\n",
       "      <td>GP</td>\n",
       "      <td>M</td>\n",
       "      <td>15</td>\n",
       "      <td>U</td>\n",
       "      <td>LE3</td>\n",
       "      <td>A</td>\n",
       "      <td>3.0</td>\n",
       "      <td>2.0</td>\n",
       "      <td>services</td>\n",
       "      <td>other</td>\n",
       "      <td>home</td>\n",
       "      <td>mother</td>\n",
       "      <td>1.0</td>\n",
       "      <td>2.0</td>\n",
       "      <td>0.0</td>\n",
       "      <td>no</td>\n",
       "      <td>yes</td>\n",
       "      <td>yes</td>\n",
       "      <td>no</td>\n",
       "      <td>yes</td>\n",
       "      <td>-6.0</td>\n",
       "      <td>yes</td>\n",
       "      <td>yes</td>\n",
       "      <td>no</td>\n",
       "      <td>NaN</td>\n",
       "      <td>2.0</td>\n",
       "      <td>2.0</td>\n",
       "      <td>1.0</td>\n",
       "      <td>0.0</td>\n",
       "      <td>95.0</td>\n",
       "    </tr>\n",
       "    <tr>\n",
       "      <th>9</th>\n",
       "      <td>GP</td>\n",
       "      <td>M</td>\n",
       "      <td>15</td>\n",
       "      <td>U</td>\n",
       "      <td>NaN</td>\n",
       "      <td>NaN</td>\n",
       "      <td>3.0</td>\n",
       "      <td>4.0</td>\n",
       "      <td>other</td>\n",
       "      <td>other</td>\n",
       "      <td>home</td>\n",
       "      <td>mother</td>\n",
       "      <td>1.0</td>\n",
       "      <td>2.0</td>\n",
       "      <td>0.0</td>\n",
       "      <td>no</td>\n",
       "      <td>yes</td>\n",
       "      <td>yes</td>\n",
       "      <td>yes</td>\n",
       "      <td>yes</td>\n",
       "      <td>-6.0</td>\n",
       "      <td>yes</td>\n",
       "      <td>yes</td>\n",
       "      <td>no</td>\n",
       "      <td>5.0</td>\n",
       "      <td>5.0</td>\n",
       "      <td>1.0</td>\n",
       "      <td>5.0</td>\n",
       "      <td>0.0</td>\n",
       "      <td>75.0</td>\n",
       "    </tr>\n",
       "  </tbody>\n",
       "</table>\n",
       "</div>"
      ],
      "text/plain": [
       "  school sex  age address famsize Pstatus  Medu  Fedu      Mjob     Fjob  \\\n",
       "0     GP   F   18       U     NaN       A   4.0   4.0   at_home  teacher   \n",
       "1     GP   F   17       U     GT3     NaN   1.0   1.0   at_home    other   \n",
       "2     GP   F   15       U     LE3       T   1.0   1.0   at_home    other   \n",
       "3     GP   F   15       U     GT3       T   4.0   2.0    health      NaN   \n",
       "4     GP   F   16       U     GT3       T   3.0   3.0     other    other   \n",
       "5     GP   M   16       U     LE3       T   4.0   3.0  services    other   \n",
       "6     GP   M   16     NaN     LE3       T   2.0   2.0     other    other   \n",
       "7     GP   F   17       U     GT3       A   4.0   4.0     other  teacher   \n",
       "8     GP   M   15       U     LE3       A   3.0   2.0  services    other   \n",
       "9     GP   M   15       U     NaN     NaN   3.0   4.0     other    other   \n",
       "\n",
       "       reason guardian  traveltime  studytime  failures schoolsup famsup paid  \\\n",
       "0      course   mother         2.0        2.0       0.0       yes     no   no   \n",
       "1      course   father         1.0        2.0       0.0        no    yes   no   \n",
       "2       other   mother         1.0        2.0       3.0       yes     no  NaN   \n",
       "3        home   mother         1.0        3.0       0.0        no    yes  yes   \n",
       "4        home   father         1.0        2.0       0.0        no    yes  yes   \n",
       "5  reputation   mother         1.0        2.0       0.0        no    yes  yes   \n",
       "6        home   mother         1.0        2.0       0.0        no     no   no   \n",
       "7        home   mother         2.0        2.0       0.0       yes    yes   no   \n",
       "8        home   mother         1.0        2.0       0.0        no    yes  yes   \n",
       "9        home   mother         1.0        2.0       0.0        no    yes  yes   \n",
       "\n",
       "  activities nursery  studytime, granular higher internet romantic  famrel  \\\n",
       "0         no     yes                 -6.0    yes      NaN       no     4.0   \n",
       "1         no      no                 -6.0    yes      yes       no     5.0   \n",
       "2         no     yes                 -6.0    yes      yes      NaN     4.0   \n",
       "3        yes     yes                 -9.0    yes      yes      yes     3.0   \n",
       "4         no     yes                 -6.0    yes       no       no     4.0   \n",
       "5        yes     yes                 -6.0    yes      yes       no     5.0   \n",
       "6         no     yes                 -6.0    yes      yes       no     4.0   \n",
       "7         no     yes                 -6.0    yes       no       no     4.0   \n",
       "8         no     yes                 -6.0    yes      yes       no     NaN   \n",
       "9        yes     yes                 -6.0    yes      yes       no     5.0   \n",
       "\n",
       "   freetime  goout  health  absences  score  \n",
       "0       3.0    4.0     3.0       6.0   30.0  \n",
       "1       3.0    3.0     3.0       4.0   30.0  \n",
       "2       3.0    2.0     3.0      10.0   50.0  \n",
       "3       2.0    2.0     5.0       2.0   75.0  \n",
       "4       3.0    2.0     5.0       4.0   50.0  \n",
       "5       4.0    2.0     5.0      10.0   75.0  \n",
       "6       4.0    4.0     3.0       0.0   55.0  \n",
       "7       1.0    4.0     1.0       6.0   30.0  \n",
       "8       2.0    2.0     1.0       0.0   95.0  \n",
       "9       5.0    1.0     5.0       0.0   75.0  "
      ]
     },
     "execution_count": 3,
     "metadata": {},
     "output_type": "execute_result"
    }
   ],
   "source": [
    "df = pd.read_csv('stud_math.csv')\n",
    "display(df.info())\n",
    "df.head(10)"
   ]
  },
  {
   "cell_type": "markdown",
   "metadata": {},
   "source": [
    "В датасете всего 395 наблюдений и 29 признаков. Истичнно числовыми являются только age, absenses и score, остальные категориальные, причем часть из них биномиальные. Из всех признаков только 3 не содержат пропуски. Это 'school', 'sex', 'age'. Целевой переменной является 'score'. Посмотрим, сколько строк без пропусков:"
   ]
  },
  {
   "cell_type": "code",
   "execution_count": 4,
   "metadata": {},
   "outputs": [
    {
     "data": {
      "text/plain": [
       "97"
      ]
     },
     "execution_count": 4,
     "metadata": {},
     "output_type": "execute_result"
    }
   ],
   "source": [
    "len(df.dropna())"
   ]
  },
  {
   "cell_type": "markdown",
   "metadata": {},
   "source": [
    "Около 75% всех наблюдений содержат пропуски в том или ином столбце, поэтому удалять их прямым способом некорректно - потеряем слишком много данных. Будем обрабатывать каждый столбец отдельно."
   ]
  },
  {
   "cell_type": "markdown",
   "metadata": {},
   "source": [
    "# Переменная score\n",
    "Начнем с целевой переменной 'score'. Из описания столбцов видно, что в 6 наблюдениях значение переменной 'score' пропущено. Это около 1.5% наблюдений. Причины пропуска значения нам неизвестны. Поскольку переменная является целевой, заполнять пропуски каким-либо значением будет некорректно. Считаю разумным удалить эти строки:"
   ]
  },
  {
   "cell_type": "code",
   "execution_count": 5,
   "metadata": {},
   "outputs": [
    {
     "name": "stdout",
     "output_type": "stream",
     "text": [
      "Распределение значений score: \n",
      " 50.0     54\n",
      "55.0     46\n",
      "0.0      37\n",
      "75.0     33\n",
      "65.0     31\n",
      "40.0     31\n",
      "60.0     31\n",
      "70.0     27\n",
      "45.0     27\n",
      "80.0     16\n",
      "30.0     15\n",
      "90.0     12\n",
      "35.0      9\n",
      "25.0      7\n",
      "85.0      6\n",
      "95.0      5\n",
      "100.0     1\n",
      "20.0      1\n",
      "Name: score, dtype: int64\n"
     ]
    },
    {
     "data": {
      "text/plain": [
       "<matplotlib.axes._subplots.AxesSubplot at 0x242500cbbc8>"
      ]
     },
     "execution_count": 5,
     "metadata": {},
     "output_type": "execute_result"
    },
    {
     "data": {
      "image/png": "[encoded data removed]",
      "text/plain": [
       "<Figure size 432x288 with 1 Axes>"
      ]
     },
     "metadata": {
      "needs_background": "light"
     },
     "output_type": "display_data"
    }
   ],
   "source": [
    "df=df.dropna(axis=0, subset=['score'])\n",
    "print('Распределение значений score: \\n', df.score.value_counts())\n",
    "df.score.hist()"
   ]
  },
  {
   "cell_type": "markdown",
   "metadata": {},
   "source": [
    "В 37 наблюдениях целевая переменная имеет значение 0. Предполагаем, что такой балл мог быть получен скорее всего за неявку на экзамен (например, по состоянию здоровья) или аннулирование результатов по разного рода причинам. Удалять такие строки будет не совсем корректно, потому что неявка тоже может указывать на группу риска. Можно создать биномиальный столбец score_ind со значениями 0, если score == 0, и 1 в остальных случаях "
   ]
  },
  {
   "cell_type": "code",
   "execution_count": 6,
   "metadata": {},
   "outputs": [],
   "source": [
    "df['score_ind'] = df.apply(lambda x: 0 if x.score == 0 else 1, axis=1)"
   ]
  },
  {
   "cell_type": "markdown",
   "metadata": {},
   "source": [
    "# Признак school:"
   ]
  },
  {
   "cell_type": "code",
   "execution_count": 7,
   "metadata": {},
   "outputs": [
    {
     "data": {
      "text/plain": [
       "GP    344\n",
       "MS     45\n",
       "Name: school, dtype: int64"
      ]
     },
     "execution_count": 7,
     "metadata": {},
     "output_type": "execute_result"
    }
   ],
   "source": [
    "df.school.value_counts()"
   ]
  },
  {
   "cell_type": "markdown",
   "metadata": {},
   "source": [
    "В датасете представлены данные по учащимся двух школ: GP и MS. Причем 88% учеников из датасета учатся в школе GP. Данный признак в дальнейшем можно будем перевести в dummy-переменные"
   ]
  },
  {
   "cell_type": "code",
   "execution_count": 8,
   "metadata": {},
   "outputs": [],
   "source": [
    "#df2 = pd.get_dummies(df,columns=['school'])\n",
    "#f2 = df2[['school_GP','school_MS'] + df2.columns[:-2].tolist()]\n",
    "#df2.head(10)"
   ]
  },
  {
   "cell_type": "code",
   "execution_count": 9,
   "metadata": {
    "scrolled": true
   },
   "outputs": [
    {
     "data": {
      "image/png": "[encoded data removed]",
      "text/plain": [
       "<Figure size 1008x288 with 1 Axes>"
      ]
     },
     "metadata": {
      "needs_background": "light"
     },
     "output_type": "display_data"
    }
   ],
   "source": [
    "get_boxplot('school')"
   ]
  },
  {
   "cell_type": "markdown",
   "metadata": {},
   "source": [
    "Видим, что ученики школы GP имеют больший разброс, но и количество их в датасете существенно больше. Если анализировать только квартили, то в целом можно сделать предварительный вывод о значимости школы в результатах экзамена."
   ]
  },
  {
   "cell_type": "markdown",
   "metadata": {},
   "source": [
    "# Признаки sex и age:"
   ]
  },
  {
   "cell_type": "code",
   "execution_count": 10,
   "metadata": {},
   "outputs": [
    {
     "data": {
      "text/plain": [
       "F    204\n",
       "M    185\n",
       "Name: sex, dtype: int64"
      ]
     },
     "execution_count": 10,
     "metadata": {},
     "output_type": "execute_result"
    }
   ],
   "source": [
    "df.sex.value_counts()"
   ]
  },
  {
   "cell_type": "markdown",
   "metadata": {},
   "source": [
    "Поскольку значений действительно только 2 и пропусков нет. Пока оставим как есть, в дальнейшем можно будет аналогично названию школы перевести их в dummy-переменные"
   ]
  },
  {
   "cell_type": "code",
   "execution_count": 11,
   "metadata": {},
   "outputs": [],
   "source": [
    "#df3 = pd.get_dummies(df2,columns=['sex'])\n",
    "#df3 = df3[df3.columns[:2].tolist() + df3.columns[-2:].tolist() + df3.columns[2:-2].tolist()]\n",
    "#df3.head(10)"
   ]
  },
  {
   "cell_type": "code",
   "execution_count": 12,
   "metadata": {},
   "outputs": [
    {
     "name": "stdout",
     "output_type": "stream",
     "text": [
      "Распределение значений возраста:\n",
      " 16    103\n",
      "17     98\n",
      "15     82\n",
      "18     80\n",
      "19     21\n",
      "20      3\n",
      "22      1\n",
      "21      1\n",
      "Name: age, dtype: int64\n"
     ]
    },
    {
     "data": {
      "text/plain": [
       "count    389.000000\n",
       "mean      16.673522\n",
       "std        1.265662\n",
       "min       15.000000\n",
       "25%       16.000000\n",
       "50%       17.000000\n",
       "75%       18.000000\n",
       "max       22.000000\n",
       "Name: age, dtype: float64"
      ]
     },
     "execution_count": 12,
     "metadata": {},
     "output_type": "execute_result"
    },
    {
     "data": {
      "image/png": "[encoded data removed]",
      "text/plain": [
       "<Figure size 432x288 with 1 Axes>"
      ]
     },
     "metadata": {
      "needs_background": "light"
     },
     "output_type": "display_data"
    }
   ],
   "source": [
    "print('Распределение значений возраста:\\n', df.age.value_counts())\n",
    "df.age.hist(bins=8)\n",
    "df.age.describe()"
   ]
  },
  {
   "cell_type": "markdown",
   "metadata": {},
   "source": [
    "Действительно значения возраста строго в пределах от 15 до 22 лет, выбросов нет, большинство учеников до 18 лет включительно"
   ]
  },
  {
   "cell_type": "code",
   "execution_count": 13,
   "metadata": {},
   "outputs": [
    {
     "data": {
      "image/png": "[encoded data removed]",
      "text/plain": [
       "<Figure size 1008x288 with 1 Axes>"
      ]
     },
     "metadata": {
      "needs_background": "light"
     },
     "output_type": "display_data"
    }
   ],
   "source": [
    "get_boxplot('sex')"
   ]
  },
  {
   "cell_type": "code",
   "execution_count": 14,
   "metadata": {},
   "outputs": [
    {
     "data": {
      "image/png": "[encoded data removed]",
      "text/plain": [
       "<Figure size 1008x288 with 1 Axes>"
      ]
     },
     "metadata": {
      "needs_background": "light"
     },
     "output_type": "display_data"
    }
   ],
   "source": [
    "get_boxplot('age')"
   ]
  },
  {
   "cell_type": "markdown",
   "metadata": {},
   "source": [
    "Пол имеет слабое значение для итоговых тестов: мальчики сдают экзамен по математике чуть лучше девочек, медианы у обеих групп совпадают.\n",
    "Возраст также имеет небольшое значение. По графикам можно предположить, что для учащихся с 15 до 18 лет результативность экзамена снижается с каждым годом. Особенно хуже результаты показывает группа 18 лет. Попробуем проанализировать возраст как числовой признак:"
   ]
  },
  {
   "cell_type": "code",
   "execution_count": 15,
   "metadata": {},
   "outputs": [
    {
     "data": {
      "text/html": [
       "<div>\n",
       "<style scoped>\n",
       "    .dataframe tbody tr th:only-of-type {\n",
       "        vertical-align: middle;\n",
       "    }\n",
       "\n",
       "    .dataframe tbody tr th {\n",
       "        vertical-align: top;\n",
       "    }\n",
       "\n",
       "    .dataframe thead th {\n",
       "        text-align: right;\n",
       "    }\n",
       "</style>\n",
       "<table border=\"1\" class=\"dataframe\">\n",
       "  <thead>\n",
       "    <tr style=\"text-align: right;\">\n",
       "      <th></th>\n",
       "      <th>age</th>\n",
       "      <th>score</th>\n",
       "      <th>score_ind</th>\n",
       "    </tr>\n",
       "  </thead>\n",
       "  <tbody>\n",
       "    <tr>\n",
       "      <th>age</th>\n",
       "      <td>1.000000</td>\n",
       "      <td>-0.155726</td>\n",
       "      <td>-0.097603</td>\n",
       "    </tr>\n",
       "    <tr>\n",
       "      <th>score</th>\n",
       "      <td>-0.155726</td>\n",
       "      <td>1.000000</td>\n",
       "      <td>0.740253</td>\n",
       "    </tr>\n",
       "    <tr>\n",
       "      <th>score_ind</th>\n",
       "      <td>-0.097603</td>\n",
       "      <td>0.740253</td>\n",
       "      <td>1.000000</td>\n",
       "    </tr>\n",
       "  </tbody>\n",
       "</table>\n",
       "</div>"
      ],
      "text/plain": [
       "                age     score  score_ind\n",
       "age        1.000000 -0.155726  -0.097603\n",
       "score     -0.155726  1.000000   0.740253\n",
       "score_ind -0.097603  0.740253   1.000000"
      ]
     },
     "execution_count": 15,
     "metadata": {},
     "output_type": "execute_result"
    }
   ],
   "source": [
    "df[['age','score','score_ind']].corr()"
   ]
  },
  {
   "cell_type": "markdown",
   "metadata": {},
   "source": [
    "Как и по графику boxplot мы видим, что набранные на экзамене баллы немного уменьшаются с возрастом учащихся"
   ]
  },
  {
   "cell_type": "markdown",
   "metadata": {},
   "source": [
    "# Признак address"
   ]
  },
  {
   "cell_type": "markdown",
   "metadata": {},
   "source": [
    "Следующий признак <b>address</b>, в нем есть пропуски. Посмотрим, можно ли их заполнить исходя из школы и времени в пути до школы"
   ]
  },
  {
   "cell_type": "code",
   "execution_count": 16,
   "metadata": {},
   "outputs": [
    {
     "name": "stdout",
     "output_type": "stream",
     "text": [
      "Для школы GP:\n",
      "Распределение значений:\n",
      " address  traveltime\n",
      "R        1.0            29\n",
      "         2.0            18\n",
      "         3.0             5\n",
      "         4.0             3\n",
      "U        1.0           190\n",
      "         2.0            54\n",
      "         3.0             9\n",
      "         4.0             3\n",
      "Name: traveltime, dtype: int64\n",
      "\n",
      "По среднему значению:\n",
      " address\n",
      "R    1.672727\n",
      "U    1.316406\n",
      "Name: traveltime, dtype: float64\n",
      "\n",
      "Для школы MS:\n",
      "Распределение значений:\n",
      " address  traveltime\n",
      "R        2.0           8\n",
      "         3.0           7\n",
      "         1.0           5\n",
      "         4.0           1\n",
      "U        2.0           9\n",
      "         1.0           8\n",
      "Name: traveltime, dtype: int64\n",
      "\n",
      "По среднему значению:\n",
      " address\n",
      "R    2.190476\n",
      "U    1.529412\n",
      "Name: traveltime, dtype: float64\n"
     ]
    }
   ],
   "source": [
    "print('Для школы GP:')\n",
    "print('Распределение значений:\\n', df[df.school == 'GP'].groupby(['address']).traveltime.value_counts())\n",
    "print('\\nПо среднему значению:\\n', df[df.school == 'GP'].groupby(['address']).traveltime.mean())\n",
    "print('\\nДля школы MS:')\n",
    "print('Распределение значений:\\n', df[df.school == 'MS'].groupby(['address']).traveltime.value_counts())\n",
    "print('\\nПо среднему значению:\\n', df[df.school == 'MS'].groupby(['address']).traveltime.mean())"
   ]
  },
  {
   "cell_type": "markdown",
   "metadata": {},
   "source": [
    "Таким образом, видно, что для школы MS значения traveltime 3 и 4 есть только для address == \"R\", значение 1 чаще встречается для address == \"U\", значение 2 - примерно одинаковое как для \"R\", так и для \"U\". Так как пропусков немного, заполним в таком случае значение адреса рандомно.\n",
    "Для школы GP: по средним значениям traveltime предположим, что если traveltime == 1, то address == \"U\", для остальных - address = \"R\". Если значение traveltime отсутствует, то пропуски в address заполним по наиболее чаще встречаемому значению:"
   ]
  },
  {
   "cell_type": "code",
   "execution_count": 17,
   "metadata": {
    "scrolled": true
   },
   "outputs": [
    {
     "name": "stdout",
     "output_type": "stream",
     "text": [
      "Для школы GP наиболее часто встречающееся значение address:  U\n",
      "Для школы MS наиболее часто встречающееся значение address:  R\n"
     ]
    }
   ],
   "source": [
    "print('Для школы GP наиболее часто встречающееся значение address: ',df[df.school == 'GP'].address.value_counts().index[0])\n",
    "print('Для школы MS наиболее часто встречающееся значение address: ',df[df.school == 'MS'].address.value_counts().index[0])"
   ]
  },
  {
   "cell_type": "code",
   "execution_count": 18,
   "metadata": {},
   "outputs": [],
   "source": [
    "import random\n",
    "address_list = ['U','R']"
   ]
  },
  {
   "cell_type": "code",
   "execution_count": 19,
   "metadata": {},
   "outputs": [],
   "source": [
    "df.address = df.apply(lambda x: ('U' if ((x.traveltime == 1) or (x.school == 'GP' and pd.isna(x.traveltime)))\n",
    "                                    else (random.choice(address_list) if (x.school == 'MS' and x.traveltime == 2)\n",
    "                                         else 'R')) \n",
    "                        if pd.isna(x.address) else x.address, axis=1)"
   ]
  },
  {
   "cell_type": "markdown",
   "metadata": {},
   "source": [
    "Для подтверждения корректности сравним средние значения и убедимся, что все пропуски заполнены:"
   ]
  },
  {
   "cell_type": "code",
   "execution_count": 20,
   "metadata": {},
   "outputs": [
    {
     "name": "stdout",
     "output_type": "stream",
     "text": [
      "Среднее значение traveltime по типу адреса для школы GP:\n",
      " address\n",
      "R    1.684211\n",
      "U    1.307985\n",
      "Name: traveltime, dtype: float64\n",
      "\n",
      "Среднее значение traveltime по типу адреса для школы MS:\n",
      " address\n",
      "R    2.173913\n",
      "U    1.555556\n",
      "Name: traveltime, dtype: float64\n",
      "\n",
      "Пустых значений address:  0\n"
     ]
    }
   ],
   "source": [
    "print('Среднее значение traveltime по типу адреса для школы GP:\\n', df[df.school == 'GP'].groupby(['address']).traveltime.mean())\n",
    "print('\\nСреднее значение traveltime по типу адреса для школы MS:\\n', df[df.school == 'MS'].groupby(['address']).traveltime.mean())\n",
    "print('\\nПустых значений address: ',pd.isna(df['address']).sum())"
   ]
  },
  {
   "cell_type": "code",
   "execution_count": 21,
   "metadata": {},
   "outputs": [
    {
     "data": {
      "image/png": "[encoded data removed]",
      "text/plain": [
       "<Figure size 1008x288 with 1 Axes>"
      ]
     },
     "metadata": {
      "needs_background": "light"
     },
     "output_type": "display_data"
    }
   ],
   "source": [
    "get_boxplot('address')"
   ]
  },
  {
   "cell_type": "markdown",
   "metadata": {},
   "source": [
    "Учеников, живущих в городе, больше. Однако по графику видим, что значения квартилей сильно отличаются для разных типов адресов"
   ]
  },
  {
   "cell_type": "markdown",
   "metadata": {},
   "source": [
    "# Признак famsize"
   ]
  },
  {
   "cell_type": "markdown",
   "metadata": {},
   "source": [
    "Следующий признак <b>famsize</b>. Пропусков в нем больше. Попробуем найти взаимосвязь с признаками Pstatus и famrel:"
   ]
  },
  {
   "cell_type": "code",
   "execution_count": 22,
   "metadata": {},
   "outputs": [
    {
     "data": {
      "text/plain": [
       "GT3    255\n",
       "LE3    107\n",
       "Name: famsize, dtype: int64"
      ]
     },
     "execution_count": 22,
     "metadata": {},
     "output_type": "execute_result"
    }
   ],
   "source": [
    "df.famsize.value_counts()"
   ]
  },
  {
   "cell_type": "code",
   "execution_count": 23,
   "metadata": {
    "scrolled": false
   },
   "outputs": [
    {
     "data": {
      "text/plain": [
       "Pstatus  famsize\n",
       "A        GT3         20\n",
       "         LE3         13\n",
       "T        GT3        207\n",
       "         LE3         81\n",
       "Name: famsize, dtype: int64"
      ]
     },
     "execution_count": 23,
     "metadata": {},
     "output_type": "execute_result"
    }
   ],
   "source": [
    "df.groupby(['Pstatus']).famsize.value_counts()"
   ]
  },
  {
   "cell_type": "markdown",
   "metadata": {},
   "source": [
    "Видно, что если родители ученика живут вместе, то размер семьи скорее всего будет более 3 человек. Не всё так однозначно с ситуацией, когда родители живует раздельно. Добавим распределение по показателю отношений в семье:"
   ]
  },
  {
   "cell_type": "code",
   "execution_count": 24,
   "metadata": {},
   "outputs": [
    {
     "name": "stdout",
     "output_type": "stream",
     "text": [
      "Для учеников, у которых родители живут раздельно\n",
      " 4.0    12\n",
      "5.0    11\n",
      "3.0     5\n",
      "2.0     3\n",
      "1.0     1\n",
      "Name: famrel, dtype: int64\n",
      "\n",
      " famsize  famrel\n",
      "GT3      4.0       6\n",
      "         5.0       5\n",
      "         3.0       4\n",
      "         2.0       2\n",
      "         1.0       1\n",
      "LE3      5.0       6\n",
      "         4.0       4\n",
      "         2.0       1\n",
      "         3.0       1\n",
      "Name: famrel, dtype: int64\n"
     ]
    }
   ],
   "source": [
    "print('Для учеников, у которых родители живут раздельно\\n', df[df.Pstatus=='A'].famrel.value_counts())\n",
    "print('\\n',df[df.Pstatus=='A'].groupby(['famsize']).famrel.value_counts())"
   ]
  },
  {
   "cell_type": "markdown",
   "metadata": {},
   "source": [
    "В целом по всем наблюдениям с родителями, живущими раздельно, чаще всего отношения внутри семьи оцениваются как хорошие и очень хорошие. Но при этом в маленьких семьях крайне мало отрицательных оценок famrel. Таким образом, можно предположить, что если оценка famrel > 3, тогда семья менее 3 человек. В остальных случаях предположим, что семья более 3 человек. В случае пропуска значения famrel или Pstatus подставим наиболее часто встречающееся значение GT3. После этого убедимся, что пропусков нет"
   ]
  },
  {
   "cell_type": "code",
   "execution_count": 25,
   "metadata": {},
   "outputs": [
    {
     "name": "stdout",
     "output_type": "stream",
     "text": [
      "Распределение значений famsize:\n",
      " GT3    275\n",
      "LE3    114\n",
      "Name: famsize, dtype: int64 \n",
      "\n",
      "Количество пропусков в столбце famsize:  0\n"
     ]
    }
   ],
   "source": [
    "df['famsize'] = df.apply(lambda x: ('GT3' if (x.Pstatus == 'T' or (x.Pstatus == 'A' and x.famrel <4)) \n",
    "                                    else 'LE3') if pd.isna(x.famsize) else x.famsize, axis=1)\n",
    "print('Распределение значений famsize:\\n', df.famsize.value_counts(),'\\n')\n",
    "print('Количество пропусков в столбце famsize: ', pd.isna(df['famsize']).sum())"
   ]
  },
  {
   "cell_type": "code",
   "execution_count": 26,
   "metadata": {},
   "outputs": [
    {
     "data": {
      "image/png": "[encoded data removed]",
      "text/plain": [
       "<Figure size 1008x288 with 1 Axes>"
      ]
     },
     "metadata": {
      "needs_background": "light"
     },
     "output_type": "display_data"
    }
   ],
   "source": [
    "get_boxplot('famsize')"
   ]
  },
  {
   "cell_type": "markdown",
   "metadata": {},
   "source": [
    "Больших семей по количеству больше более чем в 2 раза. Разброс значений score в них так же шире. При этом медианы для обеих групп на одном уровне"
   ]
  },
  {
   "cell_type": "markdown",
   "metadata": {},
   "source": [
    "# Признак Pstatus"
   ]
  },
  {
   "cell_type": "markdown",
   "metadata": {},
   "source": [
    "Посмотрим распределение и количество пропусков"
   ]
  },
  {
   "cell_type": "code",
   "execution_count": 27,
   "metadata": {},
   "outputs": [
    {
     "name": "stdout",
     "output_type": "stream",
     "text": [
      "Распределение значений Pstatus: \n",
      " T    308\n",
      "A     36\n",
      "Name: Pstatus, dtype: int64\n",
      "Количество пропусков:  45\n"
     ]
    }
   ],
   "source": [
    "print('Распределение значений Pstatus: \\n', df.Pstatus.value_counts())\n",
    "print('Количество пропусков: ', pd.isna(df['Pstatus']).sum())"
   ]
  },
  {
   "cell_type": "markdown",
   "metadata": {},
   "source": [
    "Около 80% значений составляет \"T\", то есть семьи, где родители живут вместе. При этом пропусков более 11%. Причины пропусков нам неизвестны и заполнить их способами выше не представляется возможным, поэтому заполним их третьим значением 'N', которое будет означать, что информация неизвестна"
   ]
  },
  {
   "cell_type": "code",
   "execution_count": 28,
   "metadata": {},
   "outputs": [],
   "source": [
    "df.Pstatus = df.Pstatus.fillna('N')"
   ]
  },
  {
   "cell_type": "code",
   "execution_count": 29,
   "metadata": {},
   "outputs": [
    {
     "data": {
      "image/png": "[encoded data removed]",
      "text/plain": [
       "<Figure size 1008x288 with 1 Axes>"
      ]
     },
     "metadata": {
      "needs_background": "light"
     },
     "output_type": "display_data"
    }
   ],
   "source": [
    "get_boxplot('Pstatus')"
   ]
  },
  {
   "cell_type": "markdown",
   "metadata": {},
   "source": [
    "По графику нет возможности определить значимость статуса родителей на результаты экзамены, тем более, что признак плохо сбалансирован"
   ]
  },
  {
   "cell_type": "markdown",
   "metadata": {},
   "source": [
    "# Признаки Medu, Fedu и Mjob, Fjob   "
   ]
  },
  {
   "cell_type": "code",
   "execution_count": 30,
   "metadata": {},
   "outputs": [
    {
     "name": "stdout",
     "output_type": "stream",
     "text": [
      "Распределение значений Medu:\n",
      " 4.0    131\n",
      "2.0    100\n",
      "3.0     96\n",
      "1.0     56\n",
      "0.0      3\n",
      "Name: Medu, dtype: int64 \n",
      "\n",
      "Количество пропусков Medu:  3 \n",
      "\n"
     ]
    },
    {
     "data": {
      "text/plain": [
       "<matplotlib.axes._subplots.AxesSubplot at 0x24250650348>"
      ]
     },
     "execution_count": 30,
     "metadata": {},
     "output_type": "execute_result"
    },
    {
     "data": {
      "image/png": "[encoded data removed]",
      "text/plain": [
       "<Figure size 432x288 with 1 Axes>"
      ]
     },
     "metadata": {
      "needs_background": "light"
     },
     "output_type": "display_data"
    }
   ],
   "source": [
    "print('Распределение значений Medu:\\n', df.Medu.value_counts(),'\\n')\n",
    "print('Количество пропусков Medu: ', pd.isna(df['Medu']).sum(),'\\n')\n",
    "df.Medu.hist(bins=5)"
   ]
  },
  {
   "cell_type": "code",
   "execution_count": 31,
   "metadata": {},
   "outputs": [
    {
     "name": "stdout",
     "output_type": "stream",
     "text": [
      "Распределение значений Fedu:\n",
      " 2.0     105\n",
      "3.0      94\n",
      "4.0      88\n",
      "1.0      75\n",
      "0.0       2\n",
      "40.0      1\n",
      "Name: Fedu, dtype: int64 \n",
      "\n",
      "Количество пропусков Fedu:  24 \n",
      "\n"
     ]
    },
    {
     "data": {
      "text/plain": [
       "<matplotlib.axes._subplots.AxesSubplot at 0x24250527808>"
      ]
     },
     "execution_count": 31,
     "metadata": {},
     "output_type": "execute_result"
    },
    {
     "data": {
      "image/png": "[encoded data removed]",
      "text/plain": [
       "<Figure size 432x288 with 1 Axes>"
      ]
     },
     "metadata": {
      "needs_background": "light"
     },
     "output_type": "display_data"
    }
   ],
   "source": [
    "print('Распределение значений Fedu:\\n', df.Fedu.value_counts(),'\\n')\n",
    "print('Количество пропусков Fedu: ', pd.isna(df['Fedu']).sum(),'\\n')\n",
    "df.Fedu.hist()"
   ]
  },
  {
   "cell_type": "markdown",
   "metadata": {},
   "source": [
    "В столбце Medu пропусков всего 3. Поскольку это категориальный признак, мы не можем заполнить его статистическими характеристиками типа медианы или среднего. Пока добавим для пропусков новое значение \"-1\", это будет означать, что информация неизвестна.\n",
    "В столбце Fedu пропусков значительно больше, при этом есть выброс - 40. Поскольку в изначальном описании датасета указано, что значения могут быть только целочисленными от 0 до 4 включительно, можно предположить, что 40 на самом деле означает 4.\n",
    "Напишем функцию, которая будет преобразовывать 10, 20, 30 и 40 в 1, 2, 3 и 4 соответственно:"
   ]
  },
  {
   "cell_type": "code",
   "execution_count": 32,
   "metadata": {},
   "outputs": [
    {
     "name": "stdout",
     "output_type": "stream",
     "text": [
      "Распределение значений Fedu:\n",
      " 2.0    105\n",
      "3.0     94\n",
      "4.0     89\n",
      "1.0     75\n",
      "0.0      2\n",
      "Name: Fedu, dtype: int64 \n",
      "\n",
      "Количество пропусков Fedu:  24 \n",
      "\n"
     ]
    },
    {
     "data": {
      "text/plain": [
       "<matplotlib.axes._subplots.AxesSubplot at 0x24250494488>"
      ]
     },
     "execution_count": 32,
     "metadata": {},
     "output_type": "execute_result"
    },
    {
     "data": {
      "image/png": "[encoded data removed]",
      "text/plain": [
       "<Figure size 432x288 with 1 Axes>"
      ]
     },
     "metadata": {
      "needs_background": "light"
     },
     "output_type": "display_data"
    }
   ],
   "source": [
    "df['Fedu'] = df.apply(lambda x: x.Fedu/10 if (10 <= x.Fedu <= 40 and x.Fedu%10 == 0) else x.Fedu, axis=1)\n",
    "print('Распределение значений Fedu:\\n', df.Fedu.value_counts(),'\\n')\n",
    "print('Количество пропусков Fedu: ', pd.isna(df['Fedu']).sum(),'\\n')\n",
    "df.Fedu.hist(bins=5)"
   ]
  },
  {
   "cell_type": "markdown",
   "metadata": {},
   "source": [
    "Проверим гипотезу, что уровень образования одного родителя может коррелировать с уровнем образования другого родителя (хотя считать корреляцию категориальных признаков не совсем корректно):"
   ]
  },
  {
   "cell_type": "code",
   "execution_count": 33,
   "metadata": {},
   "outputs": [
    {
     "data": {
      "text/html": [
       "<div>\n",
       "<style scoped>\n",
       "    .dataframe tbody tr th:only-of-type {\n",
       "        vertical-align: middle;\n",
       "    }\n",
       "\n",
       "    .dataframe tbody tr th {\n",
       "        vertical-align: top;\n",
       "    }\n",
       "\n",
       "    .dataframe thead th {\n",
       "        text-align: right;\n",
       "    }\n",
       "</style>\n",
       "<table border=\"1\" class=\"dataframe\">\n",
       "  <thead>\n",
       "    <tr style=\"text-align: right;\">\n",
       "      <th></th>\n",
       "      <th>Medu</th>\n",
       "      <th>Fedu</th>\n",
       "    </tr>\n",
       "  </thead>\n",
       "  <tbody>\n",
       "    <tr>\n",
       "      <th>Medu</th>\n",
       "      <td>1.000000</td>\n",
       "      <td>0.621981</td>\n",
       "    </tr>\n",
       "    <tr>\n",
       "      <th>Fedu</th>\n",
       "      <td>0.621981</td>\n",
       "      <td>1.000000</td>\n",
       "    </tr>\n",
       "  </tbody>\n",
       "</table>\n",
       "</div>"
      ],
      "text/plain": [
       "          Medu      Fedu\n",
       "Medu  1.000000  0.621981\n",
       "Fedu  0.621981  1.000000"
      ]
     },
     "execution_count": 33,
     "metadata": {},
     "output_type": "execute_result"
    }
   ],
   "source": [
    "df[['Medu','Fedu']].corr()"
   ]
  },
  {
   "cell_type": "markdown",
   "metadata": {},
   "source": [
    "Коэффициент корреляции 0.62 не может дать нам однозначного ответа, хотя в большинстве случаев образование одного родителя связано с образованием другого родителя. То есть в большинстве семей родители примерно одинакового уровня образования. \n",
    "Попробуем объединить эти два признака в новый Par_edu - Если guardian == mother, то значение Medu, если father, то значение Fedu, в остальных случаях - максимальное значение из Fedu и Medu"
   ]
  },
  {
   "cell_type": "code",
   "execution_count": 34,
   "metadata": {},
   "outputs": [],
   "source": [
    "df['Par_edu'] = df.apply(lambda x: x.Medu if x.guardian == 'mother' else (x.Fedu if x.guardian == 'father' \n",
    "                                                                          else x[['Medu','Fedu']].max()), axis=1)\n",
    "df.Par_edu = df.Par_edu.fillna(df[['Medu','Fedu']].max(axis=1))\n"
   ]
  },
  {
   "cell_type": "code",
   "execution_count": 35,
   "metadata": {},
   "outputs": [
    {
     "data": {
      "text/plain": [
       "0"
      ]
     },
     "execution_count": 35,
     "metadata": {},
     "output_type": "execute_result"
    }
   ],
   "source": [
    "pd.isna(df.Par_edu).sum()"
   ]
  },
  {
   "cell_type": "code",
   "execution_count": 36,
   "metadata": {},
   "outputs": [
    {
     "data": {
      "image/png": "[encoded data removed]",
      "text/plain": [
       "<Figure size 1008x288 with 1 Axes>"
      ]
     },
     "metadata": {
      "needs_background": "light"
     },
     "output_type": "display_data"
    }
   ],
   "source": [
    "get_boxplot('Par_edu')"
   ]
  },
  {
   "cell_type": "markdown",
   "metadata": {},
   "source": [
    "Видим явную связь между образованием родителей и результатами экзаменов. Это имеет разумное объяснение: дети как правило тянутся к уровню родителей"
   ]
  },
  {
   "cell_type": "code",
   "execution_count": 37,
   "metadata": {},
   "outputs": [
    {
     "name": "stdout",
     "output_type": "stream",
     "text": [
      "Распределение значений Mjob:\n",
      " other       127\n",
      "services     98\n",
      "at_home      58\n",
      "teacher      55\n",
      "health       32\n",
      "Name: Mjob, dtype: int64 \n",
      "\n",
      "Количество пропусков Mjob:  19 \n",
      "\n"
     ]
    },
    {
     "data": {
      "text/plain": [
       "<matplotlib.axes._subplots.AxesSubplot at 0x2425034be08>"
      ]
     },
     "execution_count": 37,
     "metadata": {},
     "output_type": "execute_result"
    },
    {
     "data": {
      "image/png": "[encoded data removed]",
      "text/plain": [
       "<Figure size 432x288 with 1 Axes>"
      ]
     },
     "metadata": {
      "needs_background": "light"
     },
     "output_type": "display_data"
    }
   ],
   "source": [
    "print('Распределение значений Mjob:\\n', df.Mjob.value_counts(),'\\n')\n",
    "print('Количество пропусков Mjob: ', pd.isna(df['Mjob']).sum(),'\\n')\n",
    "df.Mjob.hist(bins=5)"
   ]
  },
  {
   "cell_type": "code",
   "execution_count": 38,
   "metadata": {},
   "outputs": [
    {
     "name": "stdout",
     "output_type": "stream",
     "text": [
      "Распределение значений Fjob:\n",
      " other       194\n",
      "services     99\n",
      "teacher      29\n",
      "at_home      16\n",
      "health       15\n",
      "Name: Fjob, dtype: int64 \n",
      "\n",
      "Количество пропусков Fjob:  36 \n",
      "\n"
     ]
    },
    {
     "data": {
      "text/plain": [
       "<matplotlib.axes._subplots.AxesSubplot at 0x242503aa808>"
      ]
     },
     "execution_count": 38,
     "metadata": {},
     "output_type": "execute_result"
    },
    {
     "data": {
      "image/png": "[encoded data removed]",
      "text/plain": [
       "<Figure size 432x288 with 1 Axes>"
      ]
     },
     "metadata": {
      "needs_background": "light"
     },
     "output_type": "display_data"
    }
   ],
   "source": [
    "print('Распределение значений Fjob:\\n', df.Fjob.value_counts(),'\\n')\n",
    "print('Количество пропусков Fjob: ', pd.isna(df['Fjob']).sum(),'\\n')\n",
    "df.Fjob.hist(bins=5)"
   ]
  },
  {
   "cell_type": "markdown",
   "metadata": {},
   "source": [
    "Преобразуем значения столбцов Mjob и Fjob в числовые, но при этом остающиеся категориальными, а затем создадим новый столбец Par_job, описывающий статус обоих родителей. При этом считать будем только \"работает\"/\"не работает\""
   ]
  },
  {
   "cell_type": "code",
   "execution_count": 39,
   "metadata": {},
   "outputs": [],
   "source": [
    "job_list = ['other', 'services', 'health', 'teacher']\n",
    "df['Mjob_int'] = df.apply(lambda x: 0 if x.Mjob == 'at_home' else (1 if x.Mjob in job_list else -2), axis=1)"
   ]
  },
  {
   "cell_type": "code",
   "execution_count": 40,
   "metadata": {},
   "outputs": [],
   "source": [
    "df['Fjob_int'] = df.apply(lambda x: 0 if x.Fjob == 'at_home' else (1 if x.Fjob in job_list else -2), axis=1)"
   ]
  },
  {
   "cell_type": "code",
   "execution_count": 41,
   "metadata": {},
   "outputs": [],
   "source": [
    "df['Par_job'] = df['Mjob_int'] + df['Fjob_int']"
   ]
  },
  {
   "cell_type": "code",
   "execution_count": 42,
   "metadata": {
    "scrolled": false
   },
   "outputs": [
    {
     "data": {
      "text/plain": [
       " 2    273\n",
       " 1     57\n",
       "-1     46\n",
       "-2      7\n",
       " 0      5\n",
       "-4      1\n",
       "Name: Par_job, dtype: int64"
      ]
     },
     "execution_count": 42,
     "metadata": {},
     "output_type": "execute_result"
    }
   ],
   "source": [
    "df.Par_job.value_counts()"
   ]
  },
  {
   "cell_type": "markdown",
   "metadata": {},
   "source": [
    "Таким образом, мы получили столбец категориального признака Par_job, который принимает следующие значения:\n",
    "2 - оба родителя работают\n",
    "1 - один из родителей работает, второй - не работает\n",
    "0 - оба родителя не работают\n",
    "-1 - один родитель работает, про второго неизвестно\n",
    "-2 - один родитель не работает, про второго неизвестно\n",
    "-4 - неизвестен рабочий статус обоих родителей"
   ]
  },
  {
   "cell_type": "code",
   "execution_count": 43,
   "metadata": {
    "scrolled": true
   },
   "outputs": [],
   "source": [
    "df = df.drop(['Mjob_int', 'Fjob_int'], 1)"
   ]
  },
  {
   "cell_type": "code",
   "execution_count": 44,
   "metadata": {},
   "outputs": [
    {
     "data": {
      "image/png": "[encoded data removed]",
      "text/plain": [
       "<Figure size 1008x288 with 1 Axes>"
      ]
     },
     "metadata": {
      "needs_background": "light"
     },
     "output_type": "display_data"
    }
   ],
   "source": [
    "get_boxplot('Par_job')"
   ]
  },
  {
   "cell_type": "markdown",
   "metadata": {},
   "source": [
    "Группы, в которых хотя бы один родитель работает (2, 1 и -1), самые многочисленные и результаты в них существенно отличаются"
   ]
  },
  {
   "cell_type": "markdown",
   "metadata": {},
   "source": [
    "# Признак reason:"
   ]
  },
  {
   "cell_type": "code",
   "execution_count": 45,
   "metadata": {},
   "outputs": [
    {
     "data": {
      "text/plain": [
       "course        135\n",
       "reputation    102\n",
       "home          101\n",
       "other          34\n",
       "Name: reason, dtype: int64"
      ]
     },
     "execution_count": 45,
     "metadata": {},
     "output_type": "execute_result"
    }
   ],
   "source": [
    "df.reason.value_counts()"
   ]
  },
  {
   "cell_type": "markdown",
   "metadata": {},
   "source": [
    "Пропусков 17, в основном для многих указана причина выбора школы. Заполним пропуски значением 'unknown'"
   ]
  },
  {
   "cell_type": "code",
   "execution_count": 46,
   "metadata": {},
   "outputs": [
    {
     "data": {
      "text/plain": [
       "course        135\n",
       "reputation    102\n",
       "home          101\n",
       "other          34\n",
       "unknown        17\n",
       "Name: reason, dtype: int64"
      ]
     },
     "execution_count": 46,
     "metadata": {},
     "output_type": "execute_result"
    }
   ],
   "source": [
    "df.reason = df.reason.fillna('unknown')\n",
    "df.reason.value_counts()"
   ]
  },
  {
   "cell_type": "code",
   "execution_count": 47,
   "metadata": {},
   "outputs": [
    {
     "data": {
      "image/png": "[encoded data removed]",
      "text/plain": [
       "<Figure size 1008x288 with 1 Axes>"
      ]
     },
     "metadata": {
      "needs_background": "light"
     },
     "output_type": "display_data"
    }
   ],
   "source": [
    "get_boxplot('reason')"
   ]
  },
  {
   "cell_type": "markdown",
   "metadata": {},
   "source": [
    "По графику нет возможности предположить, что признак reason является значимым"
   ]
  },
  {
   "cell_type": "markdown",
   "metadata": {},
   "source": [
    "\n",
    "# Признак guardian:"
   ]
  },
  {
   "cell_type": "code",
   "execution_count": 48,
   "metadata": {},
   "outputs": [
    {
     "name": "stdout",
     "output_type": "stream",
     "text": [
      "Распределение значений guardian:\n",
      " mother    248\n",
      "father     86\n",
      "other      24\n",
      "Name: guardian, dtype: int64 \n",
      "\n",
      "Количество пропусков guardian:  31 \n",
      "\n"
     ]
    }
   ],
   "source": [
    "print('Распределение значений guardian:\\n', df.guardian.value_counts(),'\\n')\n",
    "print('Количество пропусков guardian: ', pd.isna(df['guardian']).sum(),'\\n')"
   ]
  },
  {
   "cell_type": "markdown",
   "metadata": {},
   "source": [
    "Поскольку пропусков много и эти данные могут иметь значимость, заполним отсутсвующие значения по аналогии с reason"
   ]
  },
  {
   "cell_type": "code",
   "execution_count": 49,
   "metadata": {},
   "outputs": [],
   "source": [
    "df.guardian = df.guardian.fillna('unknown')"
   ]
  },
  {
   "cell_type": "code",
   "execution_count": 50,
   "metadata": {},
   "outputs": [
    {
     "data": {
      "image/png": "[encoded data removed]",
      "text/plain": [
       "<Figure size 1008x288 with 1 Axes>"
      ]
     },
     "metadata": {
      "needs_background": "light"
     },
     "output_type": "display_data"
    }
   ],
   "source": [
    "get_boxplot('guardian')"
   ]
  },
  {
   "cell_type": "markdown",
   "metadata": {},
   "source": [
    "Медиана для значения other чуть ниже остальных. Значение mother самое многочисленное, поэтому и разброс больше"
   ]
  },
  {
   "cell_type": "markdown",
   "metadata": {},
   "source": [
    "# Признаки traveltime, freetime, studytime, studytime granular"
   ]
  },
  {
   "cell_type": "markdown",
   "metadata": {},
   "source": [
    "Временные признаки traveltime, studytime, freetime:\n",
    "Они в целом похожи между собой, имеют разброс значений от 1 до 4 или от 1 до 5. При этом согласно здравому смыслу, чем больше значения traveltime и studytime, тем меньше должно быть свободного времени freetime. \n",
    "На данном этапе пока просто заменим пропуски значением 0"
   ]
  },
  {
   "cell_type": "code",
   "execution_count": 51,
   "metadata": {},
   "outputs": [
    {
     "name": "stdout",
     "output_type": "stream",
     "text": [
      "Распределение значений для traveltime \n",
      " 1.0    239\n",
      "2.0     94\n",
      "0.0     28\n",
      "3.0     21\n",
      "4.0      7\n",
      "Name: traveltime, dtype: int64 \n",
      "\n",
      "Распределение значений для studytime \n",
      " 2.0    189\n",
      "1.0    103\n",
      "3.0     63\n",
      "4.0     27\n",
      "0.0      7\n",
      "Name: studytime, dtype: int64 \n",
      "\n",
      "Распределение значений для freetime \n",
      " 3.0    152\n",
      "4.0    110\n",
      "2.0     63\n",
      "5.0     37\n",
      "1.0     18\n",
      "0.0      9\n",
      "Name: freetime, dtype: int64 \n",
      "\n"
     ]
    }
   ],
   "source": [
    "cols = ['traveltime','studytime','freetime']\n",
    "df.traveltime = df.traveltime.fillna(0)\n",
    "df.studytime = df.studytime.fillna(0)\n",
    "df.freetime = df.freetime.fillna(0)\n",
    "for col in cols:\n",
    "    print('Распределение значений для ' + col,'\\n',df[col].value_counts(), '\\n')"
   ]
  },
  {
   "cell_type": "markdown",
   "metadata": {},
   "source": [
    "У большинства учащихся время в пути до школы занимает не более 30 минут, на учебу помимо школы тратится не более 5 часов, при это свободного времени - не мало"
   ]
  },
  {
   "cell_type": "code",
   "execution_count": 52,
   "metadata": {},
   "outputs": [
    {
     "data": {
      "image/png": "[encoded data removed]",
      "text/plain": [
       "<Figure size 1008x288 with 1 Axes>"
      ]
     },
     "metadata": {
      "needs_background": "light"
     },
     "output_type": "display_data"
    },
    {
     "data": {
      "image/png": "[encoded data removed]",
      "text/plain": [
       "<Figure size 1008x288 with 1 Axes>"
      ]
     },
     "metadata": {
      "needs_background": "light"
     },
     "output_type": "display_data"
    },
    {
     "data": {
      "image/png": "[encoded data removed]",
      "text/plain": [
       "<Figure size 1008x288 with 1 Axes>"
      ]
     },
     "metadata": {
      "needs_background": "light"
     },
     "output_type": "display_data"
    }
   ],
   "source": [
    "for col in cols:\n",
    "    get_boxplot(col)"
   ]
  },
  {
   "cell_type": "markdown",
   "metadata": {},
   "source": [
    "Больше всего в глаза бросается график studytime - чем больше ученик занимается учебой вне школы, тем выше у него шансы получить высокий балл на экзамене.\n",
    "Интересная ситуация с freetime. Те, кто указал, что свободного времени очень мало, на деле получают меньшие баллы чем те, у кого свободного времени много и очень много. "
   ]
  },
  {
   "cell_type": "markdown",
   "metadata": {},
   "source": [
    "В датасете есть признак, описание которому отсутсвует - <b>studytime, granular</b>"
   ]
  },
  {
   "cell_type": "code",
   "execution_count": 53,
   "metadata": {},
   "outputs": [
    {
     "name": "stdout",
     "output_type": "stream",
     "text": [
      "Распределение значений по studytime\n"
     ]
    },
    {
     "data": {
      "text/plain": [
       "2.0    189\n",
       "1.0    103\n",
       "3.0     63\n",
       "4.0     27\n",
       "0.0      7\n",
       "Name: studytime, dtype: int64"
      ]
     },
     "metadata": {},
     "output_type": "display_data"
    },
    {
     "name": "stdout",
     "output_type": "stream",
     "text": [
      "Распределение значений по studytime, granular\n"
     ]
    },
    {
     "data": {
      "text/plain": [
       "-6.0     189\n",
       "-3.0     103\n",
       "-9.0      63\n",
       "-12.0     27\n",
       "Name: studytime, granular, dtype: int64"
      ]
     },
     "metadata": {},
     "output_type": "display_data"
    }
   ],
   "source": [
    "st = df[['studytime','studytime, granular']]\n",
    "print('Распределение значений по studytime')\n",
    "display(st['studytime'].value_counts())\n",
    "print('Распределение значений по studytime, granular')\n",
    "display(st['studytime, granular'].value_counts())"
   ]
  },
  {
   "cell_type": "code",
   "execution_count": 54,
   "metadata": {},
   "outputs": [
    {
     "name": "stdout",
     "output_type": "stream",
     "text": [
      "-3.0    382\n",
      "Name: div, dtype: int64\n"
     ]
    },
    {
     "name": "stderr",
     "output_type": "stream",
     "text": [
      "C:\\Users\\nobrr\\anaconda3\\lib\\site-packages\\ipykernel_launcher.py:1: SettingWithCopyWarning: \n",
      "A value is trying to be set on a copy of a slice from a DataFrame.\n",
      "Try using .loc[row_indexer,col_indexer] = value instead\n",
      "\n",
      "See the caveats in the documentation: https://pandas.pydata.org/pandas-docs/stable/user_guide/indexing.html#returning-a-view-versus-a-copy\n",
      "  \"\"\"Entry point for launching an IPython kernel.\n"
     ]
    },
    {
     "data": {
      "text/html": [
       "<div>\n",
       "<style scoped>\n",
       "    .dataframe tbody tr th:only-of-type {\n",
       "        vertical-align: middle;\n",
       "    }\n",
       "\n",
       "    .dataframe tbody tr th {\n",
       "        vertical-align: top;\n",
       "    }\n",
       "\n",
       "    .dataframe thead th {\n",
       "        text-align: right;\n",
       "    }\n",
       "</style>\n",
       "<table border=\"1\" class=\"dataframe\">\n",
       "  <thead>\n",
       "    <tr style=\"text-align: right;\">\n",
       "      <th></th>\n",
       "      <th>studytime</th>\n",
       "      <th>studytime, granular</th>\n",
       "      <th>div</th>\n",
       "    </tr>\n",
       "  </thead>\n",
       "  <tbody>\n",
       "    <tr>\n",
       "      <th>studytime</th>\n",
       "      <td>1.0</td>\n",
       "      <td>-1.0</td>\n",
       "      <td>NaN</td>\n",
       "    </tr>\n",
       "    <tr>\n",
       "      <th>studytime, granular</th>\n",
       "      <td>-1.0</td>\n",
       "      <td>1.0</td>\n",
       "      <td>NaN</td>\n",
       "    </tr>\n",
       "    <tr>\n",
       "      <th>div</th>\n",
       "      <td>NaN</td>\n",
       "      <td>NaN</td>\n",
       "      <td>NaN</td>\n",
       "    </tr>\n",
       "  </tbody>\n",
       "</table>\n",
       "</div>"
      ],
      "text/plain": [
       "                     studytime  studytime, granular  div\n",
       "studytime                  1.0                 -1.0  NaN\n",
       "studytime, granular       -1.0                  1.0  NaN\n",
       "div                        NaN                  NaN  NaN"
      ]
     },
     "execution_count": 54,
     "metadata": {},
     "output_type": "execute_result"
    }
   ],
   "source": [
    "st['div'] = st['studytime, granular'] / st['studytime']\n",
    "print(st['div'].value_counts())\n",
    "st.corr()"
   ]
  },
  {
   "cell_type": "markdown",
   "metadata": {},
   "source": [
    "Похоже, что все значения <b>studytime, granular</b> отличаются от <b>studytime</b> ровно в (-3) раза. При такой линейной зависимости столбцов модель обучать нельзя, поскольку матрица корреляций вырожденна. Тем  более непонятен физический смысл столбца <b>studytime, granular</b>. Считаю верным его удалить"
   ]
  },
  {
   "cell_type": "markdown",
   "metadata": {},
   "source": [
    "# Признак failures:"
   ]
  },
  {
   "cell_type": "code",
   "execution_count": 55,
   "metadata": {},
   "outputs": [
    {
     "name": "stdout",
     "output_type": "stream",
     "text": [
      "Распределение значений failures:\n",
      " 0.0    290\n",
      "1.0     48\n",
      "2.0     15\n",
      "3.0     14\n",
      "Name: failures, dtype: int64 \n",
      "\n",
      "Количество пропусков failures:  22 \n",
      "\n"
     ]
    },
    {
     "data": {
      "text/plain": [
       "<matplotlib.axes._subplots.AxesSubplot at 0x2425099f548>"
      ]
     },
     "execution_count": 55,
     "metadata": {},
     "output_type": "execute_result"
    },
    {
     "data": {
      "image/png": "[encoded data removed]",
      "text/plain": [
       "<Figure size 432x288 with 1 Axes>"
      ]
     },
     "metadata": {
      "needs_background": "light"
     },
     "output_type": "display_data"
    }
   ],
   "source": [
    "print('Распределение значений failures:\\n', df.failures.value_counts(),'\\n')\n",
    "print('Количество пропусков failures: ', pd.isna(df['failures']).sum(),'\\n')\n",
    "df.failures.hist(bins=4)"
   ]
  },
  {
   "cell_type": "markdown",
   "metadata": {},
   "source": [
    "Чаще всего данный признак принимает значение 0, при этом согласно исходному описанию, значение 0 присваивается, если количество внеучебных неудач лежит вне диапазона [1;3], то есть значение 0 может присваиваться как ученикам, у которых не было внеучебных неудач, так и что их было больше 3. При этом \"обнуление\" пропусков будет некорректным, лучше задать им какое-то иное значение, например -1."
   ]
  },
  {
   "cell_type": "code",
   "execution_count": 56,
   "metadata": {},
   "outputs": [],
   "source": [
    "df.failures = df.failures.fillna(-1)"
   ]
  },
  {
   "cell_type": "code",
   "execution_count": 57,
   "metadata": {},
   "outputs": [
    {
     "data": {
      "image/png": "[encoded data removed]",
      "text/plain": [
       "<Figure size 1008x288 with 1 Axes>"
      ]
     },
     "metadata": {
      "needs_background": "light"
     },
     "output_type": "display_data"
    }
   ],
   "source": [
    "get_boxplot('failures')"
   ]
  },
  {
   "cell_type": "markdown",
   "metadata": {},
   "source": [
    "По графику можно предположить связь между признаком failures и результатами экзамена"
   ]
  },
  {
   "cell_type": "markdown",
   "metadata": {},
   "source": [
    "# Признаки schoolsup и famsup"
   ]
  },
  {
   "cell_type": "markdown",
   "metadata": {},
   "source": [
    "Далее рассмотрим признаки образовательной поддержки schoolsup и famsup"
   ]
  },
  {
   "cell_type": "code",
   "execution_count": 58,
   "metadata": {},
   "outputs": [
    {
     "name": "stdout",
     "output_type": "stream",
     "text": [
      "Распределение значений schoolsup:\n",
      " no     331\n",
      "yes     49\n",
      "Name: schoolsup, dtype: int64 \n",
      "\n",
      "Количество пропусков schoolsup:  9 \n",
      "\n"
     ]
    },
    {
     "data": {
      "text/plain": [
       "<matplotlib.axes._subplots.AxesSubplot at 0x242501c4e08>"
      ]
     },
     "execution_count": 58,
     "metadata": {},
     "output_type": "execute_result"
    },
    {
     "data": {
      "image/png": "[encoded data removed]",
      "text/plain": [
       "<Figure size 432x288 with 1 Axes>"
      ]
     },
     "metadata": {
      "needs_background": "light"
     },
     "output_type": "display_data"
    }
   ],
   "source": [
    "print('Распределение значений schoolsup:\\n', df.schoolsup.value_counts(),'\\n')\n",
    "print('Количество пропусков schoolsup: ', pd.isna(df['schoolsup']).sum(),'\\n')\n",
    "df.schoolsup.hist(bins=2)"
   ]
  },
  {
   "cell_type": "code",
   "execution_count": 59,
   "metadata": {},
   "outputs": [
    {
     "name": "stdout",
     "output_type": "stream",
     "text": [
      "Распределение значений famsup:\n",
      " yes    216\n",
      "no     135\n",
      "Name: famsup, dtype: int64 \n",
      "\n",
      "Количество пропусков famsup:  38 \n",
      "\n"
     ]
    },
    {
     "data": {
      "text/plain": [
       "<matplotlib.axes._subplots.AxesSubplot at 0x242502ff408>"
      ]
     },
     "execution_count": 59,
     "metadata": {},
     "output_type": "execute_result"
    },
    {
     "data": {
      "image/png": "[encoded data removed]",
      "text/plain": [
       "<Figure size 432x288 with 1 Axes>"
      ]
     },
     "metadata": {
      "needs_background": "light"
     },
     "output_type": "display_data"
    }
   ],
   "source": [
    "print('Распределение значений famsup:\\n', df.famsup.value_counts(),'\\n')\n",
    "print('Количество пропусков famsup: ', pd.isna(df['famsup']).sum(),'\\n')\n",
    "df.famsup.hist(bins=2)"
   ]
  },
  {
   "cell_type": "markdown",
   "metadata": {},
   "source": [
    "Подобные биномиальные признаки удобно переносить в числовой формат 0 и 1, пропуски опять же можно заменить на -1"
   ]
  },
  {
   "cell_type": "code",
   "execution_count": 60,
   "metadata": {},
   "outputs": [],
   "source": [
    "df['schoolsup_int'] = df.apply(lambda x: 0 if x.schoolsup == 'no' else (1 if x.schoolsup == 'yes' else -1), axis=1)\n",
    "df['famsup_int'] = df.apply(lambda x: 0 if x.famsup == 'no' else (1 if x.famsup == 'yes' else -1), axis=1)"
   ]
  },
  {
   "cell_type": "markdown",
   "metadata": {},
   "source": [
    "Создадим столбец <b>support</b>, который показывал бы наличие какой-либо поддержки и -1 в случае неизвестных данных"
   ]
  },
  {
   "cell_type": "code",
   "execution_count": 61,
   "metadata": {},
   "outputs": [
    {
     "data": {
      "text/plain": [
       "1    234\n",
       "0    155\n",
       "Name: support, dtype: int64"
      ]
     },
     "execution_count": 61,
     "metadata": {},
     "output_type": "execute_result"
    }
   ],
   "source": [
    "df['support'] =df[['schoolsup_int','famsup_int']].max(axis=1)\n",
    "df['support'].value_counts()"
   ]
  },
  {
   "cell_type": "markdown",
   "metadata": {},
   "source": [
    "Таким образом мы избавились от пропусков, поскольку нет строк, где были бы неизвестны сразу оба признака"
   ]
  },
  {
   "cell_type": "code",
   "execution_count": 62,
   "metadata": {},
   "outputs": [
    {
     "data": {
      "image/png": "[encoded data removed]",
      "text/plain": [
       "<Figure size 1008x288 with 1 Axes>"
      ]
     },
     "metadata": {
      "needs_background": "light"
     },
     "output_type": "display_data"
    },
    {
     "data": {
      "image/png": "[encoded data removed]",
      "text/plain": [
       "<Figure size 1008x288 with 1 Axes>"
      ]
     },
     "metadata": {
      "needs_background": "light"
     },
     "output_type": "display_data"
    },
    {
     "data": {
      "image/png": "[encoded data removed]",
      "text/plain": [
       "<Figure size 1008x288 with 1 Axes>"
      ]
     },
     "metadata": {
      "needs_background": "light"
     },
     "output_type": "display_data"
    }
   ],
   "source": [
    "for col in ['schoolsup','famsup', 'support']:\n",
    "    get_boxplot(col)"
   ]
  },
  {
   "cell_type": "markdown",
   "metadata": {},
   "source": [
    "По графикам можно предположить, что ученики с образовательной поддержкой в целом хуже сдают экзамен по математике. Возможно, доп. поддержкой пользуются ученики с невысокой успеваемостью."
   ]
  },
  {
   "cell_type": "markdown",
   "metadata": {},
   "source": [
    "# Признаки paid, activities, nursery, higher, internet, romantic:"
   ]
  },
  {
   "cell_type": "markdown",
   "metadata": {},
   "source": [
    "Все эти признаки биномиальные, для удобства можно перевести их в бинарный формат, но пропуски заполнить третьим значением, например -1"
   ]
  },
  {
   "cell_type": "code",
   "execution_count": 63,
   "metadata": {},
   "outputs": [
    {
     "name": "stdout",
     "output_type": "stream",
     "text": [
      "Распределение значений paid:\n",
      " no     197\n",
      "yes    153\n",
      "Name: paid, dtype: int64 \n",
      "\n",
      "Количество пропусков paid:  39 \n",
      "\n"
     ]
    }
   ],
   "source": [
    "print('Распределение значений paid:\\n', df.paid.value_counts(),'\\n')\n",
    "print('Количество пропусков paid: ', pd.isna(df['paid']).sum(),'\\n')\n"
   ]
  },
  {
   "cell_type": "code",
   "execution_count": 64,
   "metadata": {},
   "outputs": [
    {
     "name": "stdout",
     "output_type": "stream",
     "text": [
      "Распределение значений activities:\n",
      " yes    192\n",
      "no     183\n",
      "Name: activities, dtype: int64 \n",
      "\n",
      "Количество пропусков activities:  14 \n",
      "\n"
     ]
    }
   ],
   "source": [
    "print('Распределение значений activities:\\n', df.activities.value_counts(),'\\n')\n",
    "print('Количество пропусков activities: ', pd.isna(df['activities']).sum(),'\\n')"
   ]
  },
  {
   "cell_type": "code",
   "execution_count": 65,
   "metadata": {},
   "outputs": [
    {
     "name": "stdout",
     "output_type": "stream",
     "text": [
      "Распределение значений nursery:\n",
      " yes    297\n",
      "no      77\n",
      "Name: nursery, dtype: int64 \n",
      "\n",
      "Количество пропусков nursery:  15 \n",
      "\n"
     ]
    }
   ],
   "source": [
    "print('Распределение значений nursery:\\n', df.nursery.value_counts(),'\\n')\n",
    "print('Количество пропусков nursery: ', pd.isna(df['nursery']).sum(),'\\n')"
   ]
  },
  {
   "cell_type": "code",
   "execution_count": 66,
   "metadata": {},
   "outputs": [
    {
     "name": "stdout",
     "output_type": "stream",
     "text": [
      "Распределение значений higher:\n",
      " yes    350\n",
      "no      19\n",
      "Name: higher, dtype: int64 \n",
      "\n",
      "Количество пропусков higher:  20 \n",
      "\n"
     ]
    }
   ],
   "source": [
    "print('Распределение значений higher:\\n', df.higher.value_counts(),'\\n')\n",
    "print('Количество пропусков higher: ', pd.isna(df['higher']).sum(),'\\n')"
   ]
  },
  {
   "cell_type": "code",
   "execution_count": 67,
   "metadata": {},
   "outputs": [
    {
     "name": "stdout",
     "output_type": "stream",
     "text": [
      "Распределение значений internet:\n",
      " yes    300\n",
      "no      55\n",
      "Name: internet, dtype: int64 \n",
      "\n",
      "Количество пропусков internet:  34 \n",
      "\n"
     ]
    }
   ],
   "source": [
    "print('Распределение значений internet:\\n', df.internet.value_counts(),'\\n')\n",
    "print('Количество пропусков internet: ', pd.isna(df['internet']).sum(),'\\n')"
   ]
  },
  {
   "cell_type": "code",
   "execution_count": 68,
   "metadata": {},
   "outputs": [
    {
     "name": "stdout",
     "output_type": "stream",
     "text": [
      "Распределение значений romantic:\n",
      " no     235\n",
      "yes    123\n",
      "Name: romantic, dtype: int64 \n",
      "\n",
      "Количество пропусков romantic:  31 \n",
      "\n"
     ]
    }
   ],
   "source": [
    "print('Распределение значений romantic:\\n', df.romantic.value_counts(),'\\n')\n",
    "print('Количество пропусков romantic: ', pd.isna(df['romantic']).sum(),'\\n')"
   ]
  },
  {
   "cell_type": "markdown",
   "metadata": {},
   "source": [
    "У признаков nursery, higher, internet слишком несбалансированное распределение значений между yes и no. То есть подавляющее большинство учащихся ходили в детский сад, хотят получить высшее образование и имеют дома интернет."
   ]
  },
  {
   "cell_type": "code",
   "execution_count": 69,
   "metadata": {},
   "outputs": [],
   "source": [
    "df['paid_int'] = df.apply(lambda x: 0 if x.paid == 'no' else (1 if x.paid == 'yes' else -1), axis=1)\n",
    "df['activities_int'] = df.apply(lambda x: 0 if x.activities == 'no' else (1 if x.activities == 'yes' else -1), axis=1)\n",
    "df['nursery_int'] = df.apply(lambda x: 0 if x.nursery == 'no' else (1 if x.nursery == 'yes' else -1), axis=1)\n",
    "df['higher_int'] = df.apply(lambda x: 0 if x.higher == 'no' else (1 if x.higher == 'yes' else -1), axis=1)\n",
    "df['internet_int'] = df.apply(lambda x: 0 if x.internet == 'no' else (1 if x.internet == 'yes' else -1), axis=1)\n",
    "df['romantic_int'] = df.apply(lambda x: 0 if x.romantic == 'no' else (1 if x.romantic == 'yes' else -1), axis=1)"
   ]
  },
  {
   "cell_type": "code",
   "execution_count": 70,
   "metadata": {},
   "outputs": [],
   "source": [
    "df['paid'] = df.paid.fillna('unknown')\n",
    "df['activities'] = df.activities.fillna('unknown')\n",
    "df['nursery'] = df.nursery.fillna('unknown')\n",
    "df['higher'] = df.higher.fillna('unknown')\n",
    "df['internet'] = df.internet.fillna('unknown')\n",
    "df['romantic'] = df.romantic.fillna('unknown')"
   ]
  },
  {
   "cell_type": "code",
   "execution_count": 71,
   "metadata": {},
   "outputs": [
    {
     "data": {
      "image/png": "[encoded data removed]",
      "text/plain": [
       "<Figure size 1008x288 with 1 Axes>"
      ]
     },
     "metadata": {
      "needs_background": "light"
     },
     "output_type": "display_data"
    },
    {
     "data": {
      "image/png": "[encoded data removed]",
      "text/plain": [
       "<Figure size 1008x288 with 1 Axes>"
      ]
     },
     "metadata": {
      "needs_background": "light"
     },
     "output_type": "display_data"
    },
    {
     "data": {
      "image/png": "[encoded data removed]",
      "text/plain": [
       "<Figure size 1008x288 with 1 Axes>"
      ]
     },
     "metadata": {
      "needs_background": "light"
     },
     "output_type": "display_data"
    },
    {
     "data": {
      "image/png": "[encoded data removed]",
      "text/plain": [
       "<Figure size 1008x288 with 1 Axes>"
      ]
     },
     "metadata": {
      "needs_background": "light"
     },
     "output_type": "display_data"
    },
    {
     "data": {
      "image/png": "[encoded data removed]",
      "text/plain": [
       "<Figure size 1008x288 with 1 Axes>"
      ]
     },
     "metadata": {
      "needs_background": "light"
     },
     "output_type": "display_data"
    },
    {
     "data": {
      "image/png": "[encoded data removed]",
      "text/plain": [
       "<Figure size 1008x288 with 1 Axes>"
      ]
     },
     "metadata": {
      "needs_background": "light"
     },
     "output_type": "display_data"
    }
   ],
   "source": [
    "for col in ['paid','activities','nursery','higher','internet','romantic']:\n",
    "    get_boxplot(col)"
   ]
  },
  {
   "cell_type": "markdown",
   "metadata": {},
   "source": [
    "В целом все исследованные признаки имеют статистическую значимость для score в той или иной мере. Особо выделяются признаки nursery,higher,internet, которые упоминались выше из-за их несбалансированности. При этом следуя здравому смыслу эти признаки действительно могут влиять на итоговый балл. Также видим, что учащиеся, посещающие дополнительные внеучебные занятия (activities) имеют выше значения минимума, максимума, верхней и нижней квартили, но медиана примерно совпадает со значением no.\n",
    "Похожая картина с признаком romantic. У учеников не состоящих в романтических отношениях (предположительно отдающих больше времени учебе) больше шансов получить высокий балл"
   ]
  },
  {
   "cell_type": "markdown",
   "metadata": {},
   "source": [
    "# Признак famrel:"
   ]
  },
  {
   "cell_type": "code",
   "execution_count": 72,
   "metadata": {},
   "outputs": [
    {
     "name": "stdout",
     "output_type": "stream",
     "text": [
      "Распределение значений famrel:\n",
      "  4.0    178\n",
      " 5.0     97\n",
      " 3.0     62\n",
      " 2.0     17\n",
      " 1.0      7\n",
      "-1.0      1\n",
      "Name: famrel, dtype: int64 \n",
      "\n",
      "Количество пропусков famrel:  27 \n",
      "\n"
     ]
    },
    {
     "data": {
      "text/plain": [
       "<matplotlib.axes._subplots.AxesSubplot at 0x24250638588>"
      ]
     },
     "execution_count": 72,
     "metadata": {},
     "output_type": "execute_result"
    },
    {
     "data": {
      "image/png": "[encoded data removed]",
      "text/plain": [
       "<Figure size 432x288 with 1 Axes>"
      ]
     },
     "metadata": {
      "needs_background": "light"
     },
     "output_type": "display_data"
    }
   ],
   "source": [
    "print('Распределение значений famrel:\\n', df.famrel.value_counts(),'\\n')\n",
    "print('Количество пропусков famrel: ', pd.isna(df['famrel']).sum(),'\\n')\n",
    "df.famrel.hist(bins=6)"
   ]
  },
  {
   "cell_type": "markdown",
   "metadata": {},
   "source": [
    "Видим, что есть значение -1, которое не соотносится с заданной в описании шкалой. Предполагаем, что -1 на самом деле 1"
   ]
  },
  {
   "cell_type": "code",
   "execution_count": 73,
   "metadata": {},
   "outputs": [],
   "source": [
    "df['famrel'] = df.apply(lambda x: x.famrel * (-1) if x.famrel < 0 else x.famrel, axis=1)"
   ]
  },
  {
   "cell_type": "code",
   "execution_count": 74,
   "metadata": {},
   "outputs": [
    {
     "name": "stdout",
     "output_type": "stream",
     "text": [
      "Распределение значений famrel:\n",
      " 4.0    178\n",
      "5.0     97\n",
      "3.0     62\n",
      "2.0     17\n",
      "1.0      8\n",
      "Name: famrel, dtype: int64 \n",
      "\n"
     ]
    },
    {
     "data": {
      "text/plain": [
       "<matplotlib.axes._subplots.AxesSubplot at 0x242504de708>"
      ]
     },
     "execution_count": 74,
     "metadata": {},
     "output_type": "execute_result"
    },
    {
     "data": {
      "image/png": "[encoded data removed]",
      "text/plain": [
       "<Figure size 432x288 with 1 Axes>"
      ]
     },
     "metadata": {
      "needs_background": "light"
     },
     "output_type": "display_data"
    }
   ],
   "source": [
    "print('Распределение значений famrel:\\n', df.famrel.value_counts(),'\\n')\n",
    "df.famrel.hist(bins=5)"
   ]
  },
  {
   "cell_type": "markdown",
   "metadata": {},
   "source": [
    "Заполнить пропуски попробуем двумя способами, затем сравним полученные графики. 1 способ - через функцию random (famrel_rand), второй способ - учитывая пропорции текущих значений (famrel_prop)"
   ]
  },
  {
   "cell_type": "code",
   "execution_count": 75,
   "metadata": {},
   "outputs": [
    {
     "data": {
      "text/plain": [
       "4.0    185\n",
       "5.0    106\n",
       "3.0     65\n",
       "2.0     20\n",
       "1.0     13\n",
       "Name: famrel_rand, dtype: int64"
      ]
     },
     "metadata": {},
     "output_type": "display_data"
    },
    {
     "name": "stdout",
     "output_type": "stream",
     "text": [
      "Количество пропусков famrel_rand:  0 \n",
      "\n"
     ]
    },
    {
     "data": {
      "text/plain": [
       "<matplotlib.axes._subplots.AxesSubplot at 0x242509c1548>"
      ]
     },
     "execution_count": 75,
     "metadata": {},
     "output_type": "execute_result"
    },
    {
     "data": {
      "image/png": "[encoded data removed]",
      "text/plain": [
       "<Figure size 432x288 with 1 Axes>"
      ]
     },
     "metadata": {
      "needs_background": "light"
     },
     "output_type": "display_data"
    }
   ],
   "source": [
    "df['famrel_rand']= df.apply(lambda x: random.randint(1,5) if pd.isna(x.famrel) else x.famrel, axis=1)\n",
    "display(df.famrel_rand.value_counts())\n",
    "print('Количество пропусков famrel_rand: ', pd.isna(df['famrel_rand']).sum(),'\\n')\n",
    "df.famrel_rand.hist(bins=5)"
   ]
  },
  {
   "cell_type": "code",
   "execution_count": 76,
   "metadata": {},
   "outputs": [
    {
     "data": {
      "text/plain": [
       "4.0    188\n",
       "5.0    108\n",
       "3.0     68\n",
       "2.0     17\n",
       "1.0      8\n",
       "Name: famrel_prop, dtype: int64"
      ]
     },
     "metadata": {},
     "output_type": "display_data"
    },
    {
     "name": "stdout",
     "output_type": "stream",
     "text": [
      "Количество пропусков famrel_prop:  0 \n",
      "\n"
     ]
    },
    {
     "data": {
      "text/plain": [
       "<matplotlib.axes._subplots.AxesSubplot at 0x24250a7a248>"
      ]
     },
     "execution_count": 76,
     "metadata": {},
     "output_type": "execute_result"
    },
    {
     "data": {
      "image/png": "[encoded data removed]",
      "text/plain": [
       "<Figure size 432x288 with 1 Axes>"
      ]
     },
     "metadata": {
      "needs_background": "light"
     },
     "output_type": "display_data"
    }
   ],
   "source": [
    "df['famrel_prop'] = df.famrel\n",
    "df.famrel_prop = df.famrel_prop.interpolate(method='pad')\n",
    "display(df.famrel_prop.value_counts())\n",
    "print('Количество пропусков famrel_prop: ', pd.isna(df['famrel_prop']).sum(),'\\n')\n",
    "df.famrel_prop.hist(bins=5)"
   ]
  },
  {
   "cell_type": "markdown",
   "metadata": {},
   "source": [
    "Заполнение по random сократило разрыв между значениями 1 и 2, в то время как заполнение по пропорции не добавило этих значений вообще. Но \"на глаз\" более похожим выглядит второй график. Поэтому остановимся на этом способе:"
   ]
  },
  {
   "cell_type": "code",
   "execution_count": 77,
   "metadata": {},
   "outputs": [],
   "source": [
    "df = df.drop(['famrel_rand','famrel_prop'],1)"
   ]
  },
  {
   "cell_type": "code",
   "execution_count": 78,
   "metadata": {},
   "outputs": [
    {
     "data": {
      "image/png": "[encoded data removed]",
      "text/plain": [
       "<Figure size 1008x288 with 1 Axes>"
      ]
     },
     "metadata": {
      "needs_background": "light"
     },
     "output_type": "display_data"
    }
   ],
   "source": [
    "get_boxplot('famrel')"
   ]
  },
  {
   "cell_type": "markdown",
   "metadata": {},
   "source": [
    "Видим, что разные значения признака famrel имеют разные статистические значения по score, таким образом признак можно считать значимым. Посмотрим, что будет, если мы обощим оценки: меньше 3 будет иметь значение 'bad', 3 - 'normal', больше 3 - 'good'"
   ]
  },
  {
   "cell_type": "code",
   "execution_count": 79,
   "metadata": {},
   "outputs": [
    {
     "data": {
      "text/plain": [
       "good      302\n",
       "normal     62\n",
       "bad        25\n",
       "Name: famrel_ind, dtype: int64"
      ]
     },
     "execution_count": 79,
     "metadata": {},
     "output_type": "execute_result"
    }
   ],
   "source": [
    "df['famrel_ind'] = df.apply(lambda x: 'bad' if x.famrel < 3 else ('normal' if x.famrel == 3 else 'good'), axis=1)\n",
    "df.famrel_ind.value_counts()"
   ]
  },
  {
   "cell_type": "code",
   "execution_count": 80,
   "metadata": {},
   "outputs": [
    {
     "data": {
      "image/png": "[encoded data removed]",
      "text/plain": [
       "<Figure size 1008x288 with 1 Axes>"
      ]
     },
     "metadata": {
      "needs_background": "light"
     },
     "output_type": "display_data"
    }
   ],
   "source": [
    "get_boxplot('famrel_ind')"
   ]
  },
  {
   "cell_type": "markdown",
   "metadata": {},
   "source": [
    " Видим, что при обобщении значения score для разных типов семейных отношений больше отличаются. Например, ученики с \"плохими\" отношениями в семье не набирали более 80 баллов на экзамене. Оставим этот признак вместо исходного famrel"
   ]
  },
  {
   "cell_type": "markdown",
   "metadata": {},
   "source": [
    "# Признак goout:"
   ]
  },
  {
   "cell_type": "code",
   "execution_count": 81,
   "metadata": {},
   "outputs": [
    {
     "name": "stdout",
     "output_type": "stream",
     "text": [
      "Распределение значений goout:\n",
      " 3.0    126\n",
      "2.0    101\n",
      "4.0     81\n",
      "5.0     51\n",
      "1.0     23\n",
      "Name: goout, dtype: int64 \n",
      "\n",
      "Количество пропусков goout:  7 \n",
      "\n"
     ]
    },
    {
     "data": {
      "text/plain": [
       "<matplotlib.axes._subplots.AxesSubplot at 0x24250a17d48>"
      ]
     },
     "execution_count": 81,
     "metadata": {},
     "output_type": "execute_result"
    },
    {
     "data": {
      "image/png": "[encoded data removed]",
      "text/plain": [
       "<Figure size 432x288 with 1 Axes>"
      ]
     },
     "metadata": {
      "needs_background": "light"
     },
     "output_type": "display_data"
    }
   ],
   "source": [
    "print('Распределение значений goout:\\n', df.goout.value_counts(),'\\n')\n",
    "print('Количество пропусков goout: ', pd.isna(df['goout']).sum(),'\\n')\n",
    "df.goout.hist(bins=5)"
   ]
  },
  {
   "cell_type": "markdown",
   "metadata": {},
   "source": [
    "Опять же видим нормальное распределение значений признака. Применим метод пропорций для заполнения пропусков, как для famrel:"
   ]
  },
  {
   "cell_type": "code",
   "execution_count": 82,
   "metadata": {},
   "outputs": [
    {
     "data": {
      "text/plain": [
       "3.0    126\n",
       "2.0    105\n",
       "4.0     81\n",
       "5.0     54\n",
       "1.0     23\n",
       "Name: goout, dtype: int64"
      ]
     },
     "metadata": {},
     "output_type": "display_data"
    },
    {
     "data": {
      "text/plain": [
       "<matplotlib.axes._subplots.AxesSubplot at 0x24251c2e908>"
      ]
     },
     "execution_count": 82,
     "metadata": {},
     "output_type": "execute_result"
    },
    {
     "data": {
      "image/png": "[encoded data removed]",
      "text/plain": [
       "<Figure size 432x288 with 1 Axes>"
      ]
     },
     "metadata": {
      "needs_background": "light"
     },
     "output_type": "display_data"
    }
   ],
   "source": [
    "df.goout = df.goout.interpolate(method='pad')\n",
    "display(df.goout.value_counts())\n",
    "df.goout.hist(bins=5)"
   ]
  },
  {
   "cell_type": "code",
   "execution_count": 83,
   "metadata": {},
   "outputs": [
    {
     "data": {
      "image/png": "[encoded data removed]",
      "text/plain": [
       "<Figure size 1008x288 with 1 Axes>"
      ]
     },
     "metadata": {
      "needs_background": "light"
     },
     "output_type": "display_data"
    }
   ],
   "source": [
    "get_boxplot('goout')"
   ]
  },
  {
   "cell_type": "markdown",
   "metadata": {},
   "source": [
    "На графике видно, что медианные значения score выше у тех, кто меньше проводит время с друзьями, значит этот признак значимый. Попробуем обобщить значения: если значение goout равняется 1 или 2, будем считать, что учащийся гуляет редко, если 3 - средне, если 4 или 5 - часто:"
   ]
  },
  {
   "cell_type": "code",
   "execution_count": 84,
   "metadata": {},
   "outputs": [
    {
     "data": {
      "text/plain": [
       "often     135\n",
       "rarely    128\n",
       "middle    126\n",
       "Name: goout_ind, dtype: int64"
      ]
     },
     "execution_count": 84,
     "metadata": {},
     "output_type": "execute_result"
    }
   ],
   "source": [
    "df['goout_ind'] = df.apply(lambda x: 'rarely' if x.goout < 3 else ('middle' if x.goout == 3 else 'often'), axis=1)\n",
    "df.goout_ind.value_counts()"
   ]
  },
  {
   "cell_type": "code",
   "execution_count": 85,
   "metadata": {},
   "outputs": [
    {
     "data": {
      "image/png": "[encoded data removed]",
      "text/plain": [
       "<Figure size 1008x288 with 1 Axes>"
      ]
     },
     "metadata": {
      "needs_background": "light"
     },
     "output_type": "display_data"
    }
   ],
   "source": [
    "for col in ['goout_ind']:\n",
    "    get_boxplot(col)"
   ]
  },
  {
   "cell_type": "markdown",
   "metadata": {},
   "source": [
    "Видим, что для значения rarely практически все статистические величины выше: максимум, минимум, нижняя квартиль. У тех, кто гуляет с друзьями часто все эти показатели ниже. Можно оставить goout_ind вместо goout, чтобы в дальнейшем преобразовать его через dummy-переменные"
   ]
  },
  {
   "cell_type": "markdown",
   "metadata": {},
   "source": [
    "# Признак health:"
   ]
  },
  {
   "cell_type": "code",
   "execution_count": 86,
   "metadata": {},
   "outputs": [
    {
     "name": "stdout",
     "output_type": "stream",
     "text": [
      "Распределение значений health:\n",
      " 5.0    137\n",
      "3.0     88\n",
      "4.0     60\n",
      "1.0     47\n",
      "2.0     42\n",
      "Name: health, dtype: int64 \n",
      "\n",
      "Количество пропусков health:  15 \n",
      "\n"
     ]
    },
    {
     "data": {
      "text/plain": [
       "<matplotlib.axes._subplots.AxesSubplot at 0x242505f0508>"
      ]
     },
     "execution_count": 86,
     "metadata": {},
     "output_type": "execute_result"
    },
    {
     "data": {
      "image/png": "[encoded data removed]",
      "text/plain": [
       "<Figure size 432x288 with 1 Axes>"
      ]
     },
     "metadata": {
      "needs_background": "light"
     },
     "output_type": "display_data"
    }
   ],
   "source": [
    "print('Распределение значений health:\\n', df.health.value_counts(),'\\n')\n",
    "print('Количество пропусков health: ', pd.isna(df['health']).sum(),'\\n')\n",
    "df.health.hist(bins=5)"
   ]
  },
  {
   "cell_type": "markdown",
   "metadata": {},
   "source": [
    "Попробуем заполнить пропусков аналогично предыдущим пунктам:"
   ]
  },
  {
   "cell_type": "code",
   "execution_count": 87,
   "metadata": {},
   "outputs": [
    {
     "data": {
      "text/plain": [
       "5.0    140\n",
       "3.0     90\n",
       "4.0     63\n",
       "1.0     51\n",
       "2.0     45\n",
       "Name: health, dtype: int64"
      ]
     },
     "metadata": {},
     "output_type": "display_data"
    },
    {
     "name": "stdout",
     "output_type": "stream",
     "text": [
      "Количество пропусков health:  0 \n",
      "\n"
     ]
    },
    {
     "data": {
      "text/plain": [
       "<matplotlib.axes._subplots.AxesSubplot at 0x242504f3508>"
      ]
     },
     "execution_count": 87,
     "metadata": {},
     "output_type": "execute_result"
    },
    {
     "data": {
      "image/png": "[encoded data removed]",
      "text/plain": [
       "<Figure size 432x288 with 1 Axes>"
      ]
     },
     "metadata": {
      "needs_background": "light"
     },
     "output_type": "display_data"
    }
   ],
   "source": [
    "df['health'] = df.health.interpolate(method='pad')\n",
    "display(df.health.value_counts())\n",
    "print('Количество пропусков health: ', pd.isna(df['health']).sum(),'\\n')\n",
    "df.health.hist(bins=5)"
   ]
  },
  {
   "cell_type": "code",
   "execution_count": 88,
   "metadata": {},
   "outputs": [
    {
     "data": {
      "image/png": "[encoded data removed]",
      "text/plain": [
       "<Figure size 1008x288 with 1 Axes>"
      ]
     },
     "metadata": {
      "needs_background": "light"
     },
     "output_type": "display_data"
    }
   ],
   "source": [
    "get_boxplot('health')"
   ]
  },
  {
   "cell_type": "code",
   "execution_count": 89,
   "metadata": {},
   "outputs": [
    {
     "data": {
      "text/plain": [
       "good      203\n",
       "bad        96\n",
       "normal     90\n",
       "Name: health_ind, dtype: int64"
      ]
     },
     "execution_count": 89,
     "metadata": {},
     "output_type": "execute_result"
    }
   ],
   "source": [
    "df['health_ind'] = df.apply(lambda x: 'bad' if x.health < 3 else ('normal' if x.health == 3 else 'good'), axis=1)\n",
    "df.health_ind.value_counts()"
   ]
  },
  {
   "cell_type": "code",
   "execution_count": 90,
   "metadata": {},
   "outputs": [
    {
     "data": {
      "image/png": "[encoded data removed]",
      "text/plain": [
       "<Figure size 1008x288 with 1 Axes>"
      ]
     },
     "metadata": {
      "needs_background": "light"
     },
     "output_type": "display_data"
    }
   ],
   "source": [
    "get_boxplot('health_ind')"
   ]
  },
  {
   "cell_type": "markdown",
   "metadata": {},
   "source": [
    "Согласно графику получается, что ученики, жалующиеся на здоровье, в целом лучше сдают экзамены. Это может быть как причиной (высокие баллы получают чаще те, кто усидчиво занимается уроками, а низкая подвижность может отрицательно сказываться на здоровье), так и следствием (например, ученики с плохим здоровьем больше мотивированы на успех). Для дальнейшего анализа предлагаю оставить обощенный столбец для преобразования его через dummy-переменные"
   ]
  },
  {
   "cell_type": "markdown",
   "metadata": {},
   "source": [
    "# Признак absences:"
   ]
  },
  {
   "cell_type": "code",
   "execution_count": 91,
   "metadata": {},
   "outputs": [
    {
     "name": "stdout",
     "output_type": "stream",
     "text": [
      "Распределение значений absences:\n",
      " 0.0      110\n",
      "2.0       60\n",
      "4.0       52\n",
      "6.0       30\n",
      "8.0       20\n",
      "10.0      17\n",
      "12.0      12\n",
      "14.0      12\n",
      "3.0        7\n",
      "16.0       7\n",
      "7.0        6\n",
      "5.0        5\n",
      "18.0       5\n",
      "20.0       4\n",
      "22.0       3\n",
      "9.0        3\n",
      "1.0        3\n",
      "15.0       2\n",
      "13.0       2\n",
      "11.0       2\n",
      "25.0       1\n",
      "54.0       1\n",
      "385.0      1\n",
      "26.0       1\n",
      "56.0       1\n",
      "24.0       1\n",
      "212.0      1\n",
      "21.0       1\n",
      "75.0       1\n",
      "30.0       1\n",
      "19.0       1\n",
      "38.0       1\n",
      "40.0       1\n",
      "23.0       1\n",
      "17.0       1\n",
      "28.0       1\n",
      "Name: absences, dtype: int64 \n",
      "\n",
      "Статистические параметры признака:\n",
      " count    378.000000\n",
      "mean       7.320106\n",
      "std       23.615525\n",
      "min        0.000000\n",
      "25%        0.000000\n",
      "50%        4.000000\n",
      "75%        8.000000\n",
      "max      385.000000\n",
      "Name: absences, dtype: float64 \n",
      "\n",
      "Количество пропусков absences:  11 \n",
      "\n"
     ]
    },
    {
     "data": {
      "text/plain": [
       "<matplotlib.axes._subplots.AxesSubplot at 0x24251d71b48>"
      ]
     },
     "execution_count": 91,
     "metadata": {},
     "output_type": "execute_result"
    },
    {
     "data": {
      "image/png": "[encoded data removed]",
      "text/plain": [
       "<Figure size 432x288 with 1 Axes>"
      ]
     },
     "metadata": {
      "needs_background": "light"
     },
     "output_type": "display_data"
    }
   ],
   "source": [
    "print('Распределение значений absences:\\n', df.absences.value_counts(),'\\n')\n",
    "print('Статистические параметры признака:\\n', df.absences.describe(),'\\n')\n",
    "print('Количество пропусков absences: ', pd.isna(df['absences']).sum(),'\\n')\n",
    "df.absences.hist()"
   ]
  },
  {
   "cell_type": "markdown",
   "metadata": {},
   "source": [
    "На графике видно, что есть выбросы, причем в некоторых случаях количество пропущенных занятий измеряется сотнями. Попробуем от них избавиться"
   ]
  },
  {
   "cell_type": "code",
   "execution_count": 92,
   "metadata": {},
   "outputs": [
    {
     "name": "stdout",
     "output_type": "stream",
     "text": [
      "25-й перцентиль: 0.0, 75-й перцентиль: 8.0, IQR: 8.0,  Границы выбросов: [-12.0, 20.0].\n",
      "4.0\n"
     ]
    },
    {
     "data": {
      "image/png": "[encoded data removed]",
      "text/plain": [
       "<Figure size 432x288 with 1 Axes>"
      ]
     },
     "metadata": {
      "needs_background": "light"
     },
     "output_type": "display_data"
    }
   ],
   "source": [
    "median = df.absences.median()\n",
    "IQR = df.absences.quantile(0.75) - df.absences.quantile(0.25)\n",
    "perc25 = df.absences.quantile(0.25)\n",
    "perc75 = df.absences.quantile(0.75)\n",
    "print('25-й перцентиль: {},'.format(perc25), '75-й перцентиль: {},'.format(perc75)\n",
    "      , \"IQR: {}, \".format(IQR),\"Границы выбросов: [{f}, {l}].\".format(f=perc25 - 1.5*IQR, l=perc75 + 1.5*IQR))\n",
    "df.absences.loc[df.absences.between(perc25 - 1.5*IQR, perc75 + 1.5*IQR)].hist(bins = 5, range = (0, 10), \n",
    "                                                                                             label = 'IQR')\n",
    "plt.legend();\n",
    "print(median)"
   ]
  },
  {
   "cell_type": "markdown",
   "metadata": {},
   "source": [
    "25-й персентиль рассчитался как 0, нижняя граница выбросов -12, но количество пропусков меньше 0 быть не может, поэтому и нижнюю границу выбросов заменим на 0. Отфильтруем эти строки и посмотрим, сколько останется строк в датасете и какова будет корреляция с целевой переменной:"
   ]
  },
  {
   "cell_type": "code",
   "execution_count": 93,
   "metadata": {},
   "outputs": [
    {
     "name": "stdout",
     "output_type": "stream",
     "text": [
      "Осталось строк:  361\n"
     ]
    },
    {
     "data": {
      "text/html": [
       "<div>\n",
       "<style scoped>\n",
       "    .dataframe tbody tr th:only-of-type {\n",
       "        vertical-align: middle;\n",
       "    }\n",
       "\n",
       "    .dataframe tbody tr th {\n",
       "        vertical-align: top;\n",
       "    }\n",
       "\n",
       "    .dataframe thead th {\n",
       "        text-align: right;\n",
       "    }\n",
       "</style>\n",
       "<table border=\"1\" class=\"dataframe\">\n",
       "  <thead>\n",
       "    <tr style=\"text-align: right;\">\n",
       "      <th></th>\n",
       "      <th>absences</th>\n",
       "      <th>score</th>\n",
       "    </tr>\n",
       "  </thead>\n",
       "  <tbody>\n",
       "    <tr>\n",
       "      <th>absences</th>\n",
       "      <td>1.000000</td>\n",
       "      <td>0.081274</td>\n",
       "    </tr>\n",
       "    <tr>\n",
       "      <th>score</th>\n",
       "      <td>0.081274</td>\n",
       "      <td>1.000000</td>\n",
       "    </tr>\n",
       "  </tbody>\n",
       "</table>\n",
       "</div>"
      ],
      "text/plain": [
       "          absences     score\n",
       "absences  1.000000  0.081274\n",
       "score     0.081274  1.000000"
      ]
     },
     "execution_count": 93,
     "metadata": {},
     "output_type": "execute_result"
    }
   ],
   "source": [
    "df = df.loc[df.absences.between(0, perc75 + 1.5*IQR)]\n",
    "print('Осталось строк: ', len(df))\n",
    "df[['absences','score']].corr()"
   ]
  },
  {
   "cell_type": "markdown",
   "metadata": {},
   "source": [
    "Видим, что 28 строк придется удалить. Коэффициент корреляции с переменной score составит чуть более 8%."
   ]
  },
  {
   "cell_type": "markdown",
   "metadata": {},
   "source": [
    "Интересно проверить гипотезу о связи состояния здоровья с пропущенными занятиями - возможно большинство учеников не приходят в школе по причине проблем со здоровьем:"
   ]
  },
  {
   "cell_type": "code",
   "execution_count": 94,
   "metadata": {},
   "outputs": [
    {
     "data": {
      "image/png": "[encoded data removed]",
      "text/plain": [
       "<Figure size 1008x288 with 1 Axes>"
      ]
     },
     "metadata": {
      "needs_background": "light"
     },
     "output_type": "display_data"
    }
   ],
   "source": [
    "fig, ax = plt.subplots(figsize = (14, 4))\n",
    "sns.boxplot(x='health_ind', y='absences', \n",
    "            data=df.loc[df.loc[:, 'health_ind'].isin(df.loc[:, 'health_ind'].value_counts().index[:])], ax=ax)\n",
    "plt.xticks(rotation=45)\n",
    "ax.set_title('Boxplot for health_ind')\n",
    "plt.show()"
   ]
  },
  {
   "cell_type": "markdown",
   "metadata": {},
   "source": [
    "Видим, что чаще всего пропускают занятия ученики из категории здоровья normal. Напомним, что это те, у кого исходный признак health имел значение 3, то есть хуже, чем хорошо, но и не совсем плохо. "
   ]
  },
  {
   "cell_type": "markdown",
   "metadata": {},
   "source": [
    "# Выбор значимых столбцов для модели"
   ]
  },
  {
   "cell_type": "markdown",
   "metadata": {},
   "source": [
    "В этом блоке будем производить отбор признаков для построения модели. Для начала выведем все столбцы, которые мы получили в ходе преобразований:"
   ]
  },
  {
   "cell_type": "code",
   "execution_count": 95,
   "metadata": {},
   "outputs": [
    {
     "data": {
      "text/plain": [
       "Index(['school', 'sex', 'age', 'address', 'famsize', 'Pstatus', 'Medu', 'Fedu',\n",
       "       'Mjob', 'Fjob', 'reason', 'guardian', 'traveltime', 'studytime',\n",
       "       'failures', 'schoolsup', 'famsup', 'paid', 'activities', 'nursery',\n",
       "       'studytime, granular', 'higher', 'internet', 'romantic', 'famrel',\n",
       "       'freetime', 'goout', 'health', 'absences', 'score', 'score_ind',\n",
       "       'Par_edu', 'Par_job', 'schoolsup_int', 'famsup_int', 'support',\n",
       "       'paid_int', 'activities_int', 'nursery_int', 'higher_int',\n",
       "       'internet_int', 'romantic_int', 'famrel_ind', 'goout_ind',\n",
       "       'health_ind'],\n",
       "      dtype='object')"
      ]
     },
     "execution_count": 95,
     "metadata": {},
     "output_type": "execute_result"
    }
   ],
   "source": [
    "df.columns"
   ]
  },
  {
   "cell_type": "markdown",
   "metadata": {},
   "source": [
    "Оставим следующие: \n",
    "'school', 'sex', 'age', 'address', 'famsize', 'Pstatus', 'Par_edu', 'Par_job', \n",
    "'reason', 'guardian', 'traveltime', 'studytime','failures', 'support', 'paid_int',\n",
    "'activities_int', 'nursery_int', 'higher_int', 'internet_int', 'romantic_int', 'famrel_ind', \n",
    "'freetime', 'goout_ind', 'health_ind', 'absences', 'score', 'score_ind',"
   ]
  },
  {
   "cell_type": "code",
   "execution_count": 96,
   "metadata": {
    "scrolled": true
   },
   "outputs": [
    {
     "data": {
      "text/plain": [
       "<matplotlib.axes._subplots.AxesSubplot at 0x2425205a388>"
      ]
     },
     "execution_count": 96,
     "metadata": {},
     "output_type": "execute_result"
    },
    {
     "data": {
      "image/png": "[encoded data removed]",
      "text/plain": [
       "<Figure size 720x720 with 2 Axes>"
      ]
     },
     "metadata": {
      "needs_background": "light"
     },
     "output_type": "display_data"
    }
   ],
   "source": [
    "corr = df[['school', 'sex', 'age', 'address', 'famsize', 'Pstatus', 'Par_edu', 'Par_job', \n",
    "'reason', 'guardian', 'traveltime', 'studytime','failures', 'support', 'paid_int',\n",
    "'activities_int', 'nursery_int', 'higher_int', 'internet_int', 'romantic_int', 'famrel_ind', \n",
    "'freetime', 'goout_ind', 'health_ind', 'absences', 'score', 'score_ind']].corr()\n",
    "fig, ax = plt.subplots(figsize=(10,10))\n",
    "sns.heatmap(corr)"
   ]
  },
  {
   "cell_type": "code",
   "execution_count": 97,
   "metadata": {},
   "outputs": [
    {
     "data": {
      "text/html": [
       "<div>\n",
       "<style scoped>\n",
       "    .dataframe tbody tr th:only-of-type {\n",
       "        vertical-align: middle;\n",
       "    }\n",
       "\n",
       "    .dataframe tbody tr th {\n",
       "        vertical-align: top;\n",
       "    }\n",
       "\n",
       "    .dataframe thead th {\n",
       "        text-align: right;\n",
       "    }\n",
       "</style>\n",
       "<table border=\"1\" class=\"dataframe\">\n",
       "  <thead>\n",
       "    <tr style=\"text-align: right;\">\n",
       "      <th></th>\n",
       "      <th>age</th>\n",
       "      <th>Par_edu</th>\n",
       "      <th>Par_job</th>\n",
       "      <th>traveltime</th>\n",
       "      <th>studytime</th>\n",
       "      <th>failures</th>\n",
       "      <th>support</th>\n",
       "      <th>paid_int</th>\n",
       "      <th>activities_int</th>\n",
       "      <th>nursery_int</th>\n",
       "      <th>higher_int</th>\n",
       "      <th>internet_int</th>\n",
       "      <th>romantic_int</th>\n",
       "      <th>freetime</th>\n",
       "      <th>absences</th>\n",
       "      <th>score</th>\n",
       "      <th>score_ind</th>\n",
       "    </tr>\n",
       "  </thead>\n",
       "  <tbody>\n",
       "    <tr>\n",
       "      <th>age</th>\n",
       "      <td>1.000000</td>\n",
       "      <td>-0.157126</td>\n",
       "      <td>-0.033922</td>\n",
       "      <td>0.076703</td>\n",
       "      <td>0.001344</td>\n",
       "      <td>0.202576</td>\n",
       "      <td>-0.209709</td>\n",
       "      <td>0.002248</td>\n",
       "      <td>-0.003993</td>\n",
       "      <td>-0.126496</td>\n",
       "      <td>-0.064662</td>\n",
       "      <td>-0.083201</td>\n",
       "      <td>0.147655</td>\n",
       "      <td>0.008142</td>\n",
       "      <td>0.155469</td>\n",
       "      <td>-0.159306</td>\n",
       "      <td>-0.103340</td>\n",
       "    </tr>\n",
       "    <tr>\n",
       "      <th>Par_edu</th>\n",
       "      <td>-0.157126</td>\n",
       "      <td>1.000000</td>\n",
       "      <td>0.104261</td>\n",
       "      <td>-0.087484</td>\n",
       "      <td>0.056798</td>\n",
       "      <td>-0.240059</td>\n",
       "      <td>0.164238</td>\n",
       "      <td>0.013476</td>\n",
       "      <td>0.109727</td>\n",
       "      <td>0.139844</td>\n",
       "      <td>0.027862</td>\n",
       "      <td>0.142078</td>\n",
       "      <td>0.010234</td>\n",
       "      <td>0.028269</td>\n",
       "      <td>0.050641</td>\n",
       "      <td>0.210676</td>\n",
       "      <td>0.122511</td>\n",
       "    </tr>\n",
       "    <tr>\n",
       "      <th>Par_job</th>\n",
       "      <td>-0.033922</td>\n",
       "      <td>0.104261</td>\n",
       "      <td>1.000000</td>\n",
       "      <td>0.059961</td>\n",
       "      <td>-0.007611</td>\n",
       "      <td>-0.046131</td>\n",
       "      <td>0.040997</td>\n",
       "      <td>0.049948</td>\n",
       "      <td>-0.018040</td>\n",
       "      <td>0.038004</td>\n",
       "      <td>-0.046426</td>\n",
       "      <td>-0.000938</td>\n",
       "      <td>0.008423</td>\n",
       "      <td>0.035790</td>\n",
       "      <td>-0.000657</td>\n",
       "      <td>0.009286</td>\n",
       "      <td>0.057661</td>\n",
       "    </tr>\n",
       "    <tr>\n",
       "      <th>traveltime</th>\n",
       "      <td>0.076703</td>\n",
       "      <td>-0.087484</td>\n",
       "      <td>0.059961</td>\n",
       "      <td>1.000000</td>\n",
       "      <td>-0.065405</td>\n",
       "      <td>0.023316</td>\n",
       "      <td>-0.037728</td>\n",
       "      <td>-0.012772</td>\n",
       "      <td>-0.002358</td>\n",
       "      <td>-0.024665</td>\n",
       "      <td>-0.126740</td>\n",
       "      <td>-0.000577</td>\n",
       "      <td>0.089240</td>\n",
       "      <td>0.000810</td>\n",
       "      <td>-0.019610</td>\n",
       "      <td>-0.033659</td>\n",
       "      <td>0.010273</td>\n",
       "    </tr>\n",
       "    <tr>\n",
       "      <th>studytime</th>\n",
       "      <td>0.001344</td>\n",
       "      <td>0.056798</td>\n",
       "      <td>-0.007611</td>\n",
       "      <td>-0.065405</td>\n",
       "      <td>1.000000</td>\n",
       "      <td>-0.147012</td>\n",
       "      <td>0.132950</td>\n",
       "      <td>0.211262</td>\n",
       "      <td>0.091712</td>\n",
       "      <td>0.046684</td>\n",
       "      <td>0.106080</td>\n",
       "      <td>0.125547</td>\n",
       "      <td>0.061561</td>\n",
       "      <td>-0.118001</td>\n",
       "      <td>-0.081188</td>\n",
       "      <td>0.091603</td>\n",
       "      <td>0.017735</td>\n",
       "    </tr>\n",
       "    <tr>\n",
       "      <th>failures</th>\n",
       "      <td>0.202576</td>\n",
       "      <td>-0.240059</td>\n",
       "      <td>-0.046131</td>\n",
       "      <td>0.023316</td>\n",
       "      <td>-0.147012</td>\n",
       "      <td>1.000000</td>\n",
       "      <td>-0.070020</td>\n",
       "      <td>-0.123590</td>\n",
       "      <td>-0.044357</td>\n",
       "      <td>-0.146056</td>\n",
       "      <td>-0.095110</td>\n",
       "      <td>-0.036053</td>\n",
       "      <td>0.084532</td>\n",
       "      <td>0.057698</td>\n",
       "      <td>0.092437</td>\n",
       "      <td>-0.316455</td>\n",
       "      <td>-0.197345</td>\n",
       "    </tr>\n",
       "    <tr>\n",
       "      <th>support</th>\n",
       "      <td>-0.209709</td>\n",
       "      <td>0.164238</td>\n",
       "      <td>0.040997</td>\n",
       "      <td>-0.037728</td>\n",
       "      <td>0.132950</td>\n",
       "      <td>-0.070020</td>\n",
       "      <td>1.000000</td>\n",
       "      <td>0.113211</td>\n",
       "      <td>0.000825</td>\n",
       "      <td>0.098551</td>\n",
       "      <td>0.066592</td>\n",
       "      <td>0.122211</td>\n",
       "      <td>0.043536</td>\n",
       "      <td>-0.042674</td>\n",
       "      <td>0.039308</td>\n",
       "      <td>-0.043731</td>\n",
       "      <td>0.034810</td>\n",
       "    </tr>\n",
       "    <tr>\n",
       "      <th>paid_int</th>\n",
       "      <td>0.002248</td>\n",
       "      <td>0.013476</td>\n",
       "      <td>0.049948</td>\n",
       "      <td>-0.012772</td>\n",
       "      <td>0.211262</td>\n",
       "      <td>-0.123590</td>\n",
       "      <td>0.113211</td>\n",
       "      <td>1.000000</td>\n",
       "      <td>-0.007626</td>\n",
       "      <td>0.018386</td>\n",
       "      <td>0.069448</td>\n",
       "      <td>0.117275</td>\n",
       "      <td>0.064336</td>\n",
       "      <td>-0.010027</td>\n",
       "      <td>-0.064137</td>\n",
       "      <td>0.094491</td>\n",
       "      <td>0.088047</td>\n",
       "    </tr>\n",
       "    <tr>\n",
       "      <th>activities_int</th>\n",
       "      <td>-0.003993</td>\n",
       "      <td>0.109727</td>\n",
       "      <td>-0.018040</td>\n",
       "      <td>-0.002358</td>\n",
       "      <td>0.091712</td>\n",
       "      <td>-0.044357</td>\n",
       "      <td>0.000825</td>\n",
       "      <td>-0.007626</td>\n",
       "      <td>1.000000</td>\n",
       "      <td>-0.018153</td>\n",
       "      <td>0.053386</td>\n",
       "      <td>-0.023739</td>\n",
       "      <td>0.014748</td>\n",
       "      <td>0.064844</td>\n",
       "      <td>0.035636</td>\n",
       "      <td>0.027483</td>\n",
       "      <td>-0.020173</td>\n",
       "    </tr>\n",
       "    <tr>\n",
       "      <th>nursery_int</th>\n",
       "      <td>-0.126496</td>\n",
       "      <td>0.139844</td>\n",
       "      <td>0.038004</td>\n",
       "      <td>-0.024665</td>\n",
       "      <td>0.046684</td>\n",
       "      <td>-0.146056</td>\n",
       "      <td>0.098551</td>\n",
       "      <td>0.018386</td>\n",
       "      <td>-0.018153</td>\n",
       "      <td>1.000000</td>\n",
       "      <td>0.026955</td>\n",
       "      <td>-0.000114</td>\n",
       "      <td>-0.023355</td>\n",
       "      <td>0.002262</td>\n",
       "      <td>0.046428</td>\n",
       "      <td>0.056952</td>\n",
       "      <td>0.085399</td>\n",
       "    </tr>\n",
       "    <tr>\n",
       "      <th>higher_int</th>\n",
       "      <td>-0.064662</td>\n",
       "      <td>0.027862</td>\n",
       "      <td>-0.046426</td>\n",
       "      <td>-0.126740</td>\n",
       "      <td>0.106080</td>\n",
       "      <td>-0.095110</td>\n",
       "      <td>0.066592</td>\n",
       "      <td>0.069448</td>\n",
       "      <td>0.053386</td>\n",
       "      <td>0.026955</td>\n",
       "      <td>1.000000</td>\n",
       "      <td>-0.046504</td>\n",
       "      <td>-0.014881</td>\n",
       "      <td>-0.085075</td>\n",
       "      <td>0.073803</td>\n",
       "      <td>0.048286</td>\n",
       "      <td>0.035520</td>\n",
       "    </tr>\n",
       "    <tr>\n",
       "      <th>internet_int</th>\n",
       "      <td>-0.083201</td>\n",
       "      <td>0.142078</td>\n",
       "      <td>-0.000938</td>\n",
       "      <td>-0.000577</td>\n",
       "      <td>0.125547</td>\n",
       "      <td>-0.036053</td>\n",
       "      <td>0.122211</td>\n",
       "      <td>0.117275</td>\n",
       "      <td>-0.023739</td>\n",
       "      <td>-0.000114</td>\n",
       "      <td>-0.046504</td>\n",
       "      <td>1.000000</td>\n",
       "      <td>0.084193</td>\n",
       "      <td>-0.018211</td>\n",
       "      <td>0.028147</td>\n",
       "      <td>0.080582</td>\n",
       "      <td>0.062081</td>\n",
       "    </tr>\n",
       "    <tr>\n",
       "      <th>romantic_int</th>\n",
       "      <td>0.147655</td>\n",
       "      <td>0.010234</td>\n",
       "      <td>0.008423</td>\n",
       "      <td>0.089240</td>\n",
       "      <td>0.061561</td>\n",
       "      <td>0.084532</td>\n",
       "      <td>0.043536</td>\n",
       "      <td>0.064336</td>\n",
       "      <td>0.014748</td>\n",
       "      <td>-0.023355</td>\n",
       "      <td>-0.014881</td>\n",
       "      <td>0.084193</td>\n",
       "      <td>1.000000</td>\n",
       "      <td>-0.016157</td>\n",
       "      <td>0.046090</td>\n",
       "      <td>-0.109951</td>\n",
       "      <td>-0.127435</td>\n",
       "    </tr>\n",
       "    <tr>\n",
       "      <th>freetime</th>\n",
       "      <td>0.008142</td>\n",
       "      <td>0.028269</td>\n",
       "      <td>0.035790</td>\n",
       "      <td>0.000810</td>\n",
       "      <td>-0.118001</td>\n",
       "      <td>0.057698</td>\n",
       "      <td>-0.042674</td>\n",
       "      <td>-0.010027</td>\n",
       "      <td>0.064844</td>\n",
       "      <td>0.002262</td>\n",
       "      <td>-0.085075</td>\n",
       "      <td>-0.018211</td>\n",
       "      <td>-0.016157</td>\n",
       "      <td>1.000000</td>\n",
       "      <td>0.051930</td>\n",
       "      <td>0.008865</td>\n",
       "      <td>0.048308</td>\n",
       "    </tr>\n",
       "    <tr>\n",
       "      <th>absences</th>\n",
       "      <td>0.155469</td>\n",
       "      <td>0.050641</td>\n",
       "      <td>-0.000657</td>\n",
       "      <td>-0.019610</td>\n",
       "      <td>-0.081188</td>\n",
       "      <td>0.092437</td>\n",
       "      <td>0.039308</td>\n",
       "      <td>-0.064137</td>\n",
       "      <td>0.035636</td>\n",
       "      <td>0.046428</td>\n",
       "      <td>0.073803</td>\n",
       "      <td>0.028147</td>\n",
       "      <td>0.046090</td>\n",
       "      <td>0.051930</td>\n",
       "      <td>1.000000</td>\n",
       "      <td>0.081274</td>\n",
       "      <td>0.307899</td>\n",
       "    </tr>\n",
       "    <tr>\n",
       "      <th>score</th>\n",
       "      <td>-0.159306</td>\n",
       "      <td>0.210676</td>\n",
       "      <td>0.009286</td>\n",
       "      <td>-0.033659</td>\n",
       "      <td>0.091603</td>\n",
       "      <td>-0.316455</td>\n",
       "      <td>-0.043731</td>\n",
       "      <td>0.094491</td>\n",
       "      <td>0.027483</td>\n",
       "      <td>0.056952</td>\n",
       "      <td>0.048286</td>\n",
       "      <td>0.080582</td>\n",
       "      <td>-0.109951</td>\n",
       "      <td>0.008865</td>\n",
       "      <td>0.081274</td>\n",
       "      <td>1.000000</td>\n",
       "      <td>0.754867</td>\n",
       "    </tr>\n",
       "    <tr>\n",
       "      <th>score_ind</th>\n",
       "      <td>-0.103340</td>\n",
       "      <td>0.122511</td>\n",
       "      <td>0.057661</td>\n",
       "      <td>0.010273</td>\n",
       "      <td>0.017735</td>\n",
       "      <td>-0.197345</td>\n",
       "      <td>0.034810</td>\n",
       "      <td>0.088047</td>\n",
       "      <td>-0.020173</td>\n",
       "      <td>0.085399</td>\n",
       "      <td>0.035520</td>\n",
       "      <td>0.062081</td>\n",
       "      <td>-0.127435</td>\n",
       "      <td>0.048308</td>\n",
       "      <td>0.307899</td>\n",
       "      <td>0.754867</td>\n",
       "      <td>1.000000</td>\n",
       "    </tr>\n",
       "  </tbody>\n",
       "</table>\n",
       "</div>"
      ],
      "text/plain": [
       "                     age   Par_edu   Par_job  traveltime  studytime  failures  \\\n",
       "age             1.000000 -0.157126 -0.033922    0.076703   0.001344  0.202576   \n",
       "Par_edu        -0.157126  1.000000  0.104261   -0.087484   0.056798 -0.240059   \n",
       "Par_job        -0.033922  0.104261  1.000000    0.059961  -0.007611 -0.046131   \n",
       "traveltime      0.076703 -0.087484  0.059961    1.000000  -0.065405  0.023316   \n",
       "studytime       0.001344  0.056798 -0.007611   -0.065405   1.000000 -0.147012   \n",
       "failures        0.202576 -0.240059 -0.046131    0.023316  -0.147012  1.000000   \n",
       "support        -0.209709  0.164238  0.040997   -0.037728   0.132950 -0.070020   \n",
       "paid_int        0.002248  0.013476  0.049948   -0.012772   0.211262 -0.123590   \n",
       "activities_int -0.003993  0.109727 -0.018040   -0.002358   0.091712 -0.044357   \n",
       "nursery_int    -0.126496  0.139844  0.038004   -0.024665   0.046684 -0.146056   \n",
       "higher_int     -0.064662  0.027862 -0.046426   -0.126740   0.106080 -0.095110   \n",
       "internet_int   -0.083201  0.142078 -0.000938   -0.000577   0.125547 -0.036053   \n",
       "romantic_int    0.147655  0.010234  0.008423    0.089240   0.061561  0.084532   \n",
       "freetime        0.008142  0.028269  0.035790    0.000810  -0.118001  0.057698   \n",
       "absences        0.155469  0.050641 -0.000657   -0.019610  -0.081188  0.092437   \n",
       "score          -0.159306  0.210676  0.009286   -0.033659   0.091603 -0.316455   \n",
       "score_ind      -0.103340  0.122511  0.057661    0.010273   0.017735 -0.197345   \n",
       "\n",
       "                 support  paid_int  activities_int  nursery_int  higher_int  \\\n",
       "age            -0.209709  0.002248       -0.003993    -0.126496   -0.064662   \n",
       "Par_edu         0.164238  0.013476        0.109727     0.139844    0.027862   \n",
       "Par_job         0.040997  0.049948       -0.018040     0.038004   -0.046426   \n",
       "traveltime     -0.037728 -0.012772       -0.002358    -0.024665   -0.126740   \n",
       "studytime       0.132950  0.211262        0.091712     0.046684    0.106080   \n",
       "failures       -0.070020 -0.123590       -0.044357    -0.146056   -0.095110   \n",
       "support         1.000000  0.113211        0.000825     0.098551    0.066592   \n",
       "paid_int        0.113211  1.000000       -0.007626     0.018386    0.069448   \n",
       "activities_int  0.000825 -0.007626        1.000000    -0.018153    0.053386   \n",
       "nursery_int     0.098551  0.018386       -0.018153     1.000000    0.026955   \n",
       "higher_int      0.066592  0.069448        0.053386     0.026955    1.000000   \n",
       "internet_int    0.122211  0.117275       -0.023739    -0.000114   -0.046504   \n",
       "romantic_int    0.043536  0.064336        0.014748    -0.023355   -0.014881   \n",
       "freetime       -0.042674 -0.010027        0.064844     0.002262   -0.085075   \n",
       "absences        0.039308 -0.064137        0.035636     0.046428    0.073803   \n",
       "score          -0.043731  0.094491        0.027483     0.056952    0.048286   \n",
       "score_ind       0.034810  0.088047       -0.020173     0.085399    0.035520   \n",
       "\n",
       "                internet_int  romantic_int  freetime  absences     score  \\\n",
       "age                -0.083201      0.147655  0.008142  0.155469 -0.159306   \n",
       "Par_edu             0.142078      0.010234  0.028269  0.050641  0.210676   \n",
       "Par_job            -0.000938      0.008423  0.035790 -0.000657  0.009286   \n",
       "traveltime         -0.000577      0.089240  0.000810 -0.019610 -0.033659   \n",
       "studytime           0.125547      0.061561 -0.118001 -0.081188  0.091603   \n",
       "failures           -0.036053      0.084532  0.057698  0.092437 -0.316455   \n",
       "support             0.122211      0.043536 -0.042674  0.039308 -0.043731   \n",
       "paid_int            0.117275      0.064336 -0.010027 -0.064137  0.094491   \n",
       "activities_int     -0.023739      0.014748  0.064844  0.035636  0.027483   \n",
       "nursery_int        -0.000114     -0.023355  0.002262  0.046428  0.056952   \n",
       "higher_int         -0.046504     -0.014881 -0.085075  0.073803  0.048286   \n",
       "internet_int        1.000000      0.084193 -0.018211  0.028147  0.080582   \n",
       "romantic_int        0.084193      1.000000 -0.016157  0.046090 -0.109951   \n",
       "freetime           -0.018211     -0.016157  1.000000  0.051930  0.008865   \n",
       "absences            0.028147      0.046090  0.051930  1.000000  0.081274   \n",
       "score               0.080582     -0.109951  0.008865  0.081274  1.000000   \n",
       "score_ind           0.062081     -0.127435  0.048308  0.307899  0.754867   \n",
       "\n",
       "                score_ind  \n",
       "age             -0.103340  \n",
       "Par_edu          0.122511  \n",
       "Par_job          0.057661  \n",
       "traveltime       0.010273  \n",
       "studytime        0.017735  \n",
       "failures        -0.197345  \n",
       "support          0.034810  \n",
       "paid_int         0.088047  \n",
       "activities_int  -0.020173  \n",
       "nursery_int      0.085399  \n",
       "higher_int       0.035520  \n",
       "internet_int     0.062081  \n",
       "romantic_int    -0.127435  \n",
       "freetime         0.048308  \n",
       "absences         0.307899  \n",
       "score            0.754867  \n",
       "score_ind        1.000000  "
      ]
     },
     "execution_count": 97,
     "metadata": {},
     "output_type": "execute_result"
    }
   ],
   "source": [
    "corr"
   ]
  },
  {
   "cell_type": "markdown",
   "metadata": {},
   "source": [
    "Проверим, есть ли статистическая разница в распределении оценок по категориальным признакам, с помощью теста Стьюдента"
   ]
  },
  {
   "cell_type": "code",
   "execution_count": 98,
   "metadata": {},
   "outputs": [],
   "source": [
    "def get_stat_dif(column):\n",
    "    cols = df.loc[:, column].value_counts()\n",
    "    combinations_all = list(combinations(cols, 2))\n",
    "    for comb in combinations_all:\n",
    "        if ttest_ind(df.loc[df.loc[:, column] == comb[0], 'score'], \n",
    "                        df.loc[df.loc[:, column] == comb[1], 'score']).pvalue \\\n",
    "            <= 0.05/len(combinations_all): # Учли поправку Бонферони\n",
    "            print('Найдены статистически значимые различия для колонки', column)\n",
    "            break"
   ]
  },
  {
   "cell_type": "code",
   "execution_count": 99,
   "metadata": {},
   "outputs": [
    {
     "name": "stderr",
     "output_type": "stream",
     "text": [
      "C:\\Users\\nobrr\\anaconda3\\lib\\site-packages\\numpy\\core\\fromnumeric.py:3584: RuntimeWarning: Degrees of freedom <= 0 for slice\n",
      "  **kwargs)\n",
      "C:\\Users\\nobrr\\anaconda3\\lib\\site-packages\\numpy\\core\\_methods.py:209: RuntimeWarning: invalid value encountered in double_scalars\n",
      "  ret = ret.dtype.type(ret / rcount)\n",
      "C:\\Users\\nobrr\\anaconda3\\lib\\site-packages\\scipy\\stats\\_distn_infrastructure.py:903: RuntimeWarning: invalid value encountered in greater\n",
      "  return (a < x) & (x < b)\n",
      "C:\\Users\\nobrr\\anaconda3\\lib\\site-packages\\scipy\\stats\\_distn_infrastructure.py:903: RuntimeWarning: invalid value encountered in less\n",
      "  return (a < x) & (x < b)\n",
      "C:\\Users\\nobrr\\anaconda3\\lib\\site-packages\\scipy\\stats\\_distn_infrastructure.py:1912: RuntimeWarning: invalid value encountered in less_equal\n",
      "  cond2 = cond0 & (x <= _a)\n"
     ]
    }
   ],
   "source": [
    "col_list = ['school', 'sex', 'age', 'address', 'famsize', 'Pstatus', 'Par_edu', 'Par_job', \n",
    "'reason', 'guardian', 'traveltime', 'studytime','failures', 'support', 'paid_int',\n",
    "'activities_int', 'nursery_int', 'higher_int', 'internet_int', 'romantic_int', 'famrel_ind', \n",
    "'freetime', 'goout_ind', 'health_ind', 'absences']\n",
    "for col in col_list:\n",
    "    get_stat_dif(col)"
   ]
  },
  {
   "cell_type": "markdown",
   "metadata": {},
   "source": [
    "Из всех обработанных признаков статистически значимые по тесту Стьюдента колонки обнаружены не были. Отберем признаки, основываясь на графиках boxplot, приведенных при анализе каждой переменной. преобразуем категориальные признаки в dummy-переменные"
   ]
  },
  {
   "cell_type": "code",
   "execution_count": 100,
   "metadata": {},
   "outputs": [
    {
     "data": {
      "text/html": [
       "<div>\n",
       "<style scoped>\n",
       "    .dataframe tbody tr th:only-of-type {\n",
       "        vertical-align: middle;\n",
       "    }\n",
       "\n",
       "    .dataframe tbody tr th {\n",
       "        vertical-align: top;\n",
       "    }\n",
       "\n",
       "    .dataframe thead th {\n",
       "        text-align: right;\n",
       "    }\n",
       "</style>\n",
       "<table border=\"1\" class=\"dataframe\">\n",
       "  <thead>\n",
       "    <tr style=\"text-align: right;\">\n",
       "      <th></th>\n",
       "      <th>school_GP</th>\n",
       "      <th>school_MS</th>\n",
       "      <th>sex_F</th>\n",
       "      <th>sex_M</th>\n",
       "      <th>age</th>\n",
       "      <th>address_R</th>\n",
       "      <th>address_U</th>\n",
       "      <th>Par_edu</th>\n",
       "      <th>Par_job</th>\n",
       "      <th>famsize_GT3</th>\n",
       "      <th>famsize_LE3</th>\n",
       "      <th>famrel_ind_bad</th>\n",
       "      <th>famrel_ind_good</th>\n",
       "      <th>famrel_ind_normal</th>\n",
       "      <th>support</th>\n",
       "      <th>paid_int</th>\n",
       "      <th>activities_int</th>\n",
       "      <th>higher_int</th>\n",
       "      <th>internet_int</th>\n",
       "      <th>romantic_int</th>\n",
       "      <th>health_ind_bad</th>\n",
       "      <th>health_ind_good</th>\n",
       "      <th>health_ind_normal</th>\n",
       "      <th>goout_ind_middle</th>\n",
       "      <th>goout_ind_often</th>\n",
       "      <th>goout_ind_rarely</th>\n",
       "      <th>freetime</th>\n",
       "      <th>studytime</th>\n",
       "      <th>absences</th>\n",
       "      <th>failures</th>\n",
       "      <th>score</th>\n",
       "      <th>score_ind</th>\n",
       "    </tr>\n",
       "  </thead>\n",
       "  <tbody>\n",
       "    <tr>\n",
       "      <th>0</th>\n",
       "      <td>1</td>\n",
       "      <td>0</td>\n",
       "      <td>1</td>\n",
       "      <td>0</td>\n",
       "      <td>18</td>\n",
       "      <td>0</td>\n",
       "      <td>1</td>\n",
       "      <td>4.0</td>\n",
       "      <td>1</td>\n",
       "      <td>0</td>\n",
       "      <td>1</td>\n",
       "      <td>0</td>\n",
       "      <td>1</td>\n",
       "      <td>0</td>\n",
       "      <td>1</td>\n",
       "      <td>0</td>\n",
       "      <td>0</td>\n",
       "      <td>1</td>\n",
       "      <td>-1</td>\n",
       "      <td>0</td>\n",
       "      <td>0</td>\n",
       "      <td>0</td>\n",
       "      <td>1</td>\n",
       "      <td>0</td>\n",
       "      <td>1</td>\n",
       "      <td>0</td>\n",
       "      <td>3.0</td>\n",
       "      <td>2.0</td>\n",
       "      <td>6.0</td>\n",
       "      <td>0.0</td>\n",
       "      <td>30.0</td>\n",
       "      <td>1</td>\n",
       "    </tr>\n",
       "    <tr>\n",
       "      <th>1</th>\n",
       "      <td>1</td>\n",
       "      <td>0</td>\n",
       "      <td>1</td>\n",
       "      <td>0</td>\n",
       "      <td>17</td>\n",
       "      <td>0</td>\n",
       "      <td>1</td>\n",
       "      <td>1.0</td>\n",
       "      <td>1</td>\n",
       "      <td>1</td>\n",
       "      <td>0</td>\n",
       "      <td>0</td>\n",
       "      <td>1</td>\n",
       "      <td>0</td>\n",
       "      <td>1</td>\n",
       "      <td>0</td>\n",
       "      <td>0</td>\n",
       "      <td>1</td>\n",
       "      <td>1</td>\n",
       "      <td>0</td>\n",
       "      <td>0</td>\n",
       "      <td>0</td>\n",
       "      <td>1</td>\n",
       "      <td>1</td>\n",
       "      <td>0</td>\n",
       "      <td>0</td>\n",
       "      <td>3.0</td>\n",
       "      <td>2.0</td>\n",
       "      <td>4.0</td>\n",
       "      <td>0.0</td>\n",
       "      <td>30.0</td>\n",
       "      <td>1</td>\n",
       "    </tr>\n",
       "    <tr>\n",
       "      <th>2</th>\n",
       "      <td>1</td>\n",
       "      <td>0</td>\n",
       "      <td>1</td>\n",
       "      <td>0</td>\n",
       "      <td>15</td>\n",
       "      <td>0</td>\n",
       "      <td>1</td>\n",
       "      <td>1.0</td>\n",
       "      <td>1</td>\n",
       "      <td>0</td>\n",
       "      <td>1</td>\n",
       "      <td>0</td>\n",
       "      <td>1</td>\n",
       "      <td>0</td>\n",
       "      <td>1</td>\n",
       "      <td>-1</td>\n",
       "      <td>0</td>\n",
       "      <td>1</td>\n",
       "      <td>1</td>\n",
       "      <td>-1</td>\n",
       "      <td>0</td>\n",
       "      <td>0</td>\n",
       "      <td>1</td>\n",
       "      <td>0</td>\n",
       "      <td>0</td>\n",
       "      <td>1</td>\n",
       "      <td>3.0</td>\n",
       "      <td>2.0</td>\n",
       "      <td>10.0</td>\n",
       "      <td>3.0</td>\n",
       "      <td>50.0</td>\n",
       "      <td>1</td>\n",
       "    </tr>\n",
       "    <tr>\n",
       "      <th>3</th>\n",
       "      <td>1</td>\n",
       "      <td>0</td>\n",
       "      <td>1</td>\n",
       "      <td>0</td>\n",
       "      <td>15</td>\n",
       "      <td>0</td>\n",
       "      <td>1</td>\n",
       "      <td>4.0</td>\n",
       "      <td>-1</td>\n",
       "      <td>1</td>\n",
       "      <td>0</td>\n",
       "      <td>0</td>\n",
       "      <td>0</td>\n",
       "      <td>1</td>\n",
       "      <td>1</td>\n",
       "      <td>1</td>\n",
       "      <td>1</td>\n",
       "      <td>1</td>\n",
       "      <td>1</td>\n",
       "      <td>1</td>\n",
       "      <td>0</td>\n",
       "      <td>1</td>\n",
       "      <td>0</td>\n",
       "      <td>0</td>\n",
       "      <td>0</td>\n",
       "      <td>1</td>\n",
       "      <td>2.0</td>\n",
       "      <td>3.0</td>\n",
       "      <td>2.0</td>\n",
       "      <td>0.0</td>\n",
       "      <td>75.0</td>\n",
       "      <td>1</td>\n",
       "    </tr>\n",
       "    <tr>\n",
       "      <th>4</th>\n",
       "      <td>1</td>\n",
       "      <td>0</td>\n",
       "      <td>1</td>\n",
       "      <td>0</td>\n",
       "      <td>16</td>\n",
       "      <td>0</td>\n",
       "      <td>1</td>\n",
       "      <td>3.0</td>\n",
       "      <td>2</td>\n",
       "      <td>1</td>\n",
       "      <td>0</td>\n",
       "      <td>0</td>\n",
       "      <td>1</td>\n",
       "      <td>0</td>\n",
       "      <td>1</td>\n",
       "      <td>1</td>\n",
       "      <td>0</td>\n",
       "      <td>1</td>\n",
       "      <td>0</td>\n",
       "      <td>0</td>\n",
       "      <td>0</td>\n",
       "      <td>1</td>\n",
       "      <td>0</td>\n",
       "      <td>0</td>\n",
       "      <td>0</td>\n",
       "      <td>1</td>\n",
       "      <td>3.0</td>\n",
       "      <td>2.0</td>\n",
       "      <td>4.0</td>\n",
       "      <td>0.0</td>\n",
       "      <td>50.0</td>\n",
       "      <td>1</td>\n",
       "    </tr>\n",
       "    <tr>\n",
       "      <th>5</th>\n",
       "      <td>1</td>\n",
       "      <td>0</td>\n",
       "      <td>0</td>\n",
       "      <td>1</td>\n",
       "      <td>16</td>\n",
       "      <td>0</td>\n",
       "      <td>1</td>\n",
       "      <td>4.0</td>\n",
       "      <td>2</td>\n",
       "      <td>0</td>\n",
       "      <td>1</td>\n",
       "      <td>0</td>\n",
       "      <td>1</td>\n",
       "      <td>0</td>\n",
       "      <td>1</td>\n",
       "      <td>1</td>\n",
       "      <td>1</td>\n",
       "      <td>1</td>\n",
       "      <td>1</td>\n",
       "      <td>0</td>\n",
       "      <td>0</td>\n",
       "      <td>1</td>\n",
       "      <td>0</td>\n",
       "      <td>0</td>\n",
       "      <td>0</td>\n",
       "      <td>1</td>\n",
       "      <td>4.0</td>\n",
       "      <td>2.0</td>\n",
       "      <td>10.0</td>\n",
       "      <td>0.0</td>\n",
       "      <td>75.0</td>\n",
       "      <td>1</td>\n",
       "    </tr>\n",
       "    <tr>\n",
       "      <th>6</th>\n",
       "      <td>1</td>\n",
       "      <td>0</td>\n",
       "      <td>0</td>\n",
       "      <td>1</td>\n",
       "      <td>16</td>\n",
       "      <td>0</td>\n",
       "      <td>1</td>\n",
       "      <td>2.0</td>\n",
       "      <td>2</td>\n",
       "      <td>0</td>\n",
       "      <td>1</td>\n",
       "      <td>0</td>\n",
       "      <td>1</td>\n",
       "      <td>0</td>\n",
       "      <td>0</td>\n",
       "      <td>0</td>\n",
       "      <td>0</td>\n",
       "      <td>1</td>\n",
       "      <td>1</td>\n",
       "      <td>0</td>\n",
       "      <td>0</td>\n",
       "      <td>0</td>\n",
       "      <td>1</td>\n",
       "      <td>0</td>\n",
       "      <td>1</td>\n",
       "      <td>0</td>\n",
       "      <td>4.0</td>\n",
       "      <td>2.0</td>\n",
       "      <td>0.0</td>\n",
       "      <td>0.0</td>\n",
       "      <td>55.0</td>\n",
       "      <td>1</td>\n",
       "    </tr>\n",
       "    <tr>\n",
       "      <th>7</th>\n",
       "      <td>1</td>\n",
       "      <td>0</td>\n",
       "      <td>1</td>\n",
       "      <td>0</td>\n",
       "      <td>17</td>\n",
       "      <td>0</td>\n",
       "      <td>1</td>\n",
       "      <td>4.0</td>\n",
       "      <td>2</td>\n",
       "      <td>1</td>\n",
       "      <td>0</td>\n",
       "      <td>0</td>\n",
       "      <td>1</td>\n",
       "      <td>0</td>\n",
       "      <td>1</td>\n",
       "      <td>0</td>\n",
       "      <td>0</td>\n",
       "      <td>1</td>\n",
       "      <td>0</td>\n",
       "      <td>0</td>\n",
       "      <td>1</td>\n",
       "      <td>0</td>\n",
       "      <td>0</td>\n",
       "      <td>0</td>\n",
       "      <td>1</td>\n",
       "      <td>0</td>\n",
       "      <td>1.0</td>\n",
       "      <td>2.0</td>\n",
       "      <td>6.0</td>\n",
       "      <td>0.0</td>\n",
       "      <td>30.0</td>\n",
       "      <td>1</td>\n",
       "    </tr>\n",
       "    <tr>\n",
       "      <th>8</th>\n",
       "      <td>1</td>\n",
       "      <td>0</td>\n",
       "      <td>0</td>\n",
       "      <td>1</td>\n",
       "      <td>15</td>\n",
       "      <td>0</td>\n",
       "      <td>1</td>\n",
       "      <td>3.0</td>\n",
       "      <td>2</td>\n",
       "      <td>0</td>\n",
       "      <td>1</td>\n",
       "      <td>0</td>\n",
       "      <td>1</td>\n",
       "      <td>0</td>\n",
       "      <td>1</td>\n",
       "      <td>1</td>\n",
       "      <td>0</td>\n",
       "      <td>1</td>\n",
       "      <td>1</td>\n",
       "      <td>0</td>\n",
       "      <td>1</td>\n",
       "      <td>0</td>\n",
       "      <td>0</td>\n",
       "      <td>0</td>\n",
       "      <td>0</td>\n",
       "      <td>1</td>\n",
       "      <td>2.0</td>\n",
       "      <td>2.0</td>\n",
       "      <td>0.0</td>\n",
       "      <td>0.0</td>\n",
       "      <td>95.0</td>\n",
       "      <td>1</td>\n",
       "    </tr>\n",
       "    <tr>\n",
       "      <th>9</th>\n",
       "      <td>1</td>\n",
       "      <td>0</td>\n",
       "      <td>0</td>\n",
       "      <td>1</td>\n",
       "      <td>15</td>\n",
       "      <td>0</td>\n",
       "      <td>1</td>\n",
       "      <td>3.0</td>\n",
       "      <td>2</td>\n",
       "      <td>0</td>\n",
       "      <td>1</td>\n",
       "      <td>0</td>\n",
       "      <td>1</td>\n",
       "      <td>0</td>\n",
       "      <td>1</td>\n",
       "      <td>1</td>\n",
       "      <td>1</td>\n",
       "      <td>1</td>\n",
       "      <td>1</td>\n",
       "      <td>0</td>\n",
       "      <td>0</td>\n",
       "      <td>1</td>\n",
       "      <td>0</td>\n",
       "      <td>0</td>\n",
       "      <td>0</td>\n",
       "      <td>1</td>\n",
       "      <td>5.0</td>\n",
       "      <td>2.0</td>\n",
       "      <td>0.0</td>\n",
       "      <td>0.0</td>\n",
       "      <td>75.0</td>\n",
       "      <td>1</td>\n",
       "    </tr>\n",
       "  </tbody>\n",
       "</table>\n",
       "</div>"
      ],
      "text/plain": [
       "   school_GP  school_MS  sex_F  sex_M  age  address_R  address_U  Par_edu  \\\n",
       "0          1          0      1      0   18          0          1      4.0   \n",
       "1          1          0      1      0   17          0          1      1.0   \n",
       "2          1          0      1      0   15          0          1      1.0   \n",
       "3          1          0      1      0   15          0          1      4.0   \n",
       "4          1          0      1      0   16          0          1      3.0   \n",
       "5          1          0      0      1   16          0          1      4.0   \n",
       "6          1          0      0      1   16          0          1      2.0   \n",
       "7          1          0      1      0   17          0          1      4.0   \n",
       "8          1          0      0      1   15          0          1      3.0   \n",
       "9          1          0      0      1   15          0          1      3.0   \n",
       "\n",
       "   Par_job  famsize_GT3  famsize_LE3  famrel_ind_bad  famrel_ind_good  \\\n",
       "0        1            0            1               0                1   \n",
       "1        1            1            0               0                1   \n",
       "2        1            0            1               0                1   \n",
       "3       -1            1            0               0                0   \n",
       "4        2            1            0               0                1   \n",
       "5        2            0            1               0                1   \n",
       "6        2            0            1               0                1   \n",
       "7        2            1            0               0                1   \n",
       "8        2            0            1               0                1   \n",
       "9        2            0            1               0                1   \n",
       "\n",
       "   famrel_ind_normal  support  paid_int  activities_int  higher_int  \\\n",
       "0                  0        1         0               0           1   \n",
       "1                  0        1         0               0           1   \n",
       "2                  0        1        -1               0           1   \n",
       "3                  1        1         1               1           1   \n",
       "4                  0        1         1               0           1   \n",
       "5                  0        1         1               1           1   \n",
       "6                  0        0         0               0           1   \n",
       "7                  0        1         0               0           1   \n",
       "8                  0        1         1               0           1   \n",
       "9                  0        1         1               1           1   \n",
       "\n",
       "   internet_int  romantic_int  health_ind_bad  health_ind_good  \\\n",
       "0            -1             0               0                0   \n",
       "1             1             0               0                0   \n",
       "2             1            -1               0                0   \n",
       "3             1             1               0                1   \n",
       "4             0             0               0                1   \n",
       "5             1             0               0                1   \n",
       "6             1             0               0                0   \n",
       "7             0             0               1                0   \n",
       "8             1             0               1                0   \n",
       "9             1             0               0                1   \n",
       "\n",
       "   health_ind_normal  goout_ind_middle  goout_ind_often  goout_ind_rarely  \\\n",
       "0                  1                 0                1                 0   \n",
       "1                  1                 1                0                 0   \n",
       "2                  1                 0                0                 1   \n",
       "3                  0                 0                0                 1   \n",
       "4                  0                 0                0                 1   \n",
       "5                  0                 0                0                 1   \n",
       "6                  1                 0                1                 0   \n",
       "7                  0                 0                1                 0   \n",
       "8                  0                 0                0                 1   \n",
       "9                  0                 0                0                 1   \n",
       "\n",
       "   freetime  studytime  absences  failures  score  score_ind  \n",
       "0       3.0        2.0       6.0       0.0   30.0          1  \n",
       "1       3.0        2.0       4.0       0.0   30.0          1  \n",
       "2       3.0        2.0      10.0       3.0   50.0          1  \n",
       "3       2.0        3.0       2.0       0.0   75.0          1  \n",
       "4       3.0        2.0       4.0       0.0   50.0          1  \n",
       "5       4.0        2.0      10.0       0.0   75.0          1  \n",
       "6       4.0        2.0       0.0       0.0   55.0          1  \n",
       "7       1.0        2.0       6.0       0.0   30.0          1  \n",
       "8       2.0        2.0       0.0       0.0   95.0          1  \n",
       "9       5.0        2.0       0.0       0.0   75.0          1  "
      ]
     },
     "execution_count": 100,
     "metadata": {},
     "output_type": "execute_result"
    }
   ],
   "source": [
    "df2 = pd.get_dummies(df,columns=['school','sex','address','famsize','famrel_ind','goout_ind','health_ind'])\n",
    "df2 = df2.drop(['Pstatus', 'Medu', 'Fedu', 'Mjob', 'Fjob','reason','guardian',\n",
    "       'traveltime', 'schoolsup', 'famsup', 'paid', 'activities', 'nursery', \n",
    "       'studytime, granular', 'higher', 'internet',\n",
    "       'romantic', 'famrel', 'goout', 'health',\n",
    "       'schoolsup_int', 'famsup_int','nursery_int'], 1)\n",
    "cols_new=['school_GP', 'school_MS', 'sex_F', 'sex_M', 'age', 'address_R', 'address_U',\n",
    "          'Par_edu', 'Par_job', 'famsize_GT3', 'famsize_LE3', 'famrel_ind_bad', \n",
    "          'famrel_ind_good', 'famrel_ind_normal', 'support', 'paid_int', 'activities_int', \n",
    "          'higher_int', 'internet_int', 'romantic_int', 'health_ind_bad', 'health_ind_good', \n",
    "          'health_ind_normal', 'goout_ind_middle', 'goout_ind_often', 'goout_ind_rarely', \n",
    "          'freetime', 'studytime', 'absences','failures','score', 'score_ind']\n",
    "df2 = df2[cols_new]\n",
    "df2.head(10)"
   ]
  },
  {
   "cell_type": "code",
   "execution_count": 101,
   "metadata": {},
   "outputs": [
    {
     "data": {
      "text/html": [
       "<div>\n",
       "<style scoped>\n",
       "    .dataframe tbody tr th:only-of-type {\n",
       "        vertical-align: middle;\n",
       "    }\n",
       "\n",
       "    .dataframe tbody tr th {\n",
       "        vertical-align: top;\n",
       "    }\n",
       "\n",
       "    .dataframe thead th {\n",
       "        text-align: right;\n",
       "    }\n",
       "</style>\n",
       "<table border=\"1\" class=\"dataframe\">\n",
       "  <thead>\n",
       "    <tr style=\"text-align: right;\">\n",
       "      <th></th>\n",
       "      <th>school_GP</th>\n",
       "      <th>school_MS</th>\n",
       "      <th>sex_F</th>\n",
       "      <th>sex_M</th>\n",
       "      <th>age</th>\n",
       "      <th>address_R</th>\n",
       "      <th>address_U</th>\n",
       "      <th>Par_edu</th>\n",
       "      <th>Par_job</th>\n",
       "      <th>famsize_GT3</th>\n",
       "      <th>famsize_LE3</th>\n",
       "      <th>famrel_ind_bad</th>\n",
       "      <th>famrel_ind_good</th>\n",
       "      <th>famrel_ind_normal</th>\n",
       "      <th>support</th>\n",
       "      <th>paid_int</th>\n",
       "      <th>activities_int</th>\n",
       "      <th>higher_int</th>\n",
       "      <th>internet_int</th>\n",
       "      <th>romantic_int</th>\n",
       "      <th>health_ind_bad</th>\n",
       "      <th>health_ind_good</th>\n",
       "      <th>health_ind_normal</th>\n",
       "      <th>goout_ind_middle</th>\n",
       "      <th>goout_ind_often</th>\n",
       "      <th>goout_ind_rarely</th>\n",
       "      <th>freetime</th>\n",
       "      <th>studytime</th>\n",
       "      <th>absences</th>\n",
       "      <th>failures</th>\n",
       "      <th>score</th>\n",
       "      <th>score_ind</th>\n",
       "    </tr>\n",
       "  </thead>\n",
       "  <tbody>\n",
       "    <tr>\n",
       "      <th>score</th>\n",
       "      <td>0.035723</td>\n",
       "      <td>-0.035723</td>\n",
       "      <td>-0.114883</td>\n",
       "      <td>0.114883</td>\n",
       "      <td>-0.159306</td>\n",
       "      <td>-0.115024</td>\n",
       "      <td>0.115024</td>\n",
       "      <td>0.210676</td>\n",
       "      <td>0.009286</td>\n",
       "      <td>-0.080734</td>\n",
       "      <td>0.080734</td>\n",
       "      <td>-0.015274</td>\n",
       "      <td>0.037281</td>\n",
       "      <td>-0.032273</td>\n",
       "      <td>-0.043731</td>\n",
       "      <td>0.094491</td>\n",
       "      <td>0.027483</td>\n",
       "      <td>0.048286</td>\n",
       "      <td>0.080582</td>\n",
       "      <td>-0.109951</td>\n",
       "      <td>0.082353</td>\n",
       "      <td>-0.021526</td>\n",
       "      <td>-0.057919</td>\n",
       "      <td>0.092650</td>\n",
       "      <td>-0.161977</td>\n",
       "      <td>0.070711</td>\n",
       "      <td>0.008865</td>\n",
       "      <td>0.091603</td>\n",
       "      <td>0.081274</td>\n",
       "      <td>-0.316455</td>\n",
       "      <td>1.000000</td>\n",
       "      <td>0.754867</td>\n",
       "    </tr>\n",
       "    <tr>\n",
       "      <th>score_ind</th>\n",
       "      <td>-0.008222</td>\n",
       "      <td>0.008222</td>\n",
       "      <td>-0.060183</td>\n",
       "      <td>0.060183</td>\n",
       "      <td>-0.103340</td>\n",
       "      <td>-0.037856</td>\n",
       "      <td>0.037856</td>\n",
       "      <td>0.122511</td>\n",
       "      <td>0.057661</td>\n",
       "      <td>-0.089234</td>\n",
       "      <td>0.089234</td>\n",
       "      <td>-0.026738</td>\n",
       "      <td>0.025086</td>\n",
       "      <td>-0.010611</td>\n",
       "      <td>0.034810</td>\n",
       "      <td>0.088047</td>\n",
       "      <td>-0.020173</td>\n",
       "      <td>0.035520</td>\n",
       "      <td>0.062081</td>\n",
       "      <td>-0.127435</td>\n",
       "      <td>0.014610</td>\n",
       "      <td>-0.019490</td>\n",
       "      <td>0.008243</td>\n",
       "      <td>0.074251</td>\n",
       "      <td>-0.053331</td>\n",
       "      <td>-0.020278</td>\n",
       "      <td>0.048308</td>\n",
       "      <td>0.017735</td>\n",
       "      <td>0.307899</td>\n",
       "      <td>-0.197345</td>\n",
       "      <td>0.754867</td>\n",
       "      <td>1.000000</td>\n",
       "    </tr>\n",
       "  </tbody>\n",
       "</table>\n",
       "</div>"
      ],
      "text/plain": [
       "           school_GP  school_MS     sex_F     sex_M       age  address_R  \\\n",
       "score       0.035723  -0.035723 -0.114883  0.114883 -0.159306  -0.115024   \n",
       "score_ind  -0.008222   0.008222 -0.060183  0.060183 -0.103340  -0.037856   \n",
       "\n",
       "           address_U   Par_edu   Par_job  famsize_GT3  famsize_LE3  \\\n",
       "score       0.115024  0.210676  0.009286    -0.080734     0.080734   \n",
       "score_ind   0.037856  0.122511  0.057661    -0.089234     0.089234   \n",
       "\n",
       "           famrel_ind_bad  famrel_ind_good  famrel_ind_normal   support  \\\n",
       "score           -0.015274         0.037281          -0.032273 -0.043731   \n",
       "score_ind       -0.026738         0.025086          -0.010611  0.034810   \n",
       "\n",
       "           paid_int  activities_int  higher_int  internet_int  romantic_int  \\\n",
       "score      0.094491        0.027483    0.048286      0.080582     -0.109951   \n",
       "score_ind  0.088047       -0.020173    0.035520      0.062081     -0.127435   \n",
       "\n",
       "           health_ind_bad  health_ind_good  health_ind_normal  \\\n",
       "score            0.082353        -0.021526          -0.057919   \n",
       "score_ind        0.014610        -0.019490           0.008243   \n",
       "\n",
       "           goout_ind_middle  goout_ind_often  goout_ind_rarely  freetime  \\\n",
       "score              0.092650        -0.161977          0.070711  0.008865   \n",
       "score_ind          0.074251        -0.053331         -0.020278  0.048308   \n",
       "\n",
       "           studytime  absences  failures     score  score_ind  \n",
       "score       0.091603  0.081274 -0.316455  1.000000   0.754867  \n",
       "score_ind   0.017735  0.307899 -0.197345  0.754867   1.000000  "
      ]
     },
     "metadata": {},
     "output_type": "display_data"
    },
    {
     "data": {
      "text/plain": [
       "<matplotlib.axes._subplots.AxesSubplot at 0x24251fecb48>"
      ]
     },
     "execution_count": 101,
     "metadata": {},
     "output_type": "execute_result"
    },
    {
     "data": {
      "image/png": "[encoded data removed]",
      "text/plain": [
       "<Figure size 720x720 with 2 Axes>"
      ]
     },
     "metadata": {
      "needs_background": "light"
     },
     "output_type": "display_data"
    }
   ],
   "source": [
    "fig, ax = plt.subplots(figsize=(10,10))\n",
    "display(df2.corr()[-2:])\n",
    "sns.heatmap(df2.corr())"
   ]
  },
  {
   "cell_type": "markdown",
   "metadata": {},
   "source": [
    "Удалим признаки, которые сильно скоррелированы между собой (по причине преобразования их в dummy):\n",
    "оставим только одну школу GP, пол F, адрес U, размер семьи GT3, отношения в семье good, здоровье good, \n",
    "время с друзьями often:"
   ]
  },
  {
   "cell_type": "code",
   "execution_count": 102,
   "metadata": {},
   "outputs": [],
   "source": [
    "df2 = df2.drop(['school_MS','sex_M','address_R','famsize_LE3','famrel_ind_bad','famrel_ind_normal',\n",
    "               'health_ind_bad','health_ind_normal','goout_ind_middle','goout_ind_rarely'], 1)"
   ]
  },
  {
   "cell_type": "code",
   "execution_count": 103,
   "metadata": {},
   "outputs": [
    {
     "data": {
      "text/html": [
       "<div>\n",
       "<style scoped>\n",
       "    .dataframe tbody tr th:only-of-type {\n",
       "        vertical-align: middle;\n",
       "    }\n",
       "\n",
       "    .dataframe tbody tr th {\n",
       "        vertical-align: top;\n",
       "    }\n",
       "\n",
       "    .dataframe thead th {\n",
       "        text-align: right;\n",
       "    }\n",
       "</style>\n",
       "<table border=\"1\" class=\"dataframe\">\n",
       "  <thead>\n",
       "    <tr style=\"text-align: right;\">\n",
       "      <th></th>\n",
       "      <th>school_GP</th>\n",
       "      <th>sex_F</th>\n",
       "      <th>age</th>\n",
       "      <th>address_U</th>\n",
       "      <th>Par_edu</th>\n",
       "      <th>Par_job</th>\n",
       "      <th>famsize_GT3</th>\n",
       "      <th>famrel_ind_good</th>\n",
       "      <th>support</th>\n",
       "      <th>paid_int</th>\n",
       "      <th>activities_int</th>\n",
       "      <th>higher_int</th>\n",
       "      <th>internet_int</th>\n",
       "      <th>romantic_int</th>\n",
       "      <th>health_ind_good</th>\n",
       "      <th>goout_ind_often</th>\n",
       "      <th>freetime</th>\n",
       "      <th>studytime</th>\n",
       "      <th>absences</th>\n",
       "      <th>failures</th>\n",
       "      <th>score</th>\n",
       "      <th>score_ind</th>\n",
       "    </tr>\n",
       "  </thead>\n",
       "  <tbody>\n",
       "    <tr>\n",
       "      <th>school_GP</th>\n",
       "      <td>1.000000</td>\n",
       "      <td>-0.044621</td>\n",
       "      <td>-0.384732</td>\n",
       "      <td>0.327484</td>\n",
       "      <td>0.102585</td>\n",
       "      <td>0.005179</td>\n",
       "      <td>0.049327</td>\n",
       "      <td>0.053571</td>\n",
       "      <td>0.176566</td>\n",
       "      <td>-0.013004</td>\n",
       "      <td>0.075012</td>\n",
       "      <td>0.032706</td>\n",
       "      <td>0.026383</td>\n",
       "      <td>-0.065696</td>\n",
       "      <td>0.045071</td>\n",
       "      <td>0.011746</td>\n",
       "      <td>-0.033131</td>\n",
       "      <td>0.075681</td>\n",
       "      <td>0.087886</td>\n",
       "      <td>-0.050833</td>\n",
       "      <td>0.035723</td>\n",
       "      <td>-0.008222</td>\n",
       "    </tr>\n",
       "    <tr>\n",
       "      <th>sex_F</th>\n",
       "      <td>-0.044621</td>\n",
       "      <td>1.000000</td>\n",
       "      <td>0.053862</td>\n",
       "      <td>-0.010221</td>\n",
       "      <td>-0.073206</td>\n",
       "      <td>-0.059163</td>\n",
       "      <td>0.075431</td>\n",
       "      <td>-0.024928</td>\n",
       "      <td>0.135648</td>\n",
       "      <td>0.125253</td>\n",
       "      <td>-0.072702</td>\n",
       "      <td>0.188809</td>\n",
       "      <td>0.039160</td>\n",
       "      <td>0.127080</td>\n",
       "      <td>-0.077153</td>\n",
       "      <td>-0.047446</td>\n",
       "      <td>-0.214751</td>\n",
       "      <td>0.271580</td>\n",
       "      <td>-0.025119</td>\n",
       "      <td>0.015844</td>\n",
       "      <td>-0.114883</td>\n",
       "      <td>-0.060183</td>\n",
       "    </tr>\n",
       "    <tr>\n",
       "      <th>age</th>\n",
       "      <td>-0.384732</td>\n",
       "      <td>0.053862</td>\n",
       "      <td>1.000000</td>\n",
       "      <td>-0.173291</td>\n",
       "      <td>-0.157126</td>\n",
       "      <td>-0.033922</td>\n",
       "      <td>-0.032765</td>\n",
       "      <td>0.055020</td>\n",
       "      <td>-0.209709</td>\n",
       "      <td>0.002248</td>\n",
       "      <td>-0.003993</td>\n",
       "      <td>-0.064662</td>\n",
       "      <td>-0.083201</td>\n",
       "      <td>0.147655</td>\n",
       "      <td>-0.101650</td>\n",
       "      <td>0.091208</td>\n",
       "      <td>0.008142</td>\n",
       "      <td>0.001344</td>\n",
       "      <td>0.155469</td>\n",
       "      <td>0.202576</td>\n",
       "      <td>-0.159306</td>\n",
       "      <td>-0.103340</td>\n",
       "    </tr>\n",
       "    <tr>\n",
       "      <th>address_U</th>\n",
       "      <td>0.327484</td>\n",
       "      <td>-0.010221</td>\n",
       "      <td>-0.173291</td>\n",
       "      <td>1.000000</td>\n",
       "      <td>0.155307</td>\n",
       "      <td>0.107281</td>\n",
       "      <td>-0.056858</td>\n",
       "      <td>-0.002602</td>\n",
       "      <td>0.031694</td>\n",
       "      <td>0.084893</td>\n",
       "      <td>-0.050404</td>\n",
       "      <td>0.014558</td>\n",
       "      <td>0.113526</td>\n",
       "      <td>-0.006862</td>\n",
       "      <td>-0.030533</td>\n",
       "      <td>0.045556</td>\n",
       "      <td>0.013401</td>\n",
       "      <td>-0.047527</td>\n",
       "      <td>-0.029621</td>\n",
       "      <td>-0.101922</td>\n",
       "      <td>0.115024</td>\n",
       "      <td>0.037856</td>\n",
       "    </tr>\n",
       "    <tr>\n",
       "      <th>Par_edu</th>\n",
       "      <td>0.102585</td>\n",
       "      <td>-0.073206</td>\n",
       "      <td>-0.157126</td>\n",
       "      <td>0.155307</td>\n",
       "      <td>1.000000</td>\n",
       "      <td>0.104261</td>\n",
       "      <td>0.086813</td>\n",
       "      <td>-0.013203</td>\n",
       "      <td>0.164238</td>\n",
       "      <td>0.013476</td>\n",
       "      <td>0.109727</td>\n",
       "      <td>0.027862</td>\n",
       "      <td>0.142078</td>\n",
       "      <td>0.010234</td>\n",
       "      <td>0.012058</td>\n",
       "      <td>0.013767</td>\n",
       "      <td>0.028269</td>\n",
       "      <td>0.056798</td>\n",
       "      <td>0.050641</td>\n",
       "      <td>-0.240059</td>\n",
       "      <td>0.210676</td>\n",
       "      <td>0.122511</td>\n",
       "    </tr>\n",
       "    <tr>\n",
       "      <th>Par_job</th>\n",
       "      <td>0.005179</td>\n",
       "      <td>-0.059163</td>\n",
       "      <td>-0.033922</td>\n",
       "      <td>0.107281</td>\n",
       "      <td>0.104261</td>\n",
       "      <td>1.000000</td>\n",
       "      <td>-0.009139</td>\n",
       "      <td>-0.080214</td>\n",
       "      <td>0.040997</td>\n",
       "      <td>0.049948</td>\n",
       "      <td>-0.018040</td>\n",
       "      <td>-0.046426</td>\n",
       "      <td>-0.000938</td>\n",
       "      <td>0.008423</td>\n",
       "      <td>-0.008372</td>\n",
       "      <td>0.022513</td>\n",
       "      <td>0.035790</td>\n",
       "      <td>-0.007611</td>\n",
       "      <td>-0.000657</td>\n",
       "      <td>-0.046131</td>\n",
       "      <td>0.009286</td>\n",
       "      <td>0.057661</td>\n",
       "    </tr>\n",
       "    <tr>\n",
       "      <th>famsize_GT3</th>\n",
       "      <td>0.049327</td>\n",
       "      <td>0.075431</td>\n",
       "      <td>-0.032765</td>\n",
       "      <td>-0.056858</td>\n",
       "      <td>0.086813</td>\n",
       "      <td>-0.009139</td>\n",
       "      <td>1.000000</td>\n",
       "      <td>0.033153</td>\n",
       "      <td>0.113838</td>\n",
       "      <td>0.077681</td>\n",
       "      <td>0.068513</td>\n",
       "      <td>-0.077463</td>\n",
       "      <td>0.048574</td>\n",
       "      <td>-0.010015</td>\n",
       "      <td>-0.003224</td>\n",
       "      <td>-0.071822</td>\n",
       "      <td>-0.028551</td>\n",
       "      <td>0.055395</td>\n",
       "      <td>-0.071965</td>\n",
       "      <td>0.002831</td>\n",
       "      <td>-0.080734</td>\n",
       "      <td>-0.089234</td>\n",
       "    </tr>\n",
       "    <tr>\n",
       "      <th>famrel_ind_good</th>\n",
       "      <td>0.053571</td>\n",
       "      <td>-0.024928</td>\n",
       "      <td>0.055020</td>\n",
       "      <td>-0.002602</td>\n",
       "      <td>-0.013203</td>\n",
       "      <td>-0.080214</td>\n",
       "      <td>0.033153</td>\n",
       "      <td>1.000000</td>\n",
       "      <td>0.040120</td>\n",
       "      <td>0.001077</td>\n",
       "      <td>0.044149</td>\n",
       "      <td>-0.019571</td>\n",
       "      <td>0.055030</td>\n",
       "      <td>-0.005676</td>\n",
       "      <td>0.088278</td>\n",
       "      <td>0.055369</td>\n",
       "      <td>0.147034</td>\n",
       "      <td>0.049438</td>\n",
       "      <td>-0.056282</td>\n",
       "      <td>-0.015359</td>\n",
       "      <td>0.037281</td>\n",
       "      <td>0.025086</td>\n",
       "    </tr>\n",
       "    <tr>\n",
       "      <th>support</th>\n",
       "      <td>0.176566</td>\n",
       "      <td>0.135648</td>\n",
       "      <td>-0.209709</td>\n",
       "      <td>0.031694</td>\n",
       "      <td>0.164238</td>\n",
       "      <td>0.040997</td>\n",
       "      <td>0.113838</td>\n",
       "      <td>0.040120</td>\n",
       "      <td>1.000000</td>\n",
       "      <td>0.113211</td>\n",
       "      <td>0.000825</td>\n",
       "      <td>0.066592</td>\n",
       "      <td>0.122211</td>\n",
       "      <td>0.043536</td>\n",
       "      <td>0.042440</td>\n",
       "      <td>-0.031320</td>\n",
       "      <td>-0.042674</td>\n",
       "      <td>0.132950</td>\n",
       "      <td>0.039308</td>\n",
       "      <td>-0.070020</td>\n",
       "      <td>-0.043731</td>\n",
       "      <td>0.034810</td>\n",
       "    </tr>\n",
       "    <tr>\n",
       "      <th>paid_int</th>\n",
       "      <td>-0.013004</td>\n",
       "      <td>0.125253</td>\n",
       "      <td>0.002248</td>\n",
       "      <td>0.084893</td>\n",
       "      <td>0.013476</td>\n",
       "      <td>0.049948</td>\n",
       "      <td>0.077681</td>\n",
       "      <td>0.001077</td>\n",
       "      <td>0.113211</td>\n",
       "      <td>1.000000</td>\n",
       "      <td>-0.007626</td>\n",
       "      <td>0.069448</td>\n",
       "      <td>0.117275</td>\n",
       "      <td>0.064336</td>\n",
       "      <td>-0.036180</td>\n",
       "      <td>0.051219</td>\n",
       "      <td>-0.010027</td>\n",
       "      <td>0.211262</td>\n",
       "      <td>-0.064137</td>\n",
       "      <td>-0.123590</td>\n",
       "      <td>0.094491</td>\n",
       "      <td>0.088047</td>\n",
       "    </tr>\n",
       "    <tr>\n",
       "      <th>activities_int</th>\n",
       "      <td>0.075012</td>\n",
       "      <td>-0.072702</td>\n",
       "      <td>-0.003993</td>\n",
       "      <td>-0.050404</td>\n",
       "      <td>0.109727</td>\n",
       "      <td>-0.018040</td>\n",
       "      <td>0.068513</td>\n",
       "      <td>0.044149</td>\n",
       "      <td>0.000825</td>\n",
       "      <td>-0.007626</td>\n",
       "      <td>1.000000</td>\n",
       "      <td>0.053386</td>\n",
       "      <td>-0.023739</td>\n",
       "      <td>0.014748</td>\n",
       "      <td>0.063890</td>\n",
       "      <td>0.069150</td>\n",
       "      <td>0.064844</td>\n",
       "      <td>0.091712</td>\n",
       "      <td>0.035636</td>\n",
       "      <td>-0.044357</td>\n",
       "      <td>0.027483</td>\n",
       "      <td>-0.020173</td>\n",
       "    </tr>\n",
       "    <tr>\n",
       "      <th>higher_int</th>\n",
       "      <td>0.032706</td>\n",
       "      <td>0.188809</td>\n",
       "      <td>-0.064662</td>\n",
       "      <td>0.014558</td>\n",
       "      <td>0.027862</td>\n",
       "      <td>-0.046426</td>\n",
       "      <td>-0.077463</td>\n",
       "      <td>-0.019571</td>\n",
       "      <td>0.066592</td>\n",
       "      <td>0.069448</td>\n",
       "      <td>0.053386</td>\n",
       "      <td>1.000000</td>\n",
       "      <td>-0.046504</td>\n",
       "      <td>-0.014881</td>\n",
       "      <td>0.039571</td>\n",
       "      <td>0.008879</td>\n",
       "      <td>-0.085075</td>\n",
       "      <td>0.106080</td>\n",
       "      <td>0.073803</td>\n",
       "      <td>-0.095110</td>\n",
       "      <td>0.048286</td>\n",
       "      <td>0.035520</td>\n",
       "    </tr>\n",
       "    <tr>\n",
       "      <th>internet_int</th>\n",
       "      <td>0.026383</td>\n",
       "      <td>0.039160</td>\n",
       "      <td>-0.083201</td>\n",
       "      <td>0.113526</td>\n",
       "      <td>0.142078</td>\n",
       "      <td>-0.000938</td>\n",
       "      <td>0.048574</td>\n",
       "      <td>0.055030</td>\n",
       "      <td>0.122211</td>\n",
       "      <td>0.117275</td>\n",
       "      <td>-0.023739</td>\n",
       "      <td>-0.046504</td>\n",
       "      <td>1.000000</td>\n",
       "      <td>0.084193</td>\n",
       "      <td>0.009728</td>\n",
       "      <td>-0.025917</td>\n",
       "      <td>-0.018211</td>\n",
       "      <td>0.125547</td>\n",
       "      <td>0.028147</td>\n",
       "      <td>-0.036053</td>\n",
       "      <td>0.080582</td>\n",
       "      <td>0.062081</td>\n",
       "    </tr>\n",
       "    <tr>\n",
       "      <th>romantic_int</th>\n",
       "      <td>-0.065696</td>\n",
       "      <td>0.127080</td>\n",
       "      <td>0.147655</td>\n",
       "      <td>-0.006862</td>\n",
       "      <td>0.010234</td>\n",
       "      <td>0.008423</td>\n",
       "      <td>-0.010015</td>\n",
       "      <td>-0.005676</td>\n",
       "      <td>0.043536</td>\n",
       "      <td>0.064336</td>\n",
       "      <td>0.014748</td>\n",
       "      <td>-0.014881</td>\n",
       "      <td>0.084193</td>\n",
       "      <td>1.000000</td>\n",
       "      <td>0.008529</td>\n",
       "      <td>0.027541</td>\n",
       "      <td>-0.016157</td>\n",
       "      <td>0.061561</td>\n",
       "      <td>0.046090</td>\n",
       "      <td>0.084532</td>\n",
       "      <td>-0.109951</td>\n",
       "      <td>-0.127435</td>\n",
       "    </tr>\n",
       "    <tr>\n",
       "      <th>health_ind_good</th>\n",
       "      <td>0.045071</td>\n",
       "      <td>-0.077153</td>\n",
       "      <td>-0.101650</td>\n",
       "      <td>-0.030533</td>\n",
       "      <td>0.012058</td>\n",
       "      <td>-0.008372</td>\n",
       "      <td>-0.003224</td>\n",
       "      <td>0.088278</td>\n",
       "      <td>0.042440</td>\n",
       "      <td>-0.036180</td>\n",
       "      <td>0.063890</td>\n",
       "      <td>0.039571</td>\n",
       "      <td>0.009728</td>\n",
       "      <td>0.008529</td>\n",
       "      <td>1.000000</td>\n",
       "      <td>0.073314</td>\n",
       "      <td>0.053302</td>\n",
       "      <td>-0.054428</td>\n",
       "      <td>-0.043191</td>\n",
       "      <td>0.034191</td>\n",
       "      <td>-0.021526</td>\n",
       "      <td>-0.019490</td>\n",
       "    </tr>\n",
       "    <tr>\n",
       "      <th>goout_ind_often</th>\n",
       "      <td>0.011746</td>\n",
       "      <td>-0.047446</td>\n",
       "      <td>0.091208</td>\n",
       "      <td>0.045556</td>\n",
       "      <td>0.013767</td>\n",
       "      <td>0.022513</td>\n",
       "      <td>-0.071822</td>\n",
       "      <td>0.055369</td>\n",
       "      <td>-0.031320</td>\n",
       "      <td>0.051219</td>\n",
       "      <td>0.069150</td>\n",
       "      <td>0.008879</td>\n",
       "      <td>-0.025917</td>\n",
       "      <td>0.027541</td>\n",
       "      <td>0.073314</td>\n",
       "      <td>1.000000</td>\n",
       "      <td>0.287317</td>\n",
       "      <td>-0.088378</td>\n",
       "      <td>0.102103</td>\n",
       "      <td>0.077025</td>\n",
       "      <td>-0.161977</td>\n",
       "      <td>-0.053331</td>\n",
       "    </tr>\n",
       "    <tr>\n",
       "      <th>freetime</th>\n",
       "      <td>-0.033131</td>\n",
       "      <td>-0.214751</td>\n",
       "      <td>0.008142</td>\n",
       "      <td>0.013401</td>\n",
       "      <td>0.028269</td>\n",
       "      <td>0.035790</td>\n",
       "      <td>-0.028551</td>\n",
       "      <td>0.147034</td>\n",
       "      <td>-0.042674</td>\n",
       "      <td>-0.010027</td>\n",
       "      <td>0.064844</td>\n",
       "      <td>-0.085075</td>\n",
       "      <td>-0.018211</td>\n",
       "      <td>-0.016157</td>\n",
       "      <td>0.053302</td>\n",
       "      <td>0.287317</td>\n",
       "      <td>1.000000</td>\n",
       "      <td>-0.118001</td>\n",
       "      <td>0.051930</td>\n",
       "      <td>0.057698</td>\n",
       "      <td>0.008865</td>\n",
       "      <td>0.048308</td>\n",
       "    </tr>\n",
       "    <tr>\n",
       "      <th>studytime</th>\n",
       "      <td>0.075681</td>\n",
       "      <td>0.271580</td>\n",
       "      <td>0.001344</td>\n",
       "      <td>-0.047527</td>\n",
       "      <td>0.056798</td>\n",
       "      <td>-0.007611</td>\n",
       "      <td>0.055395</td>\n",
       "      <td>0.049438</td>\n",
       "      <td>0.132950</td>\n",
       "      <td>0.211262</td>\n",
       "      <td>0.091712</td>\n",
       "      <td>0.106080</td>\n",
       "      <td>0.125547</td>\n",
       "      <td>0.061561</td>\n",
       "      <td>-0.054428</td>\n",
       "      <td>-0.088378</td>\n",
       "      <td>-0.118001</td>\n",
       "      <td>1.000000</td>\n",
       "      <td>-0.081188</td>\n",
       "      <td>-0.147012</td>\n",
       "      <td>0.091603</td>\n",
       "      <td>0.017735</td>\n",
       "    </tr>\n",
       "    <tr>\n",
       "      <th>absences</th>\n",
       "      <td>0.087886</td>\n",
       "      <td>-0.025119</td>\n",
       "      <td>0.155469</td>\n",
       "      <td>-0.029621</td>\n",
       "      <td>0.050641</td>\n",
       "      <td>-0.000657</td>\n",
       "      <td>-0.071965</td>\n",
       "      <td>-0.056282</td>\n",
       "      <td>0.039308</td>\n",
       "      <td>-0.064137</td>\n",
       "      <td>0.035636</td>\n",
       "      <td>0.073803</td>\n",
       "      <td>0.028147</td>\n",
       "      <td>0.046090</td>\n",
       "      <td>-0.043191</td>\n",
       "      <td>0.102103</td>\n",
       "      <td>0.051930</td>\n",
       "      <td>-0.081188</td>\n",
       "      <td>1.000000</td>\n",
       "      <td>0.092437</td>\n",
       "      <td>0.081274</td>\n",
       "      <td>0.307899</td>\n",
       "    </tr>\n",
       "    <tr>\n",
       "      <th>failures</th>\n",
       "      <td>-0.050833</td>\n",
       "      <td>0.015844</td>\n",
       "      <td>0.202576</td>\n",
       "      <td>-0.101922</td>\n",
       "      <td>-0.240059</td>\n",
       "      <td>-0.046131</td>\n",
       "      <td>0.002831</td>\n",
       "      <td>-0.015359</td>\n",
       "      <td>-0.070020</td>\n",
       "      <td>-0.123590</td>\n",
       "      <td>-0.044357</td>\n",
       "      <td>-0.095110</td>\n",
       "      <td>-0.036053</td>\n",
       "      <td>0.084532</td>\n",
       "      <td>0.034191</td>\n",
       "      <td>0.077025</td>\n",
       "      <td>0.057698</td>\n",
       "      <td>-0.147012</td>\n",
       "      <td>0.092437</td>\n",
       "      <td>1.000000</td>\n",
       "      <td>-0.316455</td>\n",
       "      <td>-0.197345</td>\n",
       "    </tr>\n",
       "    <tr>\n",
       "      <th>score</th>\n",
       "      <td>0.035723</td>\n",
       "      <td>-0.114883</td>\n",
       "      <td>-0.159306</td>\n",
       "      <td>0.115024</td>\n",
       "      <td>0.210676</td>\n",
       "      <td>0.009286</td>\n",
       "      <td>-0.080734</td>\n",
       "      <td>0.037281</td>\n",
       "      <td>-0.043731</td>\n",
       "      <td>0.094491</td>\n",
       "      <td>0.027483</td>\n",
       "      <td>0.048286</td>\n",
       "      <td>0.080582</td>\n",
       "      <td>-0.109951</td>\n",
       "      <td>-0.021526</td>\n",
       "      <td>-0.161977</td>\n",
       "      <td>0.008865</td>\n",
       "      <td>0.091603</td>\n",
       "      <td>0.081274</td>\n",
       "      <td>-0.316455</td>\n",
       "      <td>1.000000</td>\n",
       "      <td>0.754867</td>\n",
       "    </tr>\n",
       "    <tr>\n",
       "      <th>score_ind</th>\n",
       "      <td>-0.008222</td>\n",
       "      <td>-0.060183</td>\n",
       "      <td>-0.103340</td>\n",
       "      <td>0.037856</td>\n",
       "      <td>0.122511</td>\n",
       "      <td>0.057661</td>\n",
       "      <td>-0.089234</td>\n",
       "      <td>0.025086</td>\n",
       "      <td>0.034810</td>\n",
       "      <td>0.088047</td>\n",
       "      <td>-0.020173</td>\n",
       "      <td>0.035520</td>\n",
       "      <td>0.062081</td>\n",
       "      <td>-0.127435</td>\n",
       "      <td>-0.019490</td>\n",
       "      <td>-0.053331</td>\n",
       "      <td>0.048308</td>\n",
       "      <td>0.017735</td>\n",
       "      <td>0.307899</td>\n",
       "      <td>-0.197345</td>\n",
       "      <td>0.754867</td>\n",
       "      <td>1.000000</td>\n",
       "    </tr>\n",
       "  </tbody>\n",
       "</table>\n",
       "</div>"
      ],
      "text/plain": [
       "                 school_GP     sex_F       age  address_U   Par_edu   Par_job  \\\n",
       "school_GP         1.000000 -0.044621 -0.384732   0.327484  0.102585  0.005179   \n",
       "sex_F            -0.044621  1.000000  0.053862  -0.010221 -0.073206 -0.059163   \n",
       "age              -0.384732  0.053862  1.000000  -0.173291 -0.157126 -0.033922   \n",
       "address_U         0.327484 -0.010221 -0.173291   1.000000  0.155307  0.107281   \n",
       "Par_edu           0.102585 -0.073206 -0.157126   0.155307  1.000000  0.104261   \n",
       "Par_job           0.005179 -0.059163 -0.033922   0.107281  0.104261  1.000000   \n",
       "famsize_GT3       0.049327  0.075431 -0.032765  -0.056858  0.086813 -0.009139   \n",
       "famrel_ind_good   0.053571 -0.024928  0.055020  -0.002602 -0.013203 -0.080214   \n",
       "support           0.176566  0.135648 -0.209709   0.031694  0.164238  0.040997   \n",
       "paid_int         -0.013004  0.125253  0.002248   0.084893  0.013476  0.049948   \n",
       "activities_int    0.075012 -0.072702 -0.003993  -0.050404  0.109727 -0.018040   \n",
       "higher_int        0.032706  0.188809 -0.064662   0.014558  0.027862 -0.046426   \n",
       "internet_int      0.026383  0.039160 -0.083201   0.113526  0.142078 -0.000938   \n",
       "romantic_int     -0.065696  0.127080  0.147655  -0.006862  0.010234  0.008423   \n",
       "health_ind_good   0.045071 -0.077153 -0.101650  -0.030533  0.012058 -0.008372   \n",
       "goout_ind_often   0.011746 -0.047446  0.091208   0.045556  0.013767  0.022513   \n",
       "freetime         -0.033131 -0.214751  0.008142   0.013401  0.028269  0.035790   \n",
       "studytime         0.075681  0.271580  0.001344  -0.047527  0.056798 -0.007611   \n",
       "absences          0.087886 -0.025119  0.155469  -0.029621  0.050641 -0.000657   \n",
       "failures         -0.050833  0.015844  0.202576  -0.101922 -0.240059 -0.046131   \n",
       "score             0.035723 -0.114883 -0.159306   0.115024  0.210676  0.009286   \n",
       "score_ind        -0.008222 -0.060183 -0.103340   0.037856  0.122511  0.057661   \n",
       "\n",
       "                 famsize_GT3  famrel_ind_good   support  paid_int  \\\n",
       "school_GP           0.049327         0.053571  0.176566 -0.013004   \n",
       "sex_F               0.075431        -0.024928  0.135648  0.125253   \n",
       "age                -0.032765         0.055020 -0.209709  0.002248   \n",
       "address_U          -0.056858        -0.002602  0.031694  0.084893   \n",
       "Par_edu             0.086813        -0.013203  0.164238  0.013476   \n",
       "Par_job            -0.009139        -0.080214  0.040997  0.049948   \n",
       "famsize_GT3         1.000000         0.033153  0.113838  0.077681   \n",
       "famrel_ind_good     0.033153         1.000000  0.040120  0.001077   \n",
       "support             0.113838         0.040120  1.000000  0.113211   \n",
       "paid_int            0.077681         0.001077  0.113211  1.000000   \n",
       "activities_int      0.068513         0.044149  0.000825 -0.007626   \n",
       "higher_int         -0.077463        -0.019571  0.066592  0.069448   \n",
       "internet_int        0.048574         0.055030  0.122211  0.117275   \n",
       "romantic_int       -0.010015        -0.005676  0.043536  0.064336   \n",
       "health_ind_good    -0.003224         0.088278  0.042440 -0.036180   \n",
       "goout_ind_often    -0.071822         0.055369 -0.031320  0.051219   \n",
       "freetime           -0.028551         0.147034 -0.042674 -0.010027   \n",
       "studytime           0.055395         0.049438  0.132950  0.211262   \n",
       "absences           -0.071965        -0.056282  0.039308 -0.064137   \n",
       "failures            0.002831        -0.015359 -0.070020 -0.123590   \n",
       "score              -0.080734         0.037281 -0.043731  0.094491   \n",
       "score_ind          -0.089234         0.025086  0.034810  0.088047   \n",
       "\n",
       "                 activities_int  higher_int  internet_int  romantic_int  \\\n",
       "school_GP              0.075012    0.032706      0.026383     -0.065696   \n",
       "sex_F                 -0.072702    0.188809      0.039160      0.127080   \n",
       "age                   -0.003993   -0.064662     -0.083201      0.147655   \n",
       "address_U             -0.050404    0.014558      0.113526     -0.006862   \n",
       "Par_edu                0.109727    0.027862      0.142078      0.010234   \n",
       "Par_job               -0.018040   -0.046426     -0.000938      0.008423   \n",
       "famsize_GT3            0.068513   -0.077463      0.048574     -0.010015   \n",
       "famrel_ind_good        0.044149   -0.019571      0.055030     -0.005676   \n",
       "support                0.000825    0.066592      0.122211      0.043536   \n",
       "paid_int              -0.007626    0.069448      0.117275      0.064336   \n",
       "activities_int         1.000000    0.053386     -0.023739      0.014748   \n",
       "higher_int             0.053386    1.000000     -0.046504     -0.014881   \n",
       "internet_int          -0.023739   -0.046504      1.000000      0.084193   \n",
       "romantic_int           0.014748   -0.014881      0.084193      1.000000   \n",
       "health_ind_good        0.063890    0.039571      0.009728      0.008529   \n",
       "goout_ind_often        0.069150    0.008879     -0.025917      0.027541   \n",
       "freetime               0.064844   -0.085075     -0.018211     -0.016157   \n",
       "studytime              0.091712    0.106080      0.125547      0.061561   \n",
       "absences               0.035636    0.073803      0.028147      0.046090   \n",
       "failures              -0.044357   -0.095110     -0.036053      0.084532   \n",
       "score                  0.027483    0.048286      0.080582     -0.109951   \n",
       "score_ind             -0.020173    0.035520      0.062081     -0.127435   \n",
       "\n",
       "                 health_ind_good  goout_ind_often  freetime  studytime  \\\n",
       "school_GP               0.045071         0.011746 -0.033131   0.075681   \n",
       "sex_F                  -0.077153        -0.047446 -0.214751   0.271580   \n",
       "age                    -0.101650         0.091208  0.008142   0.001344   \n",
       "address_U              -0.030533         0.045556  0.013401  -0.047527   \n",
       "Par_edu                 0.012058         0.013767  0.028269   0.056798   \n",
       "Par_job                -0.008372         0.022513  0.035790  -0.007611   \n",
       "famsize_GT3            -0.003224        -0.071822 -0.028551   0.055395   \n",
       "famrel_ind_good         0.088278         0.055369  0.147034   0.049438   \n",
       "support                 0.042440        -0.031320 -0.042674   0.132950   \n",
       "paid_int               -0.036180         0.051219 -0.010027   0.211262   \n",
       "activities_int          0.063890         0.069150  0.064844   0.091712   \n",
       "higher_int              0.039571         0.008879 -0.085075   0.106080   \n",
       "internet_int            0.009728        -0.025917 -0.018211   0.125547   \n",
       "romantic_int            0.008529         0.027541 -0.016157   0.061561   \n",
       "health_ind_good         1.000000         0.073314  0.053302  -0.054428   \n",
       "goout_ind_often         0.073314         1.000000  0.287317  -0.088378   \n",
       "freetime                0.053302         0.287317  1.000000  -0.118001   \n",
       "studytime              -0.054428        -0.088378 -0.118001   1.000000   \n",
       "absences               -0.043191         0.102103  0.051930  -0.081188   \n",
       "failures                0.034191         0.077025  0.057698  -0.147012   \n",
       "score                  -0.021526        -0.161977  0.008865   0.091603   \n",
       "score_ind              -0.019490        -0.053331  0.048308   0.017735   \n",
       "\n",
       "                 absences  failures     score  score_ind  \n",
       "school_GP        0.087886 -0.050833  0.035723  -0.008222  \n",
       "sex_F           -0.025119  0.015844 -0.114883  -0.060183  \n",
       "age              0.155469  0.202576 -0.159306  -0.103340  \n",
       "address_U       -0.029621 -0.101922  0.115024   0.037856  \n",
       "Par_edu          0.050641 -0.240059  0.210676   0.122511  \n",
       "Par_job         -0.000657 -0.046131  0.009286   0.057661  \n",
       "famsize_GT3     -0.071965  0.002831 -0.080734  -0.089234  \n",
       "famrel_ind_good -0.056282 -0.015359  0.037281   0.025086  \n",
       "support          0.039308 -0.070020 -0.043731   0.034810  \n",
       "paid_int        -0.064137 -0.123590  0.094491   0.088047  \n",
       "activities_int   0.035636 -0.044357  0.027483  -0.020173  \n",
       "higher_int       0.073803 -0.095110  0.048286   0.035520  \n",
       "internet_int     0.028147 -0.036053  0.080582   0.062081  \n",
       "romantic_int     0.046090  0.084532 -0.109951  -0.127435  \n",
       "health_ind_good -0.043191  0.034191 -0.021526  -0.019490  \n",
       "goout_ind_often  0.102103  0.077025 -0.161977  -0.053331  \n",
       "freetime         0.051930  0.057698  0.008865   0.048308  \n",
       "studytime       -0.081188 -0.147012  0.091603   0.017735  \n",
       "absences         1.000000  0.092437  0.081274   0.307899  \n",
       "failures         0.092437  1.000000 -0.316455  -0.197345  \n",
       "score            0.081274 -0.316455  1.000000   0.754867  \n",
       "score_ind        0.307899 -0.197345  0.754867   1.000000  "
      ]
     },
     "metadata": {},
     "output_type": "display_data"
    },
    {
     "data": {
      "text/plain": [
       "<matplotlib.axes._subplots.AxesSubplot at 0x24252114788>"
      ]
     },
     "execution_count": 103,
     "metadata": {},
     "output_type": "execute_result"
    },
    {
     "data": {
      "image/png": "[encoded data removed]",
      "text/plain": [
       "<Figure size 720x720 with 2 Axes>"
      ]
     },
     "metadata": {
      "needs_background": "light"
     },
     "output_type": "display_data"
    }
   ],
   "source": [
    "fig, ax = plt.subplots(figsize=(10,10))\n",
    "display(df2.corr())\n",
    "sns.heatmap(df2.corr())"
   ]
  },
  {
   "cell_type": "markdown",
   "metadata": {},
   "source": [
    "Отобранные признаки будем использовать для построения модели в дальнейшем"
   ]
  },
  {
   "cell_type": "code",
   "execution_count": 105,
   "metadata": {},
   "outputs": [],
   "source": [
    "df_for_model = df2"
   ]
  },
  {
   "cell_type": "markdown",
   "metadata": {},
   "source": [
    "# Итоги"
   ]
  },
  {
   "cell_type": "markdown",
   "metadata": {},
   "source": [
    "Таким образом были отобраны признаки, которые на мой взгляд могут быть использованы для модели машинного обучения, которая будет решать поставленную задачу оценки уровня риска учащихся по баллу на госэкзамене по математике.\n",
    "\n",
    "Комментарий для ментора:\n",
    "Поскольку времени на выполнение проекта было мало, не удалось хорошо проработать и изучить какие-то дополнительные материалы (не представленные в курсе). На мой взгляд, оценка значимости признаков выполнена в несколько эмпирическом ключе, имеет место быть индукция. К тому же сам датасет небольшой и данных явно мало, чтобы сделать максимально точные выводы. Однако считаю, что проделанная работа в целом корректна."
   ]
  }
 ],
 "metadata": {
  "kernelspec": {
   "display_name": "Python 3",
   "language": "python",
   "name": "python3"
  },
  "language_info": {
   "codemirror_mode": {
    "name": "ipython",
    "version": 3
   },
   "file_extension": ".py",
   "mimetype": "text/x-python",
   "name": "python",
   "nbconvert_exporter": "python",
   "pygments_lexer": "ipython3",
   "version": "3.7.6"
  }
 },
 "nbformat": 4,
 "nbformat_minor": 4
}
